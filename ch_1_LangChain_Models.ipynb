{
  "nbformat": 4,
  "nbformat_minor": 0,
  "metadata": {
    "colab": {
      "provenance": []
    },
    "kernelspec": {
      "name": "python3",
      "display_name": "Python 3"
    },
    "language_info": {
      "name": "python"
    },
    "widgets": {
      "application/vnd.jupyter.widget-state+json": {
        "54bc81b895254c1da767bb6cb90d04dd": {
          "model_module": "@jupyter-widgets/controls",
          "model_name": "HBoxModel",
          "model_module_version": "1.5.0",
          "state": {
            "_dom_classes": [],
            "_model_module": "@jupyter-widgets/controls",
            "_model_module_version": "1.5.0",
            "_model_name": "HBoxModel",
            "_view_count": null,
            "_view_module": "@jupyter-widgets/controls",
            "_view_module_version": "1.5.0",
            "_view_name": "HBoxView",
            "box_style": "",
            "children": [
              "IPY_MODEL_05d1e1b6f61e4fc482dd1c1e36fce3a4",
              "IPY_MODEL_d7231cd15b9a4d1a9b3ad3cace844f53",
              "IPY_MODEL_072547f29a6244bdbecf4de919458f9a"
            ],
            "layout": "IPY_MODEL_a5928f5c735b485087d7f301f8a4825e"
          }
        },
        "05d1e1b6f61e4fc482dd1c1e36fce3a4": {
          "model_module": "@jupyter-widgets/controls",
          "model_name": "HTMLModel",
          "model_module_version": "1.5.0",
          "state": {
            "_dom_classes": [],
            "_model_module": "@jupyter-widgets/controls",
            "_model_module_version": "1.5.0",
            "_model_name": "HTMLModel",
            "_view_count": null,
            "_view_module": "@jupyter-widgets/controls",
            "_view_module_version": "1.5.0",
            "_view_name": "HTMLView",
            "description": "",
            "description_tooltip": null,
            "layout": "IPY_MODEL_1a9438196df542248596341abcaa5548",
            "placeholder": "​",
            "style": "IPY_MODEL_185369576d1b479f8f929af63e296040",
            "value": "tokenizer_config.json: "
          }
        },
        "d7231cd15b9a4d1a9b3ad3cace844f53": {
          "model_module": "@jupyter-widgets/controls",
          "model_name": "FloatProgressModel",
          "model_module_version": "1.5.0",
          "state": {
            "_dom_classes": [],
            "_model_module": "@jupyter-widgets/controls",
            "_model_module_version": "1.5.0",
            "_model_name": "FloatProgressModel",
            "_view_count": null,
            "_view_module": "@jupyter-widgets/controls",
            "_view_module_version": "1.5.0",
            "_view_name": "ProgressView",
            "bar_style": "success",
            "description": "",
            "description_tooltip": null,
            "layout": "IPY_MODEL_8624d135dced440fa126c78d58ead6f2",
            "max": 1,
            "min": 0,
            "orientation": "horizontal",
            "style": "IPY_MODEL_f0cabeec6aa04d2e825d01dc197c1c01",
            "value": 1
          }
        },
        "072547f29a6244bdbecf4de919458f9a": {
          "model_module": "@jupyter-widgets/controls",
          "model_name": "HTMLModel",
          "model_module_version": "1.5.0",
          "state": {
            "_dom_classes": [],
            "_model_module": "@jupyter-widgets/controls",
            "_model_module_version": "1.5.0",
            "_model_name": "HTMLModel",
            "_view_count": null,
            "_view_module": "@jupyter-widgets/controls",
            "_view_module_version": "1.5.0",
            "_view_name": "HTMLView",
            "description": "",
            "description_tooltip": null,
            "layout": "IPY_MODEL_03fd47640a0249e685343eb9496e5b6e",
            "placeholder": "​",
            "style": "IPY_MODEL_e107f808cf20456cacb84d42735714bb",
            "value": " 1.29k/? [00:00&lt;00:00, 73.8kB/s]"
          }
        },
        "a5928f5c735b485087d7f301f8a4825e": {
          "model_module": "@jupyter-widgets/base",
          "model_name": "LayoutModel",
          "model_module_version": "1.2.0",
          "state": {
            "_model_module": "@jupyter-widgets/base",
            "_model_module_version": "1.2.0",
            "_model_name": "LayoutModel",
            "_view_count": null,
            "_view_module": "@jupyter-widgets/base",
            "_view_module_version": "1.2.0",
            "_view_name": "LayoutView",
            "align_content": null,
            "align_items": null,
            "align_self": null,
            "border": null,
            "bottom": null,
            "display": null,
            "flex": null,
            "flex_flow": null,
            "grid_area": null,
            "grid_auto_columns": null,
            "grid_auto_flow": null,
            "grid_auto_rows": null,
            "grid_column": null,
            "grid_gap": null,
            "grid_row": null,
            "grid_template_areas": null,
            "grid_template_columns": null,
            "grid_template_rows": null,
            "height": null,
            "justify_content": null,
            "justify_items": null,
            "left": null,
            "margin": null,
            "max_height": null,
            "max_width": null,
            "min_height": null,
            "min_width": null,
            "object_fit": null,
            "object_position": null,
            "order": null,
            "overflow": null,
            "overflow_x": null,
            "overflow_y": null,
            "padding": null,
            "right": null,
            "top": null,
            "visibility": null,
            "width": null
          }
        },
        "1a9438196df542248596341abcaa5548": {
          "model_module": "@jupyter-widgets/base",
          "model_name": "LayoutModel",
          "model_module_version": "1.2.0",
          "state": {
            "_model_module": "@jupyter-widgets/base",
            "_model_module_version": "1.2.0",
            "_model_name": "LayoutModel",
            "_view_count": null,
            "_view_module": "@jupyter-widgets/base",
            "_view_module_version": "1.2.0",
            "_view_name": "LayoutView",
            "align_content": null,
            "align_items": null,
            "align_self": null,
            "border": null,
            "bottom": null,
            "display": null,
            "flex": null,
            "flex_flow": null,
            "grid_area": null,
            "grid_auto_columns": null,
            "grid_auto_flow": null,
            "grid_auto_rows": null,
            "grid_column": null,
            "grid_gap": null,
            "grid_row": null,
            "grid_template_areas": null,
            "grid_template_columns": null,
            "grid_template_rows": null,
            "height": null,
            "justify_content": null,
            "justify_items": null,
            "left": null,
            "margin": null,
            "max_height": null,
            "max_width": null,
            "min_height": null,
            "min_width": null,
            "object_fit": null,
            "object_position": null,
            "order": null,
            "overflow": null,
            "overflow_x": null,
            "overflow_y": null,
            "padding": null,
            "right": null,
            "top": null,
            "visibility": null,
            "width": null
          }
        },
        "185369576d1b479f8f929af63e296040": {
          "model_module": "@jupyter-widgets/controls",
          "model_name": "DescriptionStyleModel",
          "model_module_version": "1.5.0",
          "state": {
            "_model_module": "@jupyter-widgets/controls",
            "_model_module_version": "1.5.0",
            "_model_name": "DescriptionStyleModel",
            "_view_count": null,
            "_view_module": "@jupyter-widgets/base",
            "_view_module_version": "1.2.0",
            "_view_name": "StyleView",
            "description_width": ""
          }
        },
        "8624d135dced440fa126c78d58ead6f2": {
          "model_module": "@jupyter-widgets/base",
          "model_name": "LayoutModel",
          "model_module_version": "1.2.0",
          "state": {
            "_model_module": "@jupyter-widgets/base",
            "_model_module_version": "1.2.0",
            "_model_name": "LayoutModel",
            "_view_count": null,
            "_view_module": "@jupyter-widgets/base",
            "_view_module_version": "1.2.0",
            "_view_name": "LayoutView",
            "align_content": null,
            "align_items": null,
            "align_self": null,
            "border": null,
            "bottom": null,
            "display": null,
            "flex": null,
            "flex_flow": null,
            "grid_area": null,
            "grid_auto_columns": null,
            "grid_auto_flow": null,
            "grid_auto_rows": null,
            "grid_column": null,
            "grid_gap": null,
            "grid_row": null,
            "grid_template_areas": null,
            "grid_template_columns": null,
            "grid_template_rows": null,
            "height": null,
            "justify_content": null,
            "justify_items": null,
            "left": null,
            "margin": null,
            "max_height": null,
            "max_width": null,
            "min_height": null,
            "min_width": null,
            "object_fit": null,
            "object_position": null,
            "order": null,
            "overflow": null,
            "overflow_x": null,
            "overflow_y": null,
            "padding": null,
            "right": null,
            "top": null,
            "visibility": null,
            "width": "20px"
          }
        },
        "f0cabeec6aa04d2e825d01dc197c1c01": {
          "model_module": "@jupyter-widgets/controls",
          "model_name": "ProgressStyleModel",
          "model_module_version": "1.5.0",
          "state": {
            "_model_module": "@jupyter-widgets/controls",
            "_model_module_version": "1.5.0",
            "_model_name": "ProgressStyleModel",
            "_view_count": null,
            "_view_module": "@jupyter-widgets/base",
            "_view_module_version": "1.2.0",
            "_view_name": "StyleView",
            "bar_color": null,
            "description_width": ""
          }
        },
        "03fd47640a0249e685343eb9496e5b6e": {
          "model_module": "@jupyter-widgets/base",
          "model_name": "LayoutModel",
          "model_module_version": "1.2.0",
          "state": {
            "_model_module": "@jupyter-widgets/base",
            "_model_module_version": "1.2.0",
            "_model_name": "LayoutModel",
            "_view_count": null,
            "_view_module": "@jupyter-widgets/base",
            "_view_module_version": "1.2.0",
            "_view_name": "LayoutView",
            "align_content": null,
            "align_items": null,
            "align_self": null,
            "border": null,
            "bottom": null,
            "display": null,
            "flex": null,
            "flex_flow": null,
            "grid_area": null,
            "grid_auto_columns": null,
            "grid_auto_flow": null,
            "grid_auto_rows": null,
            "grid_column": null,
            "grid_gap": null,
            "grid_row": null,
            "grid_template_areas": null,
            "grid_template_columns": null,
            "grid_template_rows": null,
            "height": null,
            "justify_content": null,
            "justify_items": null,
            "left": null,
            "margin": null,
            "max_height": null,
            "max_width": null,
            "min_height": null,
            "min_width": null,
            "object_fit": null,
            "object_position": null,
            "order": null,
            "overflow": null,
            "overflow_x": null,
            "overflow_y": null,
            "padding": null,
            "right": null,
            "top": null,
            "visibility": null,
            "width": null
          }
        },
        "e107f808cf20456cacb84d42735714bb": {
          "model_module": "@jupyter-widgets/controls",
          "model_name": "DescriptionStyleModel",
          "model_module_version": "1.5.0",
          "state": {
            "_model_module": "@jupyter-widgets/controls",
            "_model_module_version": "1.5.0",
            "_model_name": "DescriptionStyleModel",
            "_view_count": null,
            "_view_module": "@jupyter-widgets/base",
            "_view_module_version": "1.2.0",
            "_view_name": "StyleView",
            "description_width": ""
          }
        },
        "df08b36c31c74696bf0e9234eeac46ce": {
          "model_module": "@jupyter-widgets/controls",
          "model_name": "HBoxModel",
          "model_module_version": "1.5.0",
          "state": {
            "_dom_classes": [],
            "_model_module": "@jupyter-widgets/controls",
            "_model_module_version": "1.5.0",
            "_model_name": "HBoxModel",
            "_view_count": null,
            "_view_module": "@jupyter-widgets/controls",
            "_view_module_version": "1.5.0",
            "_view_name": "HBoxView",
            "box_style": "",
            "children": [
              "IPY_MODEL_b38f204dd3ca40ea8afef9c0525ad720",
              "IPY_MODEL_2bad6686f9f948f888b0869a0dcf3edc",
              "IPY_MODEL_14d5405662d94f70b6f9b07ea026cd5a"
            ],
            "layout": "IPY_MODEL_8e37d83ed9574abbb475297c30c50422"
          }
        },
        "b38f204dd3ca40ea8afef9c0525ad720": {
          "model_module": "@jupyter-widgets/controls",
          "model_name": "HTMLModel",
          "model_module_version": "1.5.0",
          "state": {
            "_dom_classes": [],
            "_model_module": "@jupyter-widgets/controls",
            "_model_module_version": "1.5.0",
            "_model_name": "HTMLModel",
            "_view_count": null,
            "_view_module": "@jupyter-widgets/controls",
            "_view_module_version": "1.5.0",
            "_view_name": "HTMLView",
            "description": "",
            "description_tooltip": null,
            "layout": "IPY_MODEL_bee2352a2c464b8990d5cab26961b90c",
            "placeholder": "​",
            "style": "IPY_MODEL_bf18dd1f4fb6440b9652010355c52d1d",
            "value": "tokenizer.model: 100%"
          }
        },
        "2bad6686f9f948f888b0869a0dcf3edc": {
          "model_module": "@jupyter-widgets/controls",
          "model_name": "FloatProgressModel",
          "model_module_version": "1.5.0",
          "state": {
            "_dom_classes": [],
            "_model_module": "@jupyter-widgets/controls",
            "_model_module_version": "1.5.0",
            "_model_name": "FloatProgressModel",
            "_view_count": null,
            "_view_module": "@jupyter-widgets/controls",
            "_view_module_version": "1.5.0",
            "_view_name": "ProgressView",
            "bar_style": "success",
            "description": "",
            "description_tooltip": null,
            "layout": "IPY_MODEL_a52f15c4d8c1435e96189e60114e9275",
            "max": 499723,
            "min": 0,
            "orientation": "horizontal",
            "style": "IPY_MODEL_305a272628714290b083ef89d20631a3",
            "value": 499723
          }
        },
        "14d5405662d94f70b6f9b07ea026cd5a": {
          "model_module": "@jupyter-widgets/controls",
          "model_name": "HTMLModel",
          "model_module_version": "1.5.0",
          "state": {
            "_dom_classes": [],
            "_model_module": "@jupyter-widgets/controls",
            "_model_module_version": "1.5.0",
            "_model_name": "HTMLModel",
            "_view_count": null,
            "_view_module": "@jupyter-widgets/controls",
            "_view_module_version": "1.5.0",
            "_view_name": "HTMLView",
            "description": "",
            "description_tooltip": null,
            "layout": "IPY_MODEL_fa1517cdb9be4a18b778a58a96473c3d",
            "placeholder": "​",
            "style": "IPY_MODEL_24b46640f2e9486e9712de4eeb651266",
            "value": " 500k/500k [00:00&lt;00:00, 997kB/s]"
          }
        },
        "8e37d83ed9574abbb475297c30c50422": {
          "model_module": "@jupyter-widgets/base",
          "model_name": "LayoutModel",
          "model_module_version": "1.2.0",
          "state": {
            "_model_module": "@jupyter-widgets/base",
            "_model_module_version": "1.2.0",
            "_model_name": "LayoutModel",
            "_view_count": null,
            "_view_module": "@jupyter-widgets/base",
            "_view_module_version": "1.2.0",
            "_view_name": "LayoutView",
            "align_content": null,
            "align_items": null,
            "align_self": null,
            "border": null,
            "bottom": null,
            "display": null,
            "flex": null,
            "flex_flow": null,
            "grid_area": null,
            "grid_auto_columns": null,
            "grid_auto_flow": null,
            "grid_auto_rows": null,
            "grid_column": null,
            "grid_gap": null,
            "grid_row": null,
            "grid_template_areas": null,
            "grid_template_columns": null,
            "grid_template_rows": null,
            "height": null,
            "justify_content": null,
            "justify_items": null,
            "left": null,
            "margin": null,
            "max_height": null,
            "max_width": null,
            "min_height": null,
            "min_width": null,
            "object_fit": null,
            "object_position": null,
            "order": null,
            "overflow": null,
            "overflow_x": null,
            "overflow_y": null,
            "padding": null,
            "right": null,
            "top": null,
            "visibility": null,
            "width": null
          }
        },
        "bee2352a2c464b8990d5cab26961b90c": {
          "model_module": "@jupyter-widgets/base",
          "model_name": "LayoutModel",
          "model_module_version": "1.2.0",
          "state": {
            "_model_module": "@jupyter-widgets/base",
            "_model_module_version": "1.2.0",
            "_model_name": "LayoutModel",
            "_view_count": null,
            "_view_module": "@jupyter-widgets/base",
            "_view_module_version": "1.2.0",
            "_view_name": "LayoutView",
            "align_content": null,
            "align_items": null,
            "align_self": null,
            "border": null,
            "bottom": null,
            "display": null,
            "flex": null,
            "flex_flow": null,
            "grid_area": null,
            "grid_auto_columns": null,
            "grid_auto_flow": null,
            "grid_auto_rows": null,
            "grid_column": null,
            "grid_gap": null,
            "grid_row": null,
            "grid_template_areas": null,
            "grid_template_columns": null,
            "grid_template_rows": null,
            "height": null,
            "justify_content": null,
            "justify_items": null,
            "left": null,
            "margin": null,
            "max_height": null,
            "max_width": null,
            "min_height": null,
            "min_width": null,
            "object_fit": null,
            "object_position": null,
            "order": null,
            "overflow": null,
            "overflow_x": null,
            "overflow_y": null,
            "padding": null,
            "right": null,
            "top": null,
            "visibility": null,
            "width": null
          }
        },
        "bf18dd1f4fb6440b9652010355c52d1d": {
          "model_module": "@jupyter-widgets/controls",
          "model_name": "DescriptionStyleModel",
          "model_module_version": "1.5.0",
          "state": {
            "_model_module": "@jupyter-widgets/controls",
            "_model_module_version": "1.5.0",
            "_model_name": "DescriptionStyleModel",
            "_view_count": null,
            "_view_module": "@jupyter-widgets/base",
            "_view_module_version": "1.2.0",
            "_view_name": "StyleView",
            "description_width": ""
          }
        },
        "a52f15c4d8c1435e96189e60114e9275": {
          "model_module": "@jupyter-widgets/base",
          "model_name": "LayoutModel",
          "model_module_version": "1.2.0",
          "state": {
            "_model_module": "@jupyter-widgets/base",
            "_model_module_version": "1.2.0",
            "_model_name": "LayoutModel",
            "_view_count": null,
            "_view_module": "@jupyter-widgets/base",
            "_view_module_version": "1.2.0",
            "_view_name": "LayoutView",
            "align_content": null,
            "align_items": null,
            "align_self": null,
            "border": null,
            "bottom": null,
            "display": null,
            "flex": null,
            "flex_flow": null,
            "grid_area": null,
            "grid_auto_columns": null,
            "grid_auto_flow": null,
            "grid_auto_rows": null,
            "grid_column": null,
            "grid_gap": null,
            "grid_row": null,
            "grid_template_areas": null,
            "grid_template_columns": null,
            "grid_template_rows": null,
            "height": null,
            "justify_content": null,
            "justify_items": null,
            "left": null,
            "margin": null,
            "max_height": null,
            "max_width": null,
            "min_height": null,
            "min_width": null,
            "object_fit": null,
            "object_position": null,
            "order": null,
            "overflow": null,
            "overflow_x": null,
            "overflow_y": null,
            "padding": null,
            "right": null,
            "top": null,
            "visibility": null,
            "width": null
          }
        },
        "305a272628714290b083ef89d20631a3": {
          "model_module": "@jupyter-widgets/controls",
          "model_name": "ProgressStyleModel",
          "model_module_version": "1.5.0",
          "state": {
            "_model_module": "@jupyter-widgets/controls",
            "_model_module_version": "1.5.0",
            "_model_name": "ProgressStyleModel",
            "_view_count": null,
            "_view_module": "@jupyter-widgets/base",
            "_view_module_version": "1.2.0",
            "_view_name": "StyleView",
            "bar_color": null,
            "description_width": ""
          }
        },
        "fa1517cdb9be4a18b778a58a96473c3d": {
          "model_module": "@jupyter-widgets/base",
          "model_name": "LayoutModel",
          "model_module_version": "1.2.0",
          "state": {
            "_model_module": "@jupyter-widgets/base",
            "_model_module_version": "1.2.0",
            "_model_name": "LayoutModel",
            "_view_count": null,
            "_view_module": "@jupyter-widgets/base",
            "_view_module_version": "1.2.0",
            "_view_name": "LayoutView",
            "align_content": null,
            "align_items": null,
            "align_self": null,
            "border": null,
            "bottom": null,
            "display": null,
            "flex": null,
            "flex_flow": null,
            "grid_area": null,
            "grid_auto_columns": null,
            "grid_auto_flow": null,
            "grid_auto_rows": null,
            "grid_column": null,
            "grid_gap": null,
            "grid_row": null,
            "grid_template_areas": null,
            "grid_template_columns": null,
            "grid_template_rows": null,
            "height": null,
            "justify_content": null,
            "justify_items": null,
            "left": null,
            "margin": null,
            "max_height": null,
            "max_width": null,
            "min_height": null,
            "min_width": null,
            "object_fit": null,
            "object_position": null,
            "order": null,
            "overflow": null,
            "overflow_x": null,
            "overflow_y": null,
            "padding": null,
            "right": null,
            "top": null,
            "visibility": null,
            "width": null
          }
        },
        "24b46640f2e9486e9712de4eeb651266": {
          "model_module": "@jupyter-widgets/controls",
          "model_name": "DescriptionStyleModel",
          "model_module_version": "1.5.0",
          "state": {
            "_model_module": "@jupyter-widgets/controls",
            "_model_module_version": "1.5.0",
            "_model_name": "DescriptionStyleModel",
            "_view_count": null,
            "_view_module": "@jupyter-widgets/base",
            "_view_module_version": "1.2.0",
            "_view_name": "StyleView",
            "description_width": ""
          }
        },
        "9e60901483d44fc3926793a8930bba20": {
          "model_module": "@jupyter-widgets/controls",
          "model_name": "HBoxModel",
          "model_module_version": "1.5.0",
          "state": {
            "_dom_classes": [],
            "_model_module": "@jupyter-widgets/controls",
            "_model_module_version": "1.5.0",
            "_model_name": "HBoxModel",
            "_view_count": null,
            "_view_module": "@jupyter-widgets/controls",
            "_view_module_version": "1.5.0",
            "_view_name": "HBoxView",
            "box_style": "",
            "children": [
              "IPY_MODEL_07a559ec363740f1906f5382d7d769e2",
              "IPY_MODEL_9de545a940cc4f6499e9ae9240f6cb75",
              "IPY_MODEL_2f6a0f6a22de44c7848869782fcd8ab9"
            ],
            "layout": "IPY_MODEL_69d1b8c1e0614f75ac3dc61c339f2829"
          }
        },
        "07a559ec363740f1906f5382d7d769e2": {
          "model_module": "@jupyter-widgets/controls",
          "model_name": "HTMLModel",
          "model_module_version": "1.5.0",
          "state": {
            "_dom_classes": [],
            "_model_module": "@jupyter-widgets/controls",
            "_model_module_version": "1.5.0",
            "_model_name": "HTMLModel",
            "_view_count": null,
            "_view_module": "@jupyter-widgets/controls",
            "_view_module_version": "1.5.0",
            "_view_name": "HTMLView",
            "description": "",
            "description_tooltip": null,
            "layout": "IPY_MODEL_0e7c457fc840488895be0ec60d911e67",
            "placeholder": "​",
            "style": "IPY_MODEL_372c5f4cad2a48cc9b74b886c68e2f20",
            "value": "tokenizer.json: "
          }
        },
        "9de545a940cc4f6499e9ae9240f6cb75": {
          "model_module": "@jupyter-widgets/controls",
          "model_name": "FloatProgressModel",
          "model_module_version": "1.5.0",
          "state": {
            "_dom_classes": [],
            "_model_module": "@jupyter-widgets/controls",
            "_model_module_version": "1.5.0",
            "_model_name": "FloatProgressModel",
            "_view_count": null,
            "_view_module": "@jupyter-widgets/controls",
            "_view_module_version": "1.5.0",
            "_view_name": "ProgressView",
            "bar_style": "success",
            "description": "",
            "description_tooltip": null,
            "layout": "IPY_MODEL_80f36d3f1c7f4e78bbca13f724197ff0",
            "max": 1,
            "min": 0,
            "orientation": "horizontal",
            "style": "IPY_MODEL_27e20476cc634a8a9836c5cb94b0a420",
            "value": 1
          }
        },
        "2f6a0f6a22de44c7848869782fcd8ab9": {
          "model_module": "@jupyter-widgets/controls",
          "model_name": "HTMLModel",
          "model_module_version": "1.5.0",
          "state": {
            "_dom_classes": [],
            "_model_module": "@jupyter-widgets/controls",
            "_model_module_version": "1.5.0",
            "_model_name": "HTMLModel",
            "_view_count": null,
            "_view_module": "@jupyter-widgets/controls",
            "_view_module_version": "1.5.0",
            "_view_name": "HTMLView",
            "description": "",
            "description_tooltip": null,
            "layout": "IPY_MODEL_f81cf1a87d1e48ffb05ba95e8b9295bd",
            "placeholder": "​",
            "style": "IPY_MODEL_4aeb7b1ff3ff42b3ac2215faba1278ea",
            "value": " 1.84M/? [00:00&lt;00:00, 24.4MB/s]"
          }
        },
        "69d1b8c1e0614f75ac3dc61c339f2829": {
          "model_module": "@jupyter-widgets/base",
          "model_name": "LayoutModel",
          "model_module_version": "1.2.0",
          "state": {
            "_model_module": "@jupyter-widgets/base",
            "_model_module_version": "1.2.0",
            "_model_name": "LayoutModel",
            "_view_count": null,
            "_view_module": "@jupyter-widgets/base",
            "_view_module_version": "1.2.0",
            "_view_name": "LayoutView",
            "align_content": null,
            "align_items": null,
            "align_self": null,
            "border": null,
            "bottom": null,
            "display": null,
            "flex": null,
            "flex_flow": null,
            "grid_area": null,
            "grid_auto_columns": null,
            "grid_auto_flow": null,
            "grid_auto_rows": null,
            "grid_column": null,
            "grid_gap": null,
            "grid_row": null,
            "grid_template_areas": null,
            "grid_template_columns": null,
            "grid_template_rows": null,
            "height": null,
            "justify_content": null,
            "justify_items": null,
            "left": null,
            "margin": null,
            "max_height": null,
            "max_width": null,
            "min_height": null,
            "min_width": null,
            "object_fit": null,
            "object_position": null,
            "order": null,
            "overflow": null,
            "overflow_x": null,
            "overflow_y": null,
            "padding": null,
            "right": null,
            "top": null,
            "visibility": null,
            "width": null
          }
        },
        "0e7c457fc840488895be0ec60d911e67": {
          "model_module": "@jupyter-widgets/base",
          "model_name": "LayoutModel",
          "model_module_version": "1.2.0",
          "state": {
            "_model_module": "@jupyter-widgets/base",
            "_model_module_version": "1.2.0",
            "_model_name": "LayoutModel",
            "_view_count": null,
            "_view_module": "@jupyter-widgets/base",
            "_view_module_version": "1.2.0",
            "_view_name": "LayoutView",
            "align_content": null,
            "align_items": null,
            "align_self": null,
            "border": null,
            "bottom": null,
            "display": null,
            "flex": null,
            "flex_flow": null,
            "grid_area": null,
            "grid_auto_columns": null,
            "grid_auto_flow": null,
            "grid_auto_rows": null,
            "grid_column": null,
            "grid_gap": null,
            "grid_row": null,
            "grid_template_areas": null,
            "grid_template_columns": null,
            "grid_template_rows": null,
            "height": null,
            "justify_content": null,
            "justify_items": null,
            "left": null,
            "margin": null,
            "max_height": null,
            "max_width": null,
            "min_height": null,
            "min_width": null,
            "object_fit": null,
            "object_position": null,
            "order": null,
            "overflow": null,
            "overflow_x": null,
            "overflow_y": null,
            "padding": null,
            "right": null,
            "top": null,
            "visibility": null,
            "width": null
          }
        },
        "372c5f4cad2a48cc9b74b886c68e2f20": {
          "model_module": "@jupyter-widgets/controls",
          "model_name": "DescriptionStyleModel",
          "model_module_version": "1.5.0",
          "state": {
            "_model_module": "@jupyter-widgets/controls",
            "_model_module_version": "1.5.0",
            "_model_name": "DescriptionStyleModel",
            "_view_count": null,
            "_view_module": "@jupyter-widgets/base",
            "_view_module_version": "1.2.0",
            "_view_name": "StyleView",
            "description_width": ""
          }
        },
        "80f36d3f1c7f4e78bbca13f724197ff0": {
          "model_module": "@jupyter-widgets/base",
          "model_name": "LayoutModel",
          "model_module_version": "1.2.0",
          "state": {
            "_model_module": "@jupyter-widgets/base",
            "_model_module_version": "1.2.0",
            "_model_name": "LayoutModel",
            "_view_count": null,
            "_view_module": "@jupyter-widgets/base",
            "_view_module_version": "1.2.0",
            "_view_name": "LayoutView",
            "align_content": null,
            "align_items": null,
            "align_self": null,
            "border": null,
            "bottom": null,
            "display": null,
            "flex": null,
            "flex_flow": null,
            "grid_area": null,
            "grid_auto_columns": null,
            "grid_auto_flow": null,
            "grid_auto_rows": null,
            "grid_column": null,
            "grid_gap": null,
            "grid_row": null,
            "grid_template_areas": null,
            "grid_template_columns": null,
            "grid_template_rows": null,
            "height": null,
            "justify_content": null,
            "justify_items": null,
            "left": null,
            "margin": null,
            "max_height": null,
            "max_width": null,
            "min_height": null,
            "min_width": null,
            "object_fit": null,
            "object_position": null,
            "order": null,
            "overflow": null,
            "overflow_x": null,
            "overflow_y": null,
            "padding": null,
            "right": null,
            "top": null,
            "visibility": null,
            "width": "20px"
          }
        },
        "27e20476cc634a8a9836c5cb94b0a420": {
          "model_module": "@jupyter-widgets/controls",
          "model_name": "ProgressStyleModel",
          "model_module_version": "1.5.0",
          "state": {
            "_model_module": "@jupyter-widgets/controls",
            "_model_module_version": "1.5.0",
            "_model_name": "ProgressStyleModel",
            "_view_count": null,
            "_view_module": "@jupyter-widgets/base",
            "_view_module_version": "1.2.0",
            "_view_name": "StyleView",
            "bar_color": null,
            "description_width": ""
          }
        },
        "f81cf1a87d1e48ffb05ba95e8b9295bd": {
          "model_module": "@jupyter-widgets/base",
          "model_name": "LayoutModel",
          "model_module_version": "1.2.0",
          "state": {
            "_model_module": "@jupyter-widgets/base",
            "_model_module_version": "1.2.0",
            "_model_name": "LayoutModel",
            "_view_count": null,
            "_view_module": "@jupyter-widgets/base",
            "_view_module_version": "1.2.0",
            "_view_name": "LayoutView",
            "align_content": null,
            "align_items": null,
            "align_self": null,
            "border": null,
            "bottom": null,
            "display": null,
            "flex": null,
            "flex_flow": null,
            "grid_area": null,
            "grid_auto_columns": null,
            "grid_auto_flow": null,
            "grid_auto_rows": null,
            "grid_column": null,
            "grid_gap": null,
            "grid_row": null,
            "grid_template_areas": null,
            "grid_template_columns": null,
            "grid_template_rows": null,
            "height": null,
            "justify_content": null,
            "justify_items": null,
            "left": null,
            "margin": null,
            "max_height": null,
            "max_width": null,
            "min_height": null,
            "min_width": null,
            "object_fit": null,
            "object_position": null,
            "order": null,
            "overflow": null,
            "overflow_x": null,
            "overflow_y": null,
            "padding": null,
            "right": null,
            "top": null,
            "visibility": null,
            "width": null
          }
        },
        "4aeb7b1ff3ff42b3ac2215faba1278ea": {
          "model_module": "@jupyter-widgets/controls",
          "model_name": "DescriptionStyleModel",
          "model_module_version": "1.5.0",
          "state": {
            "_model_module": "@jupyter-widgets/controls",
            "_model_module_version": "1.5.0",
            "_model_name": "DescriptionStyleModel",
            "_view_count": null,
            "_view_module": "@jupyter-widgets/base",
            "_view_module_version": "1.2.0",
            "_view_name": "StyleView",
            "description_width": ""
          }
        },
        "7d2b405587f0496d89d4642b45d0a55e": {
          "model_module": "@jupyter-widgets/controls",
          "model_name": "HBoxModel",
          "model_module_version": "1.5.0",
          "state": {
            "_dom_classes": [],
            "_model_module": "@jupyter-widgets/controls",
            "_model_module_version": "1.5.0",
            "_model_name": "HBoxModel",
            "_view_count": null,
            "_view_module": "@jupyter-widgets/controls",
            "_view_module_version": "1.5.0",
            "_view_name": "HBoxView",
            "box_style": "",
            "children": [
              "IPY_MODEL_39b0d86072e8429abb6ea6c9a6fe952f",
              "IPY_MODEL_b5e583971d74424798c50a02e097c61f",
              "IPY_MODEL_a1df59efa70e4c0a89dd37220a9dc8b5"
            ],
            "layout": "IPY_MODEL_9e1bc86d26744b47ad00d80fecf18cf7"
          }
        },
        "39b0d86072e8429abb6ea6c9a6fe952f": {
          "model_module": "@jupyter-widgets/controls",
          "model_name": "HTMLModel",
          "model_module_version": "1.5.0",
          "state": {
            "_dom_classes": [],
            "_model_module": "@jupyter-widgets/controls",
            "_model_module_version": "1.5.0",
            "_model_name": "HTMLModel",
            "_view_count": null,
            "_view_module": "@jupyter-widgets/controls",
            "_view_module_version": "1.5.0",
            "_view_name": "HTMLView",
            "description": "",
            "description_tooltip": null,
            "layout": "IPY_MODEL_656bedf1c58a4cef98583f8ce509d242",
            "placeholder": "​",
            "style": "IPY_MODEL_f9f2d6eb39cc4b0da5f56926ec27c86f",
            "value": "special_tokens_map.json: 100%"
          }
        },
        "b5e583971d74424798c50a02e097c61f": {
          "model_module": "@jupyter-widgets/controls",
          "model_name": "FloatProgressModel",
          "model_module_version": "1.5.0",
          "state": {
            "_dom_classes": [],
            "_model_module": "@jupyter-widgets/controls",
            "_model_module_version": "1.5.0",
            "_model_name": "FloatProgressModel",
            "_view_count": null,
            "_view_module": "@jupyter-widgets/controls",
            "_view_module_version": "1.5.0",
            "_view_name": "ProgressView",
            "bar_style": "success",
            "description": "",
            "description_tooltip": null,
            "layout": "IPY_MODEL_febaab119b494f9f84282becc010dabf",
            "max": 551,
            "min": 0,
            "orientation": "horizontal",
            "style": "IPY_MODEL_1d0b118bc0504adcbfd2a5de8c8eb61e",
            "value": 551
          }
        },
        "a1df59efa70e4c0a89dd37220a9dc8b5": {
          "model_module": "@jupyter-widgets/controls",
          "model_name": "HTMLModel",
          "model_module_version": "1.5.0",
          "state": {
            "_dom_classes": [],
            "_model_module": "@jupyter-widgets/controls",
            "_model_module_version": "1.5.0",
            "_model_name": "HTMLModel",
            "_view_count": null,
            "_view_module": "@jupyter-widgets/controls",
            "_view_module_version": "1.5.0",
            "_view_name": "HTMLView",
            "description": "",
            "description_tooltip": null,
            "layout": "IPY_MODEL_b07b7a6d50694eaf923ad1a0393db5d0",
            "placeholder": "​",
            "style": "IPY_MODEL_a071c06bc5f746c6817ddbbc10b7674a",
            "value": " 551/551 [00:00&lt;00:00, 46.1kB/s]"
          }
        },
        "9e1bc86d26744b47ad00d80fecf18cf7": {
          "model_module": "@jupyter-widgets/base",
          "model_name": "LayoutModel",
          "model_module_version": "1.2.0",
          "state": {
            "_model_module": "@jupyter-widgets/base",
            "_model_module_version": "1.2.0",
            "_model_name": "LayoutModel",
            "_view_count": null,
            "_view_module": "@jupyter-widgets/base",
            "_view_module_version": "1.2.0",
            "_view_name": "LayoutView",
            "align_content": null,
            "align_items": null,
            "align_self": null,
            "border": null,
            "bottom": null,
            "display": null,
            "flex": null,
            "flex_flow": null,
            "grid_area": null,
            "grid_auto_columns": null,
            "grid_auto_flow": null,
            "grid_auto_rows": null,
            "grid_column": null,
            "grid_gap": null,
            "grid_row": null,
            "grid_template_areas": null,
            "grid_template_columns": null,
            "grid_template_rows": null,
            "height": null,
            "justify_content": null,
            "justify_items": null,
            "left": null,
            "margin": null,
            "max_height": null,
            "max_width": null,
            "min_height": null,
            "min_width": null,
            "object_fit": null,
            "object_position": null,
            "order": null,
            "overflow": null,
            "overflow_x": null,
            "overflow_y": null,
            "padding": null,
            "right": null,
            "top": null,
            "visibility": null,
            "width": null
          }
        },
        "656bedf1c58a4cef98583f8ce509d242": {
          "model_module": "@jupyter-widgets/base",
          "model_name": "LayoutModel",
          "model_module_version": "1.2.0",
          "state": {
            "_model_module": "@jupyter-widgets/base",
            "_model_module_version": "1.2.0",
            "_model_name": "LayoutModel",
            "_view_count": null,
            "_view_module": "@jupyter-widgets/base",
            "_view_module_version": "1.2.0",
            "_view_name": "LayoutView",
            "align_content": null,
            "align_items": null,
            "align_self": null,
            "border": null,
            "bottom": null,
            "display": null,
            "flex": null,
            "flex_flow": null,
            "grid_area": null,
            "grid_auto_columns": null,
            "grid_auto_flow": null,
            "grid_auto_rows": null,
            "grid_column": null,
            "grid_gap": null,
            "grid_row": null,
            "grid_template_areas": null,
            "grid_template_columns": null,
            "grid_template_rows": null,
            "height": null,
            "justify_content": null,
            "justify_items": null,
            "left": null,
            "margin": null,
            "max_height": null,
            "max_width": null,
            "min_height": null,
            "min_width": null,
            "object_fit": null,
            "object_position": null,
            "order": null,
            "overflow": null,
            "overflow_x": null,
            "overflow_y": null,
            "padding": null,
            "right": null,
            "top": null,
            "visibility": null,
            "width": null
          }
        },
        "f9f2d6eb39cc4b0da5f56926ec27c86f": {
          "model_module": "@jupyter-widgets/controls",
          "model_name": "DescriptionStyleModel",
          "model_module_version": "1.5.0",
          "state": {
            "_model_module": "@jupyter-widgets/controls",
            "_model_module_version": "1.5.0",
            "_model_name": "DescriptionStyleModel",
            "_view_count": null,
            "_view_module": "@jupyter-widgets/base",
            "_view_module_version": "1.2.0",
            "_view_name": "StyleView",
            "description_width": ""
          }
        },
        "febaab119b494f9f84282becc010dabf": {
          "model_module": "@jupyter-widgets/base",
          "model_name": "LayoutModel",
          "model_module_version": "1.2.0",
          "state": {
            "_model_module": "@jupyter-widgets/base",
            "_model_module_version": "1.2.0",
            "_model_name": "LayoutModel",
            "_view_count": null,
            "_view_module": "@jupyter-widgets/base",
            "_view_module_version": "1.2.0",
            "_view_name": "LayoutView",
            "align_content": null,
            "align_items": null,
            "align_self": null,
            "border": null,
            "bottom": null,
            "display": null,
            "flex": null,
            "flex_flow": null,
            "grid_area": null,
            "grid_auto_columns": null,
            "grid_auto_flow": null,
            "grid_auto_rows": null,
            "grid_column": null,
            "grid_gap": null,
            "grid_row": null,
            "grid_template_areas": null,
            "grid_template_columns": null,
            "grid_template_rows": null,
            "height": null,
            "justify_content": null,
            "justify_items": null,
            "left": null,
            "margin": null,
            "max_height": null,
            "max_width": null,
            "min_height": null,
            "min_width": null,
            "object_fit": null,
            "object_position": null,
            "order": null,
            "overflow": null,
            "overflow_x": null,
            "overflow_y": null,
            "padding": null,
            "right": null,
            "top": null,
            "visibility": null,
            "width": null
          }
        },
        "1d0b118bc0504adcbfd2a5de8c8eb61e": {
          "model_module": "@jupyter-widgets/controls",
          "model_name": "ProgressStyleModel",
          "model_module_version": "1.5.0",
          "state": {
            "_model_module": "@jupyter-widgets/controls",
            "_model_module_version": "1.5.0",
            "_model_name": "ProgressStyleModel",
            "_view_count": null,
            "_view_module": "@jupyter-widgets/base",
            "_view_module_version": "1.2.0",
            "_view_name": "StyleView",
            "bar_color": null,
            "description_width": ""
          }
        },
        "b07b7a6d50694eaf923ad1a0393db5d0": {
          "model_module": "@jupyter-widgets/base",
          "model_name": "LayoutModel",
          "model_module_version": "1.2.0",
          "state": {
            "_model_module": "@jupyter-widgets/base",
            "_model_module_version": "1.2.0",
            "_model_name": "LayoutModel",
            "_view_count": null,
            "_view_module": "@jupyter-widgets/base",
            "_view_module_version": "1.2.0",
            "_view_name": "LayoutView",
            "align_content": null,
            "align_items": null,
            "align_self": null,
            "border": null,
            "bottom": null,
            "display": null,
            "flex": null,
            "flex_flow": null,
            "grid_area": null,
            "grid_auto_columns": null,
            "grid_auto_flow": null,
            "grid_auto_rows": null,
            "grid_column": null,
            "grid_gap": null,
            "grid_row": null,
            "grid_template_areas": null,
            "grid_template_columns": null,
            "grid_template_rows": null,
            "height": null,
            "justify_content": null,
            "justify_items": null,
            "left": null,
            "margin": null,
            "max_height": null,
            "max_width": null,
            "min_height": null,
            "min_width": null,
            "object_fit": null,
            "object_position": null,
            "order": null,
            "overflow": null,
            "overflow_x": null,
            "overflow_y": null,
            "padding": null,
            "right": null,
            "top": null,
            "visibility": null,
            "width": null
          }
        },
        "a071c06bc5f746c6817ddbbc10b7674a": {
          "model_module": "@jupyter-widgets/controls",
          "model_name": "DescriptionStyleModel",
          "model_module_version": "1.5.0",
          "state": {
            "_model_module": "@jupyter-widgets/controls",
            "_model_module_version": "1.5.0",
            "_model_name": "DescriptionStyleModel",
            "_view_count": null,
            "_view_module": "@jupyter-widgets/base",
            "_view_module_version": "1.2.0",
            "_view_name": "StyleView",
            "description_width": ""
          }
        },
        "4d2caab33d674916bc8c09b07d1a806e": {
          "model_module": "@jupyter-widgets/controls",
          "model_name": "HBoxModel",
          "model_module_version": "1.5.0",
          "state": {
            "_dom_classes": [],
            "_model_module": "@jupyter-widgets/controls",
            "_model_module_version": "1.5.0",
            "_model_name": "HBoxModel",
            "_view_count": null,
            "_view_module": "@jupyter-widgets/controls",
            "_view_module_version": "1.5.0",
            "_view_name": "HBoxView",
            "box_style": "",
            "children": [
              "IPY_MODEL_468b11433ed24da5873eb9b6b77dab8f",
              "IPY_MODEL_0ae6f483f21f4245986a7826c800677d",
              "IPY_MODEL_499ce1cbdc7f47c58f7b90f85ac856fe"
            ],
            "layout": "IPY_MODEL_f351491d0b6d4761b5a3e254033c2e58"
          }
        },
        "468b11433ed24da5873eb9b6b77dab8f": {
          "model_module": "@jupyter-widgets/controls",
          "model_name": "HTMLModel",
          "model_module_version": "1.5.0",
          "state": {
            "_dom_classes": [],
            "_model_module": "@jupyter-widgets/controls",
            "_model_module_version": "1.5.0",
            "_model_name": "HTMLModel",
            "_view_count": null,
            "_view_module": "@jupyter-widgets/controls",
            "_view_module_version": "1.5.0",
            "_view_name": "HTMLView",
            "description": "",
            "description_tooltip": null,
            "layout": "IPY_MODEL_8392cc6ef2634d67a384e2d5120f3237",
            "placeholder": "​",
            "style": "IPY_MODEL_baf209b77b0d481e938434a35c1e24b3",
            "value": "config.json: 100%"
          }
        },
        "0ae6f483f21f4245986a7826c800677d": {
          "model_module": "@jupyter-widgets/controls",
          "model_name": "FloatProgressModel",
          "model_module_version": "1.5.0",
          "state": {
            "_dom_classes": [],
            "_model_module": "@jupyter-widgets/controls",
            "_model_module_version": "1.5.0",
            "_model_name": "FloatProgressModel",
            "_view_count": null,
            "_view_module": "@jupyter-widgets/controls",
            "_view_module_version": "1.5.0",
            "_view_name": "ProgressView",
            "bar_style": "success",
            "description": "",
            "description_tooltip": null,
            "layout": "IPY_MODEL_c395fcf51dbf43b3848159e724646990",
            "max": 608,
            "min": 0,
            "orientation": "horizontal",
            "style": "IPY_MODEL_ba0b323e7f0d4b3b94b678367660671e",
            "value": 608
          }
        },
        "499ce1cbdc7f47c58f7b90f85ac856fe": {
          "model_module": "@jupyter-widgets/controls",
          "model_name": "HTMLModel",
          "model_module_version": "1.5.0",
          "state": {
            "_dom_classes": [],
            "_model_module": "@jupyter-widgets/controls",
            "_model_module_version": "1.5.0",
            "_model_name": "HTMLModel",
            "_view_count": null,
            "_view_module": "@jupyter-widgets/controls",
            "_view_module_version": "1.5.0",
            "_view_name": "HTMLView",
            "description": "",
            "description_tooltip": null,
            "layout": "IPY_MODEL_cc2f449212d54d2db685bbc84e3b3368",
            "placeholder": "​",
            "style": "IPY_MODEL_d3b5627731a345d5863070145a763723",
            "value": " 608/608 [00:00&lt;00:00, 28.2kB/s]"
          }
        },
        "f351491d0b6d4761b5a3e254033c2e58": {
          "model_module": "@jupyter-widgets/base",
          "model_name": "LayoutModel",
          "model_module_version": "1.2.0",
          "state": {
            "_model_module": "@jupyter-widgets/base",
            "_model_module_version": "1.2.0",
            "_model_name": "LayoutModel",
            "_view_count": null,
            "_view_module": "@jupyter-widgets/base",
            "_view_module_version": "1.2.0",
            "_view_name": "LayoutView",
            "align_content": null,
            "align_items": null,
            "align_self": null,
            "border": null,
            "bottom": null,
            "display": null,
            "flex": null,
            "flex_flow": null,
            "grid_area": null,
            "grid_auto_columns": null,
            "grid_auto_flow": null,
            "grid_auto_rows": null,
            "grid_column": null,
            "grid_gap": null,
            "grid_row": null,
            "grid_template_areas": null,
            "grid_template_columns": null,
            "grid_template_rows": null,
            "height": null,
            "justify_content": null,
            "justify_items": null,
            "left": null,
            "margin": null,
            "max_height": null,
            "max_width": null,
            "min_height": null,
            "min_width": null,
            "object_fit": null,
            "object_position": null,
            "order": null,
            "overflow": null,
            "overflow_x": null,
            "overflow_y": null,
            "padding": null,
            "right": null,
            "top": null,
            "visibility": null,
            "width": null
          }
        },
        "8392cc6ef2634d67a384e2d5120f3237": {
          "model_module": "@jupyter-widgets/base",
          "model_name": "LayoutModel",
          "model_module_version": "1.2.0",
          "state": {
            "_model_module": "@jupyter-widgets/base",
            "_model_module_version": "1.2.0",
            "_model_name": "LayoutModel",
            "_view_count": null,
            "_view_module": "@jupyter-widgets/base",
            "_view_module_version": "1.2.0",
            "_view_name": "LayoutView",
            "align_content": null,
            "align_items": null,
            "align_self": null,
            "border": null,
            "bottom": null,
            "display": null,
            "flex": null,
            "flex_flow": null,
            "grid_area": null,
            "grid_auto_columns": null,
            "grid_auto_flow": null,
            "grid_auto_rows": null,
            "grid_column": null,
            "grid_gap": null,
            "grid_row": null,
            "grid_template_areas": null,
            "grid_template_columns": null,
            "grid_template_rows": null,
            "height": null,
            "justify_content": null,
            "justify_items": null,
            "left": null,
            "margin": null,
            "max_height": null,
            "max_width": null,
            "min_height": null,
            "min_width": null,
            "object_fit": null,
            "object_position": null,
            "order": null,
            "overflow": null,
            "overflow_x": null,
            "overflow_y": null,
            "padding": null,
            "right": null,
            "top": null,
            "visibility": null,
            "width": null
          }
        },
        "baf209b77b0d481e938434a35c1e24b3": {
          "model_module": "@jupyter-widgets/controls",
          "model_name": "DescriptionStyleModel",
          "model_module_version": "1.5.0",
          "state": {
            "_model_module": "@jupyter-widgets/controls",
            "_model_module_version": "1.5.0",
            "_model_name": "DescriptionStyleModel",
            "_view_count": null,
            "_view_module": "@jupyter-widgets/base",
            "_view_module_version": "1.2.0",
            "_view_name": "StyleView",
            "description_width": ""
          }
        },
        "c395fcf51dbf43b3848159e724646990": {
          "model_module": "@jupyter-widgets/base",
          "model_name": "LayoutModel",
          "model_module_version": "1.2.0",
          "state": {
            "_model_module": "@jupyter-widgets/base",
            "_model_module_version": "1.2.0",
            "_model_name": "LayoutModel",
            "_view_count": null,
            "_view_module": "@jupyter-widgets/base",
            "_view_module_version": "1.2.0",
            "_view_name": "LayoutView",
            "align_content": null,
            "align_items": null,
            "align_self": null,
            "border": null,
            "bottom": null,
            "display": null,
            "flex": null,
            "flex_flow": null,
            "grid_area": null,
            "grid_auto_columns": null,
            "grid_auto_flow": null,
            "grid_auto_rows": null,
            "grid_column": null,
            "grid_gap": null,
            "grid_row": null,
            "grid_template_areas": null,
            "grid_template_columns": null,
            "grid_template_rows": null,
            "height": null,
            "justify_content": null,
            "justify_items": null,
            "left": null,
            "margin": null,
            "max_height": null,
            "max_width": null,
            "min_height": null,
            "min_width": null,
            "object_fit": null,
            "object_position": null,
            "order": null,
            "overflow": null,
            "overflow_x": null,
            "overflow_y": null,
            "padding": null,
            "right": null,
            "top": null,
            "visibility": null,
            "width": null
          }
        },
        "ba0b323e7f0d4b3b94b678367660671e": {
          "model_module": "@jupyter-widgets/controls",
          "model_name": "ProgressStyleModel",
          "model_module_version": "1.5.0",
          "state": {
            "_model_module": "@jupyter-widgets/controls",
            "_model_module_version": "1.5.0",
            "_model_name": "ProgressStyleModel",
            "_view_count": null,
            "_view_module": "@jupyter-widgets/base",
            "_view_module_version": "1.2.0",
            "_view_name": "StyleView",
            "bar_color": null,
            "description_width": ""
          }
        },
        "cc2f449212d54d2db685bbc84e3b3368": {
          "model_module": "@jupyter-widgets/base",
          "model_name": "LayoutModel",
          "model_module_version": "1.2.0",
          "state": {
            "_model_module": "@jupyter-widgets/base",
            "_model_module_version": "1.2.0",
            "_model_name": "LayoutModel",
            "_view_count": null,
            "_view_module": "@jupyter-widgets/base",
            "_view_module_version": "1.2.0",
            "_view_name": "LayoutView",
            "align_content": null,
            "align_items": null,
            "align_self": null,
            "border": null,
            "bottom": null,
            "display": null,
            "flex": null,
            "flex_flow": null,
            "grid_area": null,
            "grid_auto_columns": null,
            "grid_auto_flow": null,
            "grid_auto_rows": null,
            "grid_column": null,
            "grid_gap": null,
            "grid_row": null,
            "grid_template_areas": null,
            "grid_template_columns": null,
            "grid_template_rows": null,
            "height": null,
            "justify_content": null,
            "justify_items": null,
            "left": null,
            "margin": null,
            "max_height": null,
            "max_width": null,
            "min_height": null,
            "min_width": null,
            "object_fit": null,
            "object_position": null,
            "order": null,
            "overflow": null,
            "overflow_x": null,
            "overflow_y": null,
            "padding": null,
            "right": null,
            "top": null,
            "visibility": null,
            "width": null
          }
        },
        "d3b5627731a345d5863070145a763723": {
          "model_module": "@jupyter-widgets/controls",
          "model_name": "DescriptionStyleModel",
          "model_module_version": "1.5.0",
          "state": {
            "_model_module": "@jupyter-widgets/controls",
            "_model_module_version": "1.5.0",
            "_model_name": "DescriptionStyleModel",
            "_view_count": null,
            "_view_module": "@jupyter-widgets/base",
            "_view_module_version": "1.2.0",
            "_view_name": "StyleView",
            "description_width": ""
          }
        },
        "2e6c53bc85db45de8448a253788ef9e9": {
          "model_module": "@jupyter-widgets/controls",
          "model_name": "HBoxModel",
          "model_module_version": "1.5.0",
          "state": {
            "_dom_classes": [],
            "_model_module": "@jupyter-widgets/controls",
            "_model_module_version": "1.5.0",
            "_model_name": "HBoxModel",
            "_view_count": null,
            "_view_module": "@jupyter-widgets/controls",
            "_view_module_version": "1.5.0",
            "_view_name": "HBoxView",
            "box_style": "",
            "children": [
              "IPY_MODEL_d3404fe3c5224949ab590b01f244586e",
              "IPY_MODEL_f8938140834a43f28e7d23394628c81c",
              "IPY_MODEL_21f41174fa5443fd9fd27b05f8869df5"
            ],
            "layout": "IPY_MODEL_d7cf8d86bad845a182295624d3df3ed9"
          }
        },
        "d3404fe3c5224949ab590b01f244586e": {
          "model_module": "@jupyter-widgets/controls",
          "model_name": "HTMLModel",
          "model_module_version": "1.5.0",
          "state": {
            "_dom_classes": [],
            "_model_module": "@jupyter-widgets/controls",
            "_model_module_version": "1.5.0",
            "_model_name": "HTMLModel",
            "_view_count": null,
            "_view_module": "@jupyter-widgets/controls",
            "_view_module_version": "1.5.0",
            "_view_name": "HTMLView",
            "description": "",
            "description_tooltip": null,
            "layout": "IPY_MODEL_b67bb43bb14041a9b5b04e88d10ab5c5",
            "placeholder": "​",
            "style": "IPY_MODEL_8191715ef8fc419d9f60bb3f246fd13c",
            "value": "model.safetensors: 100%"
          }
        },
        "f8938140834a43f28e7d23394628c81c": {
          "model_module": "@jupyter-widgets/controls",
          "model_name": "FloatProgressModel",
          "model_module_version": "1.5.0",
          "state": {
            "_dom_classes": [],
            "_model_module": "@jupyter-widgets/controls",
            "_model_module_version": "1.5.0",
            "_model_name": "FloatProgressModel",
            "_view_count": null,
            "_view_module": "@jupyter-widgets/controls",
            "_view_module_version": "1.5.0",
            "_view_name": "ProgressView",
            "bar_style": "success",
            "description": "",
            "description_tooltip": null,
            "layout": "IPY_MODEL_400e9762298d4368b148dea45f0322e9",
            "max": 2200119864,
            "min": 0,
            "orientation": "horizontal",
            "style": "IPY_MODEL_39538d80b52e42b0b61e0558bbdb4739",
            "value": 2200119864
          }
        },
        "21f41174fa5443fd9fd27b05f8869df5": {
          "model_module": "@jupyter-widgets/controls",
          "model_name": "HTMLModel",
          "model_module_version": "1.5.0",
          "state": {
            "_dom_classes": [],
            "_model_module": "@jupyter-widgets/controls",
            "_model_module_version": "1.5.0",
            "_model_name": "HTMLModel",
            "_view_count": null,
            "_view_module": "@jupyter-widgets/controls",
            "_view_module_version": "1.5.0",
            "_view_name": "HTMLView",
            "description": "",
            "description_tooltip": null,
            "layout": "IPY_MODEL_b0b32069707d49398727972dbc9d9f1a",
            "placeholder": "​",
            "style": "IPY_MODEL_f2f1678df98342ae84ff8bfd765876bb",
            "value": " 2.20G/2.20G [00:50&lt;00:00, 31.6MB/s]"
          }
        },
        "d7cf8d86bad845a182295624d3df3ed9": {
          "model_module": "@jupyter-widgets/base",
          "model_name": "LayoutModel",
          "model_module_version": "1.2.0",
          "state": {
            "_model_module": "@jupyter-widgets/base",
            "_model_module_version": "1.2.0",
            "_model_name": "LayoutModel",
            "_view_count": null,
            "_view_module": "@jupyter-widgets/base",
            "_view_module_version": "1.2.0",
            "_view_name": "LayoutView",
            "align_content": null,
            "align_items": null,
            "align_self": null,
            "border": null,
            "bottom": null,
            "display": null,
            "flex": null,
            "flex_flow": null,
            "grid_area": null,
            "grid_auto_columns": null,
            "grid_auto_flow": null,
            "grid_auto_rows": null,
            "grid_column": null,
            "grid_gap": null,
            "grid_row": null,
            "grid_template_areas": null,
            "grid_template_columns": null,
            "grid_template_rows": null,
            "height": null,
            "justify_content": null,
            "justify_items": null,
            "left": null,
            "margin": null,
            "max_height": null,
            "max_width": null,
            "min_height": null,
            "min_width": null,
            "object_fit": null,
            "object_position": null,
            "order": null,
            "overflow": null,
            "overflow_x": null,
            "overflow_y": null,
            "padding": null,
            "right": null,
            "top": null,
            "visibility": null,
            "width": null
          }
        },
        "b67bb43bb14041a9b5b04e88d10ab5c5": {
          "model_module": "@jupyter-widgets/base",
          "model_name": "LayoutModel",
          "model_module_version": "1.2.0",
          "state": {
            "_model_module": "@jupyter-widgets/base",
            "_model_module_version": "1.2.0",
            "_model_name": "LayoutModel",
            "_view_count": null,
            "_view_module": "@jupyter-widgets/base",
            "_view_module_version": "1.2.0",
            "_view_name": "LayoutView",
            "align_content": null,
            "align_items": null,
            "align_self": null,
            "border": null,
            "bottom": null,
            "display": null,
            "flex": null,
            "flex_flow": null,
            "grid_area": null,
            "grid_auto_columns": null,
            "grid_auto_flow": null,
            "grid_auto_rows": null,
            "grid_column": null,
            "grid_gap": null,
            "grid_row": null,
            "grid_template_areas": null,
            "grid_template_columns": null,
            "grid_template_rows": null,
            "height": null,
            "justify_content": null,
            "justify_items": null,
            "left": null,
            "margin": null,
            "max_height": null,
            "max_width": null,
            "min_height": null,
            "min_width": null,
            "object_fit": null,
            "object_position": null,
            "order": null,
            "overflow": null,
            "overflow_x": null,
            "overflow_y": null,
            "padding": null,
            "right": null,
            "top": null,
            "visibility": null,
            "width": null
          }
        },
        "8191715ef8fc419d9f60bb3f246fd13c": {
          "model_module": "@jupyter-widgets/controls",
          "model_name": "DescriptionStyleModel",
          "model_module_version": "1.5.0",
          "state": {
            "_model_module": "@jupyter-widgets/controls",
            "_model_module_version": "1.5.0",
            "_model_name": "DescriptionStyleModel",
            "_view_count": null,
            "_view_module": "@jupyter-widgets/base",
            "_view_module_version": "1.2.0",
            "_view_name": "StyleView",
            "description_width": ""
          }
        },
        "400e9762298d4368b148dea45f0322e9": {
          "model_module": "@jupyter-widgets/base",
          "model_name": "LayoutModel",
          "model_module_version": "1.2.0",
          "state": {
            "_model_module": "@jupyter-widgets/base",
            "_model_module_version": "1.2.0",
            "_model_name": "LayoutModel",
            "_view_count": null,
            "_view_module": "@jupyter-widgets/base",
            "_view_module_version": "1.2.0",
            "_view_name": "LayoutView",
            "align_content": null,
            "align_items": null,
            "align_self": null,
            "border": null,
            "bottom": null,
            "display": null,
            "flex": null,
            "flex_flow": null,
            "grid_area": null,
            "grid_auto_columns": null,
            "grid_auto_flow": null,
            "grid_auto_rows": null,
            "grid_column": null,
            "grid_gap": null,
            "grid_row": null,
            "grid_template_areas": null,
            "grid_template_columns": null,
            "grid_template_rows": null,
            "height": null,
            "justify_content": null,
            "justify_items": null,
            "left": null,
            "margin": null,
            "max_height": null,
            "max_width": null,
            "min_height": null,
            "min_width": null,
            "object_fit": null,
            "object_position": null,
            "order": null,
            "overflow": null,
            "overflow_x": null,
            "overflow_y": null,
            "padding": null,
            "right": null,
            "top": null,
            "visibility": null,
            "width": null
          }
        },
        "39538d80b52e42b0b61e0558bbdb4739": {
          "model_module": "@jupyter-widgets/controls",
          "model_name": "ProgressStyleModel",
          "model_module_version": "1.5.0",
          "state": {
            "_model_module": "@jupyter-widgets/controls",
            "_model_module_version": "1.5.0",
            "_model_name": "ProgressStyleModel",
            "_view_count": null,
            "_view_module": "@jupyter-widgets/base",
            "_view_module_version": "1.2.0",
            "_view_name": "StyleView",
            "bar_color": null,
            "description_width": ""
          }
        },
        "b0b32069707d49398727972dbc9d9f1a": {
          "model_module": "@jupyter-widgets/base",
          "model_name": "LayoutModel",
          "model_module_version": "1.2.0",
          "state": {
            "_model_module": "@jupyter-widgets/base",
            "_model_module_version": "1.2.0",
            "_model_name": "LayoutModel",
            "_view_count": null,
            "_view_module": "@jupyter-widgets/base",
            "_view_module_version": "1.2.0",
            "_view_name": "LayoutView",
            "align_content": null,
            "align_items": null,
            "align_self": null,
            "border": null,
            "bottom": null,
            "display": null,
            "flex": null,
            "flex_flow": null,
            "grid_area": null,
            "grid_auto_columns": null,
            "grid_auto_flow": null,
            "grid_auto_rows": null,
            "grid_column": null,
            "grid_gap": null,
            "grid_row": null,
            "grid_template_areas": null,
            "grid_template_columns": null,
            "grid_template_rows": null,
            "height": null,
            "justify_content": null,
            "justify_items": null,
            "left": null,
            "margin": null,
            "max_height": null,
            "max_width": null,
            "min_height": null,
            "min_width": null,
            "object_fit": null,
            "object_position": null,
            "order": null,
            "overflow": null,
            "overflow_x": null,
            "overflow_y": null,
            "padding": null,
            "right": null,
            "top": null,
            "visibility": null,
            "width": null
          }
        },
        "f2f1678df98342ae84ff8bfd765876bb": {
          "model_module": "@jupyter-widgets/controls",
          "model_name": "DescriptionStyleModel",
          "model_module_version": "1.5.0",
          "state": {
            "_model_module": "@jupyter-widgets/controls",
            "_model_module_version": "1.5.0",
            "_model_name": "DescriptionStyleModel",
            "_view_count": null,
            "_view_module": "@jupyter-widgets/base",
            "_view_module_version": "1.2.0",
            "_view_name": "StyleView",
            "description_width": ""
          }
        },
        "e0f82502d9174b5194a0b9cd73c64c90": {
          "model_module": "@jupyter-widgets/controls",
          "model_name": "HBoxModel",
          "model_module_version": "1.5.0",
          "state": {
            "_dom_classes": [],
            "_model_module": "@jupyter-widgets/controls",
            "_model_module_version": "1.5.0",
            "_model_name": "HBoxModel",
            "_view_count": null,
            "_view_module": "@jupyter-widgets/controls",
            "_view_module_version": "1.5.0",
            "_view_name": "HBoxView",
            "box_style": "",
            "children": [
              "IPY_MODEL_7223985f1d6f40a8bd03050fc0a4d846",
              "IPY_MODEL_2fb9aac9088c465cad3546c95ab42769",
              "IPY_MODEL_fd5b398160d24f6c9b6810108702a88c"
            ],
            "layout": "IPY_MODEL_23e9c185db354c91a50be6faa0a05b3f"
          }
        },
        "7223985f1d6f40a8bd03050fc0a4d846": {
          "model_module": "@jupyter-widgets/controls",
          "model_name": "HTMLModel",
          "model_module_version": "1.5.0",
          "state": {
            "_dom_classes": [],
            "_model_module": "@jupyter-widgets/controls",
            "_model_module_version": "1.5.0",
            "_model_name": "HTMLModel",
            "_view_count": null,
            "_view_module": "@jupyter-widgets/controls",
            "_view_module_version": "1.5.0",
            "_view_name": "HTMLView",
            "description": "",
            "description_tooltip": null,
            "layout": "IPY_MODEL_be12d6a84b554deb81e9dac5df44dbe1",
            "placeholder": "​",
            "style": "IPY_MODEL_31591833a77847adac73f3e33a41ce7e",
            "value": "generation_config.json: 100%"
          }
        },
        "2fb9aac9088c465cad3546c95ab42769": {
          "model_module": "@jupyter-widgets/controls",
          "model_name": "FloatProgressModel",
          "model_module_version": "1.5.0",
          "state": {
            "_dom_classes": [],
            "_model_module": "@jupyter-widgets/controls",
            "_model_module_version": "1.5.0",
            "_model_name": "FloatProgressModel",
            "_view_count": null,
            "_view_module": "@jupyter-widgets/controls",
            "_view_module_version": "1.5.0",
            "_view_name": "ProgressView",
            "bar_style": "success",
            "description": "",
            "description_tooltip": null,
            "layout": "IPY_MODEL_0cb52cadb2594d0588655ee9839e199f",
            "max": 124,
            "min": 0,
            "orientation": "horizontal",
            "style": "IPY_MODEL_57bf549cf49a4c4fbb8a135227b45a99",
            "value": 124
          }
        },
        "fd5b398160d24f6c9b6810108702a88c": {
          "model_module": "@jupyter-widgets/controls",
          "model_name": "HTMLModel",
          "model_module_version": "1.5.0",
          "state": {
            "_dom_classes": [],
            "_model_module": "@jupyter-widgets/controls",
            "_model_module_version": "1.5.0",
            "_model_name": "HTMLModel",
            "_view_count": null,
            "_view_module": "@jupyter-widgets/controls",
            "_view_module_version": "1.5.0",
            "_view_name": "HTMLView",
            "description": "",
            "description_tooltip": null,
            "layout": "IPY_MODEL_0c971ed72dd248fa951aaf8ecf0812be",
            "placeholder": "​",
            "style": "IPY_MODEL_247533ed31274178a6ddc692fe09783d",
            "value": " 124/124 [00:00&lt;00:00, 9.72kB/s]"
          }
        },
        "23e9c185db354c91a50be6faa0a05b3f": {
          "model_module": "@jupyter-widgets/base",
          "model_name": "LayoutModel",
          "model_module_version": "1.2.0",
          "state": {
            "_model_module": "@jupyter-widgets/base",
            "_model_module_version": "1.2.0",
            "_model_name": "LayoutModel",
            "_view_count": null,
            "_view_module": "@jupyter-widgets/base",
            "_view_module_version": "1.2.0",
            "_view_name": "LayoutView",
            "align_content": null,
            "align_items": null,
            "align_self": null,
            "border": null,
            "bottom": null,
            "display": null,
            "flex": null,
            "flex_flow": null,
            "grid_area": null,
            "grid_auto_columns": null,
            "grid_auto_flow": null,
            "grid_auto_rows": null,
            "grid_column": null,
            "grid_gap": null,
            "grid_row": null,
            "grid_template_areas": null,
            "grid_template_columns": null,
            "grid_template_rows": null,
            "height": null,
            "justify_content": null,
            "justify_items": null,
            "left": null,
            "margin": null,
            "max_height": null,
            "max_width": null,
            "min_height": null,
            "min_width": null,
            "object_fit": null,
            "object_position": null,
            "order": null,
            "overflow": null,
            "overflow_x": null,
            "overflow_y": null,
            "padding": null,
            "right": null,
            "top": null,
            "visibility": null,
            "width": null
          }
        },
        "be12d6a84b554deb81e9dac5df44dbe1": {
          "model_module": "@jupyter-widgets/base",
          "model_name": "LayoutModel",
          "model_module_version": "1.2.0",
          "state": {
            "_model_module": "@jupyter-widgets/base",
            "_model_module_version": "1.2.0",
            "_model_name": "LayoutModel",
            "_view_count": null,
            "_view_module": "@jupyter-widgets/base",
            "_view_module_version": "1.2.0",
            "_view_name": "LayoutView",
            "align_content": null,
            "align_items": null,
            "align_self": null,
            "border": null,
            "bottom": null,
            "display": null,
            "flex": null,
            "flex_flow": null,
            "grid_area": null,
            "grid_auto_columns": null,
            "grid_auto_flow": null,
            "grid_auto_rows": null,
            "grid_column": null,
            "grid_gap": null,
            "grid_row": null,
            "grid_template_areas": null,
            "grid_template_columns": null,
            "grid_template_rows": null,
            "height": null,
            "justify_content": null,
            "justify_items": null,
            "left": null,
            "margin": null,
            "max_height": null,
            "max_width": null,
            "min_height": null,
            "min_width": null,
            "object_fit": null,
            "object_position": null,
            "order": null,
            "overflow": null,
            "overflow_x": null,
            "overflow_y": null,
            "padding": null,
            "right": null,
            "top": null,
            "visibility": null,
            "width": null
          }
        },
        "31591833a77847adac73f3e33a41ce7e": {
          "model_module": "@jupyter-widgets/controls",
          "model_name": "DescriptionStyleModel",
          "model_module_version": "1.5.0",
          "state": {
            "_model_module": "@jupyter-widgets/controls",
            "_model_module_version": "1.5.0",
            "_model_name": "DescriptionStyleModel",
            "_view_count": null,
            "_view_module": "@jupyter-widgets/base",
            "_view_module_version": "1.2.0",
            "_view_name": "StyleView",
            "description_width": ""
          }
        },
        "0cb52cadb2594d0588655ee9839e199f": {
          "model_module": "@jupyter-widgets/base",
          "model_name": "LayoutModel",
          "model_module_version": "1.2.0",
          "state": {
            "_model_module": "@jupyter-widgets/base",
            "_model_module_version": "1.2.0",
            "_model_name": "LayoutModel",
            "_view_count": null,
            "_view_module": "@jupyter-widgets/base",
            "_view_module_version": "1.2.0",
            "_view_name": "LayoutView",
            "align_content": null,
            "align_items": null,
            "align_self": null,
            "border": null,
            "bottom": null,
            "display": null,
            "flex": null,
            "flex_flow": null,
            "grid_area": null,
            "grid_auto_columns": null,
            "grid_auto_flow": null,
            "grid_auto_rows": null,
            "grid_column": null,
            "grid_gap": null,
            "grid_row": null,
            "grid_template_areas": null,
            "grid_template_columns": null,
            "grid_template_rows": null,
            "height": null,
            "justify_content": null,
            "justify_items": null,
            "left": null,
            "margin": null,
            "max_height": null,
            "max_width": null,
            "min_height": null,
            "min_width": null,
            "object_fit": null,
            "object_position": null,
            "order": null,
            "overflow": null,
            "overflow_x": null,
            "overflow_y": null,
            "padding": null,
            "right": null,
            "top": null,
            "visibility": null,
            "width": null
          }
        },
        "57bf549cf49a4c4fbb8a135227b45a99": {
          "model_module": "@jupyter-widgets/controls",
          "model_name": "ProgressStyleModel",
          "model_module_version": "1.5.0",
          "state": {
            "_model_module": "@jupyter-widgets/controls",
            "_model_module_version": "1.5.0",
            "_model_name": "ProgressStyleModel",
            "_view_count": null,
            "_view_module": "@jupyter-widgets/base",
            "_view_module_version": "1.2.0",
            "_view_name": "StyleView",
            "bar_color": null,
            "description_width": ""
          }
        },
        "0c971ed72dd248fa951aaf8ecf0812be": {
          "model_module": "@jupyter-widgets/base",
          "model_name": "LayoutModel",
          "model_module_version": "1.2.0",
          "state": {
            "_model_module": "@jupyter-widgets/base",
            "_model_module_version": "1.2.0",
            "_model_name": "LayoutModel",
            "_view_count": null,
            "_view_module": "@jupyter-widgets/base",
            "_view_module_version": "1.2.0",
            "_view_name": "LayoutView",
            "align_content": null,
            "align_items": null,
            "align_self": null,
            "border": null,
            "bottom": null,
            "display": null,
            "flex": null,
            "flex_flow": null,
            "grid_area": null,
            "grid_auto_columns": null,
            "grid_auto_flow": null,
            "grid_auto_rows": null,
            "grid_column": null,
            "grid_gap": null,
            "grid_row": null,
            "grid_template_areas": null,
            "grid_template_columns": null,
            "grid_template_rows": null,
            "height": null,
            "justify_content": null,
            "justify_items": null,
            "left": null,
            "margin": null,
            "max_height": null,
            "max_width": null,
            "min_height": null,
            "min_width": null,
            "object_fit": null,
            "object_position": null,
            "order": null,
            "overflow": null,
            "overflow_x": null,
            "overflow_y": null,
            "padding": null,
            "right": null,
            "top": null,
            "visibility": null,
            "width": null
          }
        },
        "247533ed31274178a6ddc692fe09783d": {
          "model_module": "@jupyter-widgets/controls",
          "model_name": "DescriptionStyleModel",
          "model_module_version": "1.5.0",
          "state": {
            "_model_module": "@jupyter-widgets/controls",
            "_model_module_version": "1.5.0",
            "_model_name": "DescriptionStyleModel",
            "_view_count": null,
            "_view_module": "@jupyter-widgets/base",
            "_view_module_version": "1.2.0",
            "_view_name": "StyleView",
            "description_width": ""
          }
        }
      }
    }
  },
  "cells": [
    {
      "cell_type": "markdown",
      "source": [
        "The model component in LangChain is a crucial part of the framework, designed to facilitate interactions with various language models and embedding models.\n",
        "\n",
        "It abstracts the complexity of working directly with different LLMs, chat models, and embedding models, providing a uniform interface to communicate with them. This makes it easier to build applications that rely on AI-generated text, text embeddings for similarity search, and retrieval augmented generation (RAG)"
      ],
      "metadata": {
        "id": "LszoGWHM2uvY"
      }
    },
    {
      "cell_type": "markdown",
      "source": [
        "Models\n",
        "1. Language Models (Input (Text) -> Output(Text))\n",
        "2. Embedding Models (Input (Text) => Ouput (Vectors/Embeddings))"
      ],
      "metadata": {
        "id": "sIkjLyGN3Tqp"
      }
    },
    {
      "cell_type": "markdown",
      "source": [
        "## Language Models\n",
        "\n",
        "Language Models are AI systems designed to process, generate and understand natural language text.\n",
        "\n",
        "2 types of Language Models\n",
        "\n",
        "1. LLMs (General purpose Models, can be used for any NLP application eg. summarization, question answering) Traditionally older models and are not used much now.\n",
        "2. Chat Models (LLMs specifically designed for Conversational Tasks) They take a sequence of messages as inputs and return chat messages as outputs(as opposed to using plain text) These are traditionally newer models and used more in comparison to LLMs.\n",
        "\n",
        "| Feature        | LLM(Base Models) | Chat Models(Instruction-Tuned)      |\n",
        "|-------------|-----|-------------|\n",
        "| Purpose      | Free-form text generation  | Optimized for multi turn conversation   |\n",
        "| Training Data      | General text corpora (books, articles)  | Fine tuned on chat datasets (dialogues, user-assistant conversations) |\n",
        "| Memory & Context     | No built-in memory | Supports structured conversation history     |\n",
        "| Role Awareness       | No understanding of user and assistant roles | Understands 'system', 'user', and 'assistant' roles  |\n",
        "| Example Models       | GPT-3, Llama-2-7B, Mistral-7B  | GPT-4, GPT-3.5-turbo, Llama-2-Chat, Mistral-Instruct, Claude      |\n",
        "| Use Cases     | Text generation, summarization, translation, creative writing, code generation  | Conversational AI, chatbots, virtual assistants customer support, AI tutors       |\n",
        "\n",
        "\n",
        "\n",
        "\n",
        "\n"
      ],
      "metadata": {
        "id": "HW1RuEt74inc"
      }
    },
    {
      "cell_type": "code",
      "execution_count": 4,
      "metadata": {
        "colab": {
          "base_uri": "https://localhost:8080/"
        },
        "id": "yzA_fDwH2o24",
        "outputId": "80e37dab-aea2-48ac-d6b7-dc4554beb7f1"
      },
      "outputs": [
        {
          "output_type": "stream",
          "name": "stdout",
          "text": [
            "\u001b[?25l   \u001b[90m━━━━━━━━━━━━━━━━━━━━━━━━━━━━━━━━━━━━━━━━\u001b[0m \u001b[32m0.0/467.1 kB\u001b[0m \u001b[31m?\u001b[0m eta \u001b[36m-:--:--\u001b[0m\r\u001b[2K   \u001b[91m━━━━━━━━━━━━━━━━━━━━━━━━━━━━━━━━━━\u001b[0m\u001b[90m╺\u001b[0m\u001b[90m━━━━━\u001b[0m \u001b[32m399.4/467.1 kB\u001b[0m \u001b[31m12.5 MB/s\u001b[0m eta \u001b[36m0:00:01\u001b[0m\r\u001b[2K   \u001b[90m━━━━━━━━━━━━━━━━━━━━━━━━━━━━━━━━━━━━━━━━\u001b[0m \u001b[32m467.1/467.1 kB\u001b[0m \u001b[31m9.0 MB/s\u001b[0m eta \u001b[36m0:00:00\u001b[0m\n",
            "\u001b[?25h\u001b[31mERROR: pip's dependency resolver does not currently take into account all the packages that are installed. This behaviour is the source of the following dependency conflicts.\n",
            "langchain 0.3.27 requires langchain-core<1.0.0,>=0.3.72, but you have langchain-core 1.0.1 which is incompatible.\u001b[0m\u001b[31m\n",
            "\u001b[0m"
          ]
        }
      ],
      "source": [
        "!pip install -q google-generativeai\n",
        "!pip install -q langchain-huggingface\n",
        "!pip install -q transformers\n",
        "!pip install -q huggingface-hub\n",
        "!pip install -q numpy\n",
        "!pip install -q scikit-learn"
      ]
    },
    {
      "cell_type": "code",
      "source": [
        "import langchain\n",
        "langchain.__version__"
      ],
      "metadata": {
        "colab": {
          "base_uri": "https://localhost:8080/",
          "height": 35
        },
        "id": "IukSdra69S5i",
        "outputId": "5fafb2d7-a272-4ddd-86e1-433158de516d"
      },
      "execution_count": 5,
      "outputs": [
        {
          "output_type": "execute_result",
          "data": {
            "text/plain": [
              "'0.3.27'"
            ],
            "application/vnd.google.colaboratory.intrinsic+json": {
              "type": "string"
            }
          },
          "metadata": {},
          "execution_count": 5
        }
      ]
    },
    {
      "cell_type": "code",
      "source": [
        "!pip install langchain_openai"
      ],
      "metadata": {
        "colab": {
          "base_uri": "https://localhost:8080/"
        },
        "id": "gnwDpjeu-8lV",
        "outputId": "62238e41-6615-444a-da19-4bdbfbde5f6b"
      },
      "execution_count": 8,
      "outputs": [
        {
          "output_type": "stream",
          "name": "stdout",
          "text": [
            "Collecting langchain_openai\n",
            "  Downloading langchain_openai-1.0.1-py3-none-any.whl.metadata (1.8 kB)\n",
            "Requirement already satisfied: langchain-core<2.0.0,>=1.0.0 in /usr/local/lib/python3.12/dist-packages (from langchain_openai) (1.0.1)\n",
            "Requirement already satisfied: openai<3.0.0,>=1.109.1 in /usr/local/lib/python3.12/dist-packages (from langchain_openai) (1.109.1)\n",
            "Requirement already satisfied: tiktoken<1.0.0,>=0.7.0 in /usr/local/lib/python3.12/dist-packages (from langchain_openai) (0.12.0)\n",
            "Requirement already satisfied: jsonpatch<2.0.0,>=1.33.0 in /usr/local/lib/python3.12/dist-packages (from langchain-core<2.0.0,>=1.0.0->langchain_openai) (1.33)\n",
            "Requirement already satisfied: langsmith<1.0.0,>=0.3.45 in /usr/local/lib/python3.12/dist-packages (from langchain-core<2.0.0,>=1.0.0->langchain_openai) (0.4.37)\n",
            "Requirement already satisfied: packaging<26.0.0,>=23.2.0 in /usr/local/lib/python3.12/dist-packages (from langchain-core<2.0.0,>=1.0.0->langchain_openai) (25.0)\n",
            "Requirement already satisfied: pydantic<3.0.0,>=2.7.4 in /usr/local/lib/python3.12/dist-packages (from langchain-core<2.0.0,>=1.0.0->langchain_openai) (2.11.10)\n",
            "Requirement already satisfied: pyyaml<7.0.0,>=5.3.0 in /usr/local/lib/python3.12/dist-packages (from langchain-core<2.0.0,>=1.0.0->langchain_openai) (6.0.3)\n",
            "Requirement already satisfied: tenacity!=8.4.0,<10.0.0,>=8.1.0 in /usr/local/lib/python3.12/dist-packages (from langchain-core<2.0.0,>=1.0.0->langchain_openai) (8.5.0)\n",
            "Requirement already satisfied: typing-extensions<5.0.0,>=4.7.0 in /usr/local/lib/python3.12/dist-packages (from langchain-core<2.0.0,>=1.0.0->langchain_openai) (4.15.0)\n",
            "Requirement already satisfied: anyio<5,>=3.5.0 in /usr/local/lib/python3.12/dist-packages (from openai<3.0.0,>=1.109.1->langchain_openai) (4.11.0)\n",
            "Requirement already satisfied: distro<2,>=1.7.0 in /usr/local/lib/python3.12/dist-packages (from openai<3.0.0,>=1.109.1->langchain_openai) (1.9.0)\n",
            "Requirement already satisfied: httpx<1,>=0.23.0 in /usr/local/lib/python3.12/dist-packages (from openai<3.0.0,>=1.109.1->langchain_openai) (0.28.1)\n",
            "Requirement already satisfied: jiter<1,>=0.4.0 in /usr/local/lib/python3.12/dist-packages (from openai<3.0.0,>=1.109.1->langchain_openai) (0.11.1)\n",
            "Requirement already satisfied: sniffio in /usr/local/lib/python3.12/dist-packages (from openai<3.0.0,>=1.109.1->langchain_openai) (1.3.1)\n",
            "Requirement already satisfied: tqdm>4 in /usr/local/lib/python3.12/dist-packages (from openai<3.0.0,>=1.109.1->langchain_openai) (4.67.1)\n",
            "Requirement already satisfied: regex>=2022.1.18 in /usr/local/lib/python3.12/dist-packages (from tiktoken<1.0.0,>=0.7.0->langchain_openai) (2024.11.6)\n",
            "Requirement already satisfied: requests>=2.26.0 in /usr/local/lib/python3.12/dist-packages (from tiktoken<1.0.0,>=0.7.0->langchain_openai) (2.32.4)\n",
            "Requirement already satisfied: idna>=2.8 in /usr/local/lib/python3.12/dist-packages (from anyio<5,>=3.5.0->openai<3.0.0,>=1.109.1->langchain_openai) (3.11)\n",
            "Requirement already satisfied: certifi in /usr/local/lib/python3.12/dist-packages (from httpx<1,>=0.23.0->openai<3.0.0,>=1.109.1->langchain_openai) (2025.10.5)\n",
            "Requirement already satisfied: httpcore==1.* in /usr/local/lib/python3.12/dist-packages (from httpx<1,>=0.23.0->openai<3.0.0,>=1.109.1->langchain_openai) (1.0.9)\n",
            "Requirement already satisfied: h11>=0.16 in /usr/local/lib/python3.12/dist-packages (from httpcore==1.*->httpx<1,>=0.23.0->openai<3.0.0,>=1.109.1->langchain_openai) (0.16.0)\n",
            "Requirement already satisfied: jsonpointer>=1.9 in /usr/local/lib/python3.12/dist-packages (from jsonpatch<2.0.0,>=1.33.0->langchain-core<2.0.0,>=1.0.0->langchain_openai) (3.0.0)\n",
            "Requirement already satisfied: orjson>=3.9.14 in /usr/local/lib/python3.12/dist-packages (from langsmith<1.0.0,>=0.3.45->langchain-core<2.0.0,>=1.0.0->langchain_openai) (3.11.3)\n",
            "Requirement already satisfied: requests-toolbelt>=1.0.0 in /usr/local/lib/python3.12/dist-packages (from langsmith<1.0.0,>=0.3.45->langchain-core<2.0.0,>=1.0.0->langchain_openai) (1.0.0)\n",
            "Requirement already satisfied: zstandard>=0.23.0 in /usr/local/lib/python3.12/dist-packages (from langsmith<1.0.0,>=0.3.45->langchain-core<2.0.0,>=1.0.0->langchain_openai) (0.25.0)\n",
            "Requirement already satisfied: annotated-types>=0.6.0 in /usr/local/lib/python3.12/dist-packages (from pydantic<3.0.0,>=2.7.4->langchain-core<2.0.0,>=1.0.0->langchain_openai) (0.7.0)\n",
            "Requirement already satisfied: pydantic-core==2.33.2 in /usr/local/lib/python3.12/dist-packages (from pydantic<3.0.0,>=2.7.4->langchain-core<2.0.0,>=1.0.0->langchain_openai) (2.33.2)\n",
            "Requirement already satisfied: typing-inspection>=0.4.0 in /usr/local/lib/python3.12/dist-packages (from pydantic<3.0.0,>=2.7.4->langchain-core<2.0.0,>=1.0.0->langchain_openai) (0.4.2)\n",
            "Requirement already satisfied: charset_normalizer<4,>=2 in /usr/local/lib/python3.12/dist-packages (from requests>=2.26.0->tiktoken<1.0.0,>=0.7.0->langchain_openai) (3.4.4)\n",
            "Requirement already satisfied: urllib3<3,>=1.21.1 in /usr/local/lib/python3.12/dist-packages (from requests>=2.26.0->tiktoken<1.0.0,>=0.7.0->langchain_openai) (2.5.0)\n",
            "Downloading langchain_openai-1.0.1-py3-none-any.whl (81 kB)\n",
            "\u001b[2K   \u001b[90m━━━━━━━━━━━━━━━━━━━━━━━━━━━━━━━━━━━━━━━━\u001b[0m \u001b[32m81.9/81.9 kB\u001b[0m \u001b[31m2.7 MB/s\u001b[0m eta \u001b[36m0:00:00\u001b[0m\n",
            "\u001b[?25hInstalling collected packages: langchain_openai\n",
            "Successfully installed langchain_openai-1.0.1\n"
          ]
        }
      ]
    },
    {
      "cell_type": "code",
      "source": [
        "import os\n",
        "from getpass import getpass\n",
        "\n",
        "os.environ[\"OPENAI_API_KEY\"] = getpass(\"Enter your OpenAI API key: \")"
      ],
      "metadata": {
        "colab": {
          "base_uri": "https://localhost:8080/"
        },
        "id": "SayhhssW9zxW",
        "outputId": "abb72a48-34a4-4296-cc39-869c67babce0"
      },
      "execution_count": 6,
      "outputs": [
        {
          "name": "stdout",
          "output_type": "stream",
          "text": [
            "Enter your OpenAI API key: ··········\n"
          ]
        }
      ]
    },
    {
      "cell_type": "code",
      "source": [
        "from langchain_openai import OpenAI"
      ],
      "metadata": {
        "id": "z2R5P70c-v3O"
      },
      "execution_count": 9,
      "outputs": []
    },
    {
      "cell_type": "code",
      "source": [
        "llm = OpenAI(model='gpt-3.5-turbo-instruct')\n",
        "result = llm.invoke('Hey! How are you?')\n",
        "print(result)"
      ],
      "metadata": {
        "colab": {
          "base_uri": "https://localhost:8080/"
        },
        "id": "3gd3qVUQ-6lW",
        "outputId": "520107a8-9050-457c-b31f-b0080a7dbbb7"
      },
      "execution_count": 15,
      "outputs": [
        {
          "output_type": "stream",
          "name": "stdout",
          "text": [
            "\n",
            "\n",
            "I am doing well, thank you. How about you?\n"
          ]
        }
      ]
    },
    {
      "cell_type": "markdown",
      "source": [
        "## Chat Models"
      ],
      "metadata": {
        "id": "2at-tnFI_twe"
      }
    },
    {
      "cell_type": "code",
      "source": [
        "from langchain_openai import ChatOpenAI"
      ],
      "metadata": {
        "id": "pwqnCZC2_Jaj"
      },
      "execution_count": 18,
      "outputs": []
    },
    {
      "cell_type": "code",
      "source": [
        "model = ChatOpenAI(model='gpt-4')\n",
        "result = model.invoke(\"What is the capital of India?\")\n",
        "print(result)\n"
      ],
      "metadata": {
        "colab": {
          "base_uri": "https://localhost:8080/"
        },
        "id": "WhjrtR4-Eq1O",
        "outputId": "a9b8e886-3bcf-468e-a925-d549d835311d"
      },
      "execution_count": 19,
      "outputs": [
        {
          "output_type": "stream",
          "name": "stdout",
          "text": [
            "content='The capital of India is New Delhi.' additional_kwargs={'refusal': None} response_metadata={'token_usage': {'completion_tokens': 8, 'prompt_tokens': 14, 'total_tokens': 22, 'completion_tokens_details': {'accepted_prediction_tokens': 0, 'audio_tokens': 0, 'reasoning_tokens': 0, 'rejected_prediction_tokens': 0}, 'prompt_tokens_details': {'audio_tokens': 0, 'cached_tokens': 0}}, 'model_provider': 'openai', 'model_name': 'gpt-4-0613', 'system_fingerprint': None, 'id': 'chatcmpl-CUSASiDzlaoYPvgtE7bTfLOaeEuuG', 'service_tier': 'default', 'finish_reason': 'stop', 'logprobs': None} id='lc_run--ef5a5d8f-e40e-47c2-b28b-20ca34e87e3c-0' usage_metadata={'input_tokens': 14, 'output_tokens': 8, 'total_tokens': 22, 'input_token_details': {'audio': 0, 'cache_read': 0}, 'output_token_details': {'audio': 0, 'reasoning': 0}}\n"
          ]
        }
      ]
    },
    {
      "cell_type": "markdown",
      "source": [
        "If you look at output, the way its written in chatmodels is different from regular llm. The response is there in content, plus there is a lot of meta data as well."
      ],
      "metadata": {
        "id": "i9yZF34AFcEn"
      }
    },
    {
      "cell_type": "code",
      "source": [
        "print(result.content)"
      ],
      "metadata": {
        "colab": {
          "base_uri": "https://localhost:8080/"
        },
        "id": "UEBog0MdFKC4",
        "outputId": "ee8e88dc-041c-4f94-878b-a560832b9e15"
      },
      "execution_count": 20,
      "outputs": [
        {
          "output_type": "stream",
          "name": "stdout",
          "text": [
            "The capital of India is New Delhi.\n"
          ]
        }
      ]
    },
    {
      "cell_type": "markdown",
      "source": [
        "**Temperature**: Its a parameter that controls the randomness of a language model's output. It affects how creative or deterministic the responses are.\n",
        "\n",
        "\n",
        "\n",
        "*   Lower Values (0.0 - 0.3) -> More deterministic and predictable\n",
        "*   Higher Values (0.7 - 1.5) -> More random, creative and diverse\n",
        "\n",
        "\n",
        "| Use case        | Recommended Temperature |\n",
        "|:------------|:---:|\n",
        "| Factual answers (math, code, facts)   | 0.0-0.3 |\n",
        "| Balanced response (general QA, explanations)       | 0.5-0.7  |\n",
        "| Creative Writing, storytelling, jokes      | 0.9-1.2 |\n",
        "| Maximum Randomness - brainstorming     | 1.5+|\n"
      ],
      "metadata": {
        "id": "DGUzPZI_FwH4"
      }
    },
    {
      "cell_type": "code",
      "source": [
        "model = ChatOpenAI(model='gpt-4', temperature =0 )\n",
        "result = model.invoke(\"Write a sonnet on the topic 'Indian Politicians' \")\n",
        "print(result.content)"
      ],
      "metadata": {
        "colab": {
          "base_uri": "https://localhost:8080/"
        },
        "id": "ug_YZHD8FlpV",
        "outputId": "4b79c6ba-47d4-4ed2-de8b-c778e9fbdf31"
      },
      "execution_count": 24,
      "outputs": [
        {
          "output_type": "stream",
          "name": "stdout",
          "text": [
            "Upon the stage of India's vast expanse,\n",
            "In robes of power, politicians stand,\n",
            "Their words like arrows, in the dance,\n",
            "Of democracy, they command.\n",
            "\n",
            "They promise progress, peace, and prosperity,\n",
            "In speeches woven with eloquence and grace,\n",
            "Yet often, their actions lack sincerity,\n",
            "As corruption's shadow mars their face.\n",
            "\n",
            "Yet, among them, some true leaders rise,\n",
            "With hearts aflame for their nation's cause,\n",
            "Their vision clear, they cut through lies,\n",
            "To uphold the constitution and its laws.\n",
            "\n",
            "Indian politicians, a varied lot,\n",
            "In the crucible of power, their character is wrought.\n"
          ]
        }
      ]
    },
    {
      "cell_type": "code",
      "source": [
        "model = ChatOpenAI(model='gpt-4', temperature =1.2 )\n",
        "result = model.invoke(\"Write a sonnet on the topic 'Indian Politicians' \")\n",
        "print(result.content)"
      ],
      "metadata": {
        "colab": {
          "base_uri": "https://localhost:8080/"
        },
        "id": "-Do0x5hhHHui",
        "outputId": "b50770b1-bd4c-445b-924c-fba9875f6b2f"
      },
      "execution_count": 25,
      "outputs": [
        {
          "output_type": "stream",
          "name": "stdout",
          "text": [
            "From Ganges' plains to Himalayan heights,\n",
            "Across varied cultures, hues and sights,\n",
            "Lies an arena flashed in the nation’s limelight,\n",
            "Aiye, let me carve in verse, our leader's hypothetical scout.\n",
            "\n",
            "Indian politicians, bearers of our colorful outspread,\n",
            "Blending measures in saffron, white, green thread.\n",
            "They vow in parties’ garb and in people’s name,\n",
            "Host the stage, in a blaring democracy's game.\n",
            "\n",
            "A tough joust of words by day's tumultuous reign,\n",
            "Yet hushed bills and pacts in the night's quiet lane.\n",
            "Charisma draped in promises ever so hollow,\n",
            "People reach for change, for a better tomorrow.\n",
            "\n",
            "Yet, in every verdict lies a dormant hope anew,\n",
            "In this myriad realm, they remain our chosen few.\n"
          ]
        }
      ]
    },
    {
      "cell_type": "markdown",
      "source": [
        "Much more creative as we increase the temperature"
      ],
      "metadata": {
        "id": "glR0uIXZHiQD"
      }
    },
    {
      "cell_type": "markdown",
      "source": [
        "**Max Completion Tokens** : Helps you decide the max number of output tokens.\n",
        "Since billing is per token, settign this upper limit helps."
      ],
      "metadata": {
        "id": "ZwPCw-ylHtXa"
      }
    },
    {
      "cell_type": "code",
      "source": [
        "model = ChatOpenAI(model='gpt-4', temperature =1.2, max_completion_tokens = 50)\n",
        "result = model.invoke(\"Write a sonnet on the topic 'Indian Politicians' \")\n",
        "print(result.content)"
      ],
      "metadata": {
        "colab": {
          "base_uri": "https://localhost:8080/"
        },
        "id": "B1dEiXp3HbJy",
        "outputId": "b99dac61-4bf7-4300-fd5b-48bcc79719da"
      },
      "execution_count": 26,
      "outputs": [
        {
          "output_type": "stream",
          "name": "stdout",
          "text": [
            "In chambers of power their markers do rest,\n",
            "Indian politicians in peacock grand vest.\n",
            "A country of colors so fervently traced,\n",
            "Their choices eternal, in history encased.\n",
            "\n",
            "Phantom of ambition awash in folklore,\n",
            "Playing the game known even to\n"
          ]
        }
      ]
    },
    {
      "cell_type": "markdown",
      "source": [
        "Since the max token is set, it did not complete the sonnet."
      ],
      "metadata": {
        "id": "Q7j-LWerIDAK"
      }
    },
    {
      "cell_type": "markdown",
      "source": [
        "## Claude"
      ],
      "metadata": {
        "id": "E7GfEFV6ILAB"
      }
    },
    {
      "cell_type": "code",
      "source": [
        "ANTHROPIC_API_KEY = ''\n"
      ],
      "metadata": {
        "id": "ch47l5epIATa"
      },
      "execution_count": 27,
      "outputs": []
    },
    {
      "cell_type": "code",
      "source": [
        "!pip install -q langchain_anthropic"
      ],
      "metadata": {
        "id": "_1TsanbWJB55"
      },
      "execution_count": 30,
      "outputs": []
    },
    {
      "cell_type": "code",
      "source": [
        "from langchain_anthropic import ChatAnthropic"
      ],
      "metadata": {
        "id": "emNQjtQwI9Ee"
      },
      "execution_count": 31,
      "outputs": []
    },
    {
      "cell_type": "code",
      "source": [
        "# I do not have the Anthropic Creds, so this will not work without it.\n",
        "model_claude = ChatAnthropic(model='claude-3-5-sonnet-20241022')\n",
        "result = model_claude.invoke('Whats the capital of France?')\n",
        "print(result.content)\n"
      ],
      "metadata": {
        "colab": {
          "base_uri": "https://localhost:8080/",
          "height": 365
        },
        "collapsed": true,
        "id": "I-ptJU93JAQr",
        "outputId": "af4ae5de-01cd-446f-d654-b617aec536e7"
      },
      "execution_count": 37,
      "outputs": [
        {
          "output_type": "error",
          "ename": "TypeError",
          "evalue": "\"Could not resolve authentication method. Expected either api_key or auth_token to be set. Or for one of the `X-Api-Key` or `Authorization` headers to be explicitly omitted\"",
          "traceback": [
            "\u001b[0;31m---------------------------------------------------------------------------\u001b[0m",
            "\u001b[0;31mTypeError\u001b[0m                                 Traceback (most recent call last)",
            "\u001b[0;32m/tmp/ipython-input-1306366339.py\u001b[0m in \u001b[0;36m<cell line: 0>\u001b[0;34m()\u001b[0m\n\u001b[1;32m      1\u001b[0m \u001b[0;31m# I do not have the Anthropic Creds, so this will not work\u001b[0m\u001b[0;34m\u001b[0m\u001b[0;34m\u001b[0m\u001b[0m\n\u001b[1;32m      2\u001b[0m \u001b[0mmodel_claude\u001b[0m \u001b[0;34m=\u001b[0m \u001b[0mChatAnthropic\u001b[0m\u001b[0;34m(\u001b[0m\u001b[0mmodel\u001b[0m\u001b[0;34m=\u001b[0m\u001b[0;34m'claude-3-5-sonnet-20241022'\u001b[0m\u001b[0;34m)\u001b[0m\u001b[0;34m\u001b[0m\u001b[0;34m\u001b[0m\u001b[0m\n\u001b[0;32m----> 3\u001b[0;31m \u001b[0mresult\u001b[0m \u001b[0;34m=\u001b[0m \u001b[0mmodel_claude\u001b[0m\u001b[0;34m.\u001b[0m\u001b[0minvoke\u001b[0m\u001b[0;34m(\u001b[0m\u001b[0;34m'Whats the capital of France?'\u001b[0m\u001b[0;34m)\u001b[0m\u001b[0;34m\u001b[0m\u001b[0;34m\u001b[0m\u001b[0m\n\u001b[0m",
            "\u001b[0;32m/usr/local/lib/python3.12/dist-packages/langchain_core/language_models/chat_models.py\u001b[0m in \u001b[0;36minvoke\u001b[0;34m(self, input, config, stop, **kwargs)\u001b[0m\n\u001b[1;32m    377\u001b[0m             cast(\n\u001b[1;32m    378\u001b[0m                 \u001b[0;34m\"ChatGeneration\"\u001b[0m\u001b[0;34m,\u001b[0m\u001b[0;34m\u001b[0m\u001b[0;34m\u001b[0m\u001b[0m\n\u001b[0;32m--> 379\u001b[0;31m                 self.generate_prompt(\n\u001b[0m\u001b[1;32m    380\u001b[0m                     \u001b[0;34m[\u001b[0m\u001b[0mself\u001b[0m\u001b[0;34m.\u001b[0m\u001b[0m_convert_input\u001b[0m\u001b[0;34m(\u001b[0m\u001b[0minput\u001b[0m\u001b[0;34m)\u001b[0m\u001b[0;34m]\u001b[0m\u001b[0;34m,\u001b[0m\u001b[0;34m\u001b[0m\u001b[0;34m\u001b[0m\u001b[0m\n\u001b[1;32m    381\u001b[0m                     \u001b[0mstop\u001b[0m\u001b[0;34m=\u001b[0m\u001b[0mstop\u001b[0m\u001b[0;34m,\u001b[0m\u001b[0;34m\u001b[0m\u001b[0;34m\u001b[0m\u001b[0m\n",
            "\u001b[0;32m/usr/local/lib/python3.12/dist-packages/langchain_core/language_models/chat_models.py\u001b[0m in \u001b[0;36mgenerate_prompt\u001b[0;34m(self, prompts, stop, callbacks, **kwargs)\u001b[0m\n\u001b[1;32m   1086\u001b[0m     ) -> LLMResult:\n\u001b[1;32m   1087\u001b[0m         \u001b[0mprompt_messages\u001b[0m \u001b[0;34m=\u001b[0m \u001b[0;34m[\u001b[0m\u001b[0mp\u001b[0m\u001b[0;34m.\u001b[0m\u001b[0mto_messages\u001b[0m\u001b[0;34m(\u001b[0m\u001b[0;34m)\u001b[0m \u001b[0;32mfor\u001b[0m \u001b[0mp\u001b[0m \u001b[0;32min\u001b[0m \u001b[0mprompts\u001b[0m\u001b[0;34m]\u001b[0m\u001b[0;34m\u001b[0m\u001b[0;34m\u001b[0m\u001b[0m\n\u001b[0;32m-> 1088\u001b[0;31m         \u001b[0;32mreturn\u001b[0m \u001b[0mself\u001b[0m\u001b[0;34m.\u001b[0m\u001b[0mgenerate\u001b[0m\u001b[0;34m(\u001b[0m\u001b[0mprompt_messages\u001b[0m\u001b[0;34m,\u001b[0m \u001b[0mstop\u001b[0m\u001b[0;34m=\u001b[0m\u001b[0mstop\u001b[0m\u001b[0;34m,\u001b[0m \u001b[0mcallbacks\u001b[0m\u001b[0;34m=\u001b[0m\u001b[0mcallbacks\u001b[0m\u001b[0;34m,\u001b[0m \u001b[0;34m**\u001b[0m\u001b[0mkwargs\u001b[0m\u001b[0;34m)\u001b[0m\u001b[0;34m\u001b[0m\u001b[0;34m\u001b[0m\u001b[0m\n\u001b[0m\u001b[1;32m   1089\u001b[0m \u001b[0;34m\u001b[0m\u001b[0m\n\u001b[1;32m   1090\u001b[0m     \u001b[0;34m@\u001b[0m\u001b[0moverride\u001b[0m\u001b[0;34m\u001b[0m\u001b[0;34m\u001b[0m\u001b[0m\n",
            "\u001b[0;32m/usr/local/lib/python3.12/dist-packages/langchain_core/language_models/chat_models.py\u001b[0m in \u001b[0;36mgenerate\u001b[0;34m(self, messages, stop, callbacks, tags, metadata, run_name, run_id, **kwargs)\u001b[0m\n\u001b[1;32m    901\u001b[0m             \u001b[0;32mtry\u001b[0m\u001b[0;34m:\u001b[0m\u001b[0;34m\u001b[0m\u001b[0;34m\u001b[0m\u001b[0m\n\u001b[1;32m    902\u001b[0m                 results.append(\n\u001b[0;32m--> 903\u001b[0;31m                     self._generate_with_cache(\n\u001b[0m\u001b[1;32m    904\u001b[0m                         \u001b[0mm\u001b[0m\u001b[0;34m,\u001b[0m\u001b[0;34m\u001b[0m\u001b[0;34m\u001b[0m\u001b[0m\n\u001b[1;32m    905\u001b[0m                         \u001b[0mstop\u001b[0m\u001b[0;34m=\u001b[0m\u001b[0mstop\u001b[0m\u001b[0;34m,\u001b[0m\u001b[0;34m\u001b[0m\u001b[0;34m\u001b[0m\u001b[0m\n",
            "\u001b[0;32m/usr/local/lib/python3.12/dist-packages/langchain_core/language_models/chat_models.py\u001b[0m in \u001b[0;36m_generate_with_cache\u001b[0;34m(self, messages, stop, run_manager, **kwargs)\u001b[0m\n\u001b[1;32m   1190\u001b[0m             \u001b[0mresult\u001b[0m \u001b[0;34m=\u001b[0m \u001b[0mgenerate_from_stream\u001b[0m\u001b[0;34m(\u001b[0m\u001b[0miter\u001b[0m\u001b[0;34m(\u001b[0m\u001b[0mchunks\u001b[0m\u001b[0;34m)\u001b[0m\u001b[0;34m)\u001b[0m\u001b[0;34m\u001b[0m\u001b[0;34m\u001b[0m\u001b[0m\n\u001b[1;32m   1191\u001b[0m         \u001b[0;32melif\u001b[0m \u001b[0minspect\u001b[0m\u001b[0;34m.\u001b[0m\u001b[0msignature\u001b[0m\u001b[0;34m(\u001b[0m\u001b[0mself\u001b[0m\u001b[0;34m.\u001b[0m\u001b[0m_generate\u001b[0m\u001b[0;34m)\u001b[0m\u001b[0;34m.\u001b[0m\u001b[0mparameters\u001b[0m\u001b[0;34m.\u001b[0m\u001b[0mget\u001b[0m\u001b[0;34m(\u001b[0m\u001b[0;34m\"run_manager\"\u001b[0m\u001b[0;34m)\u001b[0m\u001b[0;34m:\u001b[0m\u001b[0;34m\u001b[0m\u001b[0;34m\u001b[0m\u001b[0m\n\u001b[0;32m-> 1192\u001b[0;31m             result = self._generate(\n\u001b[0m\u001b[1;32m   1193\u001b[0m                 \u001b[0mmessages\u001b[0m\u001b[0;34m,\u001b[0m \u001b[0mstop\u001b[0m\u001b[0;34m=\u001b[0m\u001b[0mstop\u001b[0m\u001b[0;34m,\u001b[0m \u001b[0mrun_manager\u001b[0m\u001b[0;34m=\u001b[0m\u001b[0mrun_manager\u001b[0m\u001b[0;34m,\u001b[0m \u001b[0;34m**\u001b[0m\u001b[0mkwargs\u001b[0m\u001b[0;34m\u001b[0m\u001b[0;34m\u001b[0m\u001b[0m\n\u001b[1;32m   1194\u001b[0m             )\n",
            "\u001b[0;32m/usr/local/lib/python3.12/dist-packages/langchain_anthropic/chat_models.py\u001b[0m in \u001b[0;36m_generate\u001b[0;34m(self, messages, stop, run_manager, **kwargs)\u001b[0m\n\u001b[1;32m   1854\u001b[0m         \u001b[0mpayload\u001b[0m \u001b[0;34m=\u001b[0m \u001b[0mself\u001b[0m\u001b[0;34m.\u001b[0m\u001b[0m_get_request_payload\u001b[0m\u001b[0;34m(\u001b[0m\u001b[0mmessages\u001b[0m\u001b[0;34m,\u001b[0m \u001b[0mstop\u001b[0m\u001b[0;34m=\u001b[0m\u001b[0mstop\u001b[0m\u001b[0;34m,\u001b[0m \u001b[0;34m**\u001b[0m\u001b[0mkwargs\u001b[0m\u001b[0;34m)\u001b[0m\u001b[0;34m\u001b[0m\u001b[0;34m\u001b[0m\u001b[0m\n\u001b[1;32m   1855\u001b[0m         \u001b[0;32mtry\u001b[0m\u001b[0;34m:\u001b[0m\u001b[0;34m\u001b[0m\u001b[0;34m\u001b[0m\u001b[0m\n\u001b[0;32m-> 1856\u001b[0;31m             \u001b[0mdata\u001b[0m \u001b[0;34m=\u001b[0m \u001b[0mself\u001b[0m\u001b[0;34m.\u001b[0m\u001b[0m_create\u001b[0m\u001b[0;34m(\u001b[0m\u001b[0mpayload\u001b[0m\u001b[0;34m)\u001b[0m\u001b[0;34m\u001b[0m\u001b[0;34m\u001b[0m\u001b[0m\n\u001b[0m\u001b[1;32m   1857\u001b[0m         \u001b[0;32mexcept\u001b[0m \u001b[0manthropic\u001b[0m\u001b[0;34m.\u001b[0m\u001b[0mBadRequestError\u001b[0m \u001b[0;32mas\u001b[0m \u001b[0me\u001b[0m\u001b[0;34m:\u001b[0m\u001b[0;34m\u001b[0m\u001b[0;34m\u001b[0m\u001b[0m\n\u001b[1;32m   1858\u001b[0m             \u001b[0m_handle_anthropic_bad_request\u001b[0m\u001b[0;34m(\u001b[0m\u001b[0me\u001b[0m\u001b[0;34m)\u001b[0m\u001b[0;34m\u001b[0m\u001b[0;34m\u001b[0m\u001b[0m\n",
            "\u001b[0;32m/usr/local/lib/python3.12/dist-packages/langchain_anthropic/chat_models.py\u001b[0m in \u001b[0;36m_create\u001b[0;34m(self, payload)\u001b[0m\n\u001b[1;32m   1716\u001b[0m         \u001b[0;32mif\u001b[0m \u001b[0;34m\"betas\"\u001b[0m \u001b[0;32min\u001b[0m \u001b[0mpayload\u001b[0m\u001b[0;34m:\u001b[0m\u001b[0;34m\u001b[0m\u001b[0;34m\u001b[0m\u001b[0m\n\u001b[1;32m   1717\u001b[0m             \u001b[0;32mreturn\u001b[0m \u001b[0mself\u001b[0m\u001b[0;34m.\u001b[0m\u001b[0m_client\u001b[0m\u001b[0;34m.\u001b[0m\u001b[0mbeta\u001b[0m\u001b[0;34m.\u001b[0m\u001b[0mmessages\u001b[0m\u001b[0;34m.\u001b[0m\u001b[0mcreate\u001b[0m\u001b[0;34m(\u001b[0m\u001b[0;34m**\u001b[0m\u001b[0mpayload\u001b[0m\u001b[0;34m)\u001b[0m\u001b[0;34m\u001b[0m\u001b[0;34m\u001b[0m\u001b[0m\n\u001b[0;32m-> 1718\u001b[0;31m         \u001b[0;32mreturn\u001b[0m \u001b[0mself\u001b[0m\u001b[0;34m.\u001b[0m\u001b[0m_client\u001b[0m\u001b[0;34m.\u001b[0m\u001b[0mmessages\u001b[0m\u001b[0;34m.\u001b[0m\u001b[0mcreate\u001b[0m\u001b[0;34m(\u001b[0m\u001b[0;34m**\u001b[0m\u001b[0mpayload\u001b[0m\u001b[0;34m)\u001b[0m\u001b[0;34m\u001b[0m\u001b[0;34m\u001b[0m\u001b[0m\n\u001b[0m\u001b[1;32m   1719\u001b[0m \u001b[0;34m\u001b[0m\u001b[0m\n\u001b[1;32m   1720\u001b[0m     \u001b[0;32masync\u001b[0m \u001b[0;32mdef\u001b[0m \u001b[0m_acreate\u001b[0m\u001b[0;34m(\u001b[0m\u001b[0mself\u001b[0m\u001b[0;34m,\u001b[0m \u001b[0mpayload\u001b[0m\u001b[0;34m:\u001b[0m \u001b[0mdict\u001b[0m\u001b[0;34m)\u001b[0m \u001b[0;34m->\u001b[0m \u001b[0mAny\u001b[0m\u001b[0;34m:\u001b[0m\u001b[0;34m\u001b[0m\u001b[0;34m\u001b[0m\u001b[0m\n",
            "\u001b[0;32m/usr/local/lib/python3.12/dist-packages/anthropic/_utils/_utils.py\u001b[0m in \u001b[0;36mwrapper\u001b[0;34m(*args, **kwargs)\u001b[0m\n\u001b[1;32m    280\u001b[0m                         \u001b[0mmsg\u001b[0m \u001b[0;34m=\u001b[0m \u001b[0;34mf\"Missing required argument: {quote(missing[0])}\"\u001b[0m\u001b[0;34m\u001b[0m\u001b[0;34m\u001b[0m\u001b[0m\n\u001b[1;32m    281\u001b[0m                 \u001b[0;32mraise\u001b[0m \u001b[0mTypeError\u001b[0m\u001b[0;34m(\u001b[0m\u001b[0mmsg\u001b[0m\u001b[0;34m)\u001b[0m\u001b[0;34m\u001b[0m\u001b[0;34m\u001b[0m\u001b[0m\n\u001b[0;32m--> 282\u001b[0;31m             \u001b[0;32mreturn\u001b[0m \u001b[0mfunc\u001b[0m\u001b[0;34m(\u001b[0m\u001b[0;34m*\u001b[0m\u001b[0margs\u001b[0m\u001b[0;34m,\u001b[0m \u001b[0;34m**\u001b[0m\u001b[0mkwargs\u001b[0m\u001b[0;34m)\u001b[0m\u001b[0;34m\u001b[0m\u001b[0;34m\u001b[0m\u001b[0m\n\u001b[0m\u001b[1;32m    283\u001b[0m \u001b[0;34m\u001b[0m\u001b[0m\n\u001b[1;32m    284\u001b[0m         \u001b[0;32mreturn\u001b[0m \u001b[0mwrapper\u001b[0m  \u001b[0;31m# type: ignore\u001b[0m\u001b[0;34m\u001b[0m\u001b[0;34m\u001b[0m\u001b[0m\n",
            "\u001b[0;32m/usr/local/lib/python3.12/dist-packages/anthropic/resources/messages/messages.py\u001b[0m in \u001b[0;36mcreate\u001b[0;34m(self, max_tokens, messages, model, metadata, service_tier, stop_sequences, stream, system, temperature, thinking, tool_choice, tools, top_k, top_p, extra_headers, extra_query, extra_body, timeout)\u001b[0m\n\u001b[1;32m    925\u001b[0m             )\n\u001b[1;32m    926\u001b[0m \u001b[0;34m\u001b[0m\u001b[0m\n\u001b[0;32m--> 927\u001b[0;31m         return self._post(\n\u001b[0m\u001b[1;32m    928\u001b[0m             \u001b[0;34m\"/v1/messages\"\u001b[0m\u001b[0;34m,\u001b[0m\u001b[0;34m\u001b[0m\u001b[0;34m\u001b[0m\u001b[0m\n\u001b[1;32m    929\u001b[0m             body=maybe_transform(\n",
            "\u001b[0;32m/usr/local/lib/python3.12/dist-packages/anthropic/_base_client.py\u001b[0m in \u001b[0;36mpost\u001b[0;34m(self, path, cast_to, body, options, files, stream, stream_cls)\u001b[0m\n\u001b[1;32m   1322\u001b[0m             \u001b[0mmethod\u001b[0m\u001b[0;34m=\u001b[0m\u001b[0;34m\"post\"\u001b[0m\u001b[0;34m,\u001b[0m \u001b[0murl\u001b[0m\u001b[0;34m=\u001b[0m\u001b[0mpath\u001b[0m\u001b[0;34m,\u001b[0m \u001b[0mjson_data\u001b[0m\u001b[0;34m=\u001b[0m\u001b[0mbody\u001b[0m\u001b[0;34m,\u001b[0m \u001b[0mfiles\u001b[0m\u001b[0;34m=\u001b[0m\u001b[0mto_httpx_files\u001b[0m\u001b[0;34m(\u001b[0m\u001b[0mfiles\u001b[0m\u001b[0;34m)\u001b[0m\u001b[0;34m,\u001b[0m \u001b[0;34m**\u001b[0m\u001b[0moptions\u001b[0m\u001b[0;34m\u001b[0m\u001b[0;34m\u001b[0m\u001b[0m\n\u001b[1;32m   1323\u001b[0m         )\n\u001b[0;32m-> 1324\u001b[0;31m         \u001b[0;32mreturn\u001b[0m \u001b[0mcast\u001b[0m\u001b[0;34m(\u001b[0m\u001b[0mResponseT\u001b[0m\u001b[0;34m,\u001b[0m \u001b[0mself\u001b[0m\u001b[0;34m.\u001b[0m\u001b[0mrequest\u001b[0m\u001b[0;34m(\u001b[0m\u001b[0mcast_to\u001b[0m\u001b[0;34m,\u001b[0m \u001b[0mopts\u001b[0m\u001b[0;34m,\u001b[0m \u001b[0mstream\u001b[0m\u001b[0;34m=\u001b[0m\u001b[0mstream\u001b[0m\u001b[0;34m,\u001b[0m \u001b[0mstream_cls\u001b[0m\u001b[0;34m=\u001b[0m\u001b[0mstream_cls\u001b[0m\u001b[0;34m)\u001b[0m\u001b[0;34m)\u001b[0m\u001b[0;34m\u001b[0m\u001b[0;34m\u001b[0m\u001b[0m\n\u001b[0m\u001b[1;32m   1325\u001b[0m \u001b[0;34m\u001b[0m\u001b[0m\n\u001b[1;32m   1326\u001b[0m     def patch(\n",
            "\u001b[0;32m/usr/local/lib/python3.12/dist-packages/anthropic/_base_client.py\u001b[0m in \u001b[0;36mrequest\u001b[0;34m(self, cast_to, options, stream, stream_cls)\u001b[0m\n\u001b[1;32m   1031\u001b[0m \u001b[0;34m\u001b[0m\u001b[0m\n\u001b[1;32m   1032\u001b[0m             \u001b[0mremaining_retries\u001b[0m \u001b[0;34m=\u001b[0m \u001b[0mmax_retries\u001b[0m \u001b[0;34m-\u001b[0m \u001b[0mretries_taken\u001b[0m\u001b[0;34m\u001b[0m\u001b[0;34m\u001b[0m\u001b[0m\n\u001b[0;32m-> 1033\u001b[0;31m             \u001b[0mrequest\u001b[0m \u001b[0;34m=\u001b[0m \u001b[0mself\u001b[0m\u001b[0;34m.\u001b[0m\u001b[0m_build_request\u001b[0m\u001b[0;34m(\u001b[0m\u001b[0moptions\u001b[0m\u001b[0;34m,\u001b[0m \u001b[0mretries_taken\u001b[0m\u001b[0;34m=\u001b[0m\u001b[0mretries_taken\u001b[0m\u001b[0;34m)\u001b[0m\u001b[0;34m\u001b[0m\u001b[0;34m\u001b[0m\u001b[0m\n\u001b[0m\u001b[1;32m   1034\u001b[0m             \u001b[0mself\u001b[0m\u001b[0;34m.\u001b[0m\u001b[0m_prepare_request\u001b[0m\u001b[0;34m(\u001b[0m\u001b[0mrequest\u001b[0m\u001b[0;34m)\u001b[0m\u001b[0;34m\u001b[0m\u001b[0;34m\u001b[0m\u001b[0m\n\u001b[1;32m   1035\u001b[0m \u001b[0;34m\u001b[0m\u001b[0m\n",
            "\u001b[0;32m/usr/local/lib/python3.12/dist-packages/anthropic/_base_client.py\u001b[0m in \u001b[0;36m_build_request\u001b[0;34m(self, options, retries_taken)\u001b[0m\n\u001b[1;32m    504\u001b[0m                 \u001b[0;32mraise\u001b[0m \u001b[0mRuntimeError\u001b[0m\u001b[0;34m(\u001b[0m\u001b[0;34mf\"Unexpected JSON data type, {type(json_data)}, cannot merge with `extra_body`\"\u001b[0m\u001b[0;34m)\u001b[0m\u001b[0;34m\u001b[0m\u001b[0;34m\u001b[0m\u001b[0m\n\u001b[1;32m    505\u001b[0m \u001b[0;34m\u001b[0m\u001b[0m\n\u001b[0;32m--> 506\u001b[0;31m         \u001b[0mheaders\u001b[0m \u001b[0;34m=\u001b[0m \u001b[0mself\u001b[0m\u001b[0;34m.\u001b[0m\u001b[0m_build_headers\u001b[0m\u001b[0;34m(\u001b[0m\u001b[0moptions\u001b[0m\u001b[0;34m,\u001b[0m \u001b[0mretries_taken\u001b[0m\u001b[0;34m=\u001b[0m\u001b[0mretries_taken\u001b[0m\u001b[0;34m)\u001b[0m\u001b[0;34m\u001b[0m\u001b[0;34m\u001b[0m\u001b[0m\n\u001b[0m\u001b[1;32m    507\u001b[0m         \u001b[0mparams\u001b[0m \u001b[0;34m=\u001b[0m \u001b[0m_merge_mappings\u001b[0m\u001b[0;34m(\u001b[0m\u001b[0mself\u001b[0m\u001b[0;34m.\u001b[0m\u001b[0mdefault_query\u001b[0m\u001b[0;34m,\u001b[0m \u001b[0moptions\u001b[0m\u001b[0;34m.\u001b[0m\u001b[0mparams\u001b[0m\u001b[0;34m)\u001b[0m\u001b[0;34m\u001b[0m\u001b[0;34m\u001b[0m\u001b[0m\n\u001b[1;32m    508\u001b[0m         \u001b[0mcontent_type\u001b[0m \u001b[0;34m=\u001b[0m \u001b[0mheaders\u001b[0m\u001b[0;34m.\u001b[0m\u001b[0mget\u001b[0m\u001b[0;34m(\u001b[0m\u001b[0;34m\"Content-Type\"\u001b[0m\u001b[0;34m)\u001b[0m\u001b[0;34m\u001b[0m\u001b[0;34m\u001b[0m\u001b[0m\n",
            "\u001b[0;32m/usr/local/lib/python3.12/dist-packages/anthropic/_base_client.py\u001b[0m in \u001b[0;36m_build_headers\u001b[0;34m(self, options, retries_taken)\u001b[0m\n\u001b[1;32m    445\u001b[0m             \u001b[0mcustom_headers\u001b[0m\u001b[0;34m,\u001b[0m\u001b[0;34m\u001b[0m\u001b[0;34m\u001b[0m\u001b[0m\n\u001b[1;32m    446\u001b[0m         )\n\u001b[0;32m--> 447\u001b[0;31m         \u001b[0mself\u001b[0m\u001b[0;34m.\u001b[0m\u001b[0m_validate_headers\u001b[0m\u001b[0;34m(\u001b[0m\u001b[0mheaders_dict\u001b[0m\u001b[0;34m,\u001b[0m \u001b[0mcustom_headers\u001b[0m\u001b[0;34m)\u001b[0m\u001b[0;34m\u001b[0m\u001b[0;34m\u001b[0m\u001b[0m\n\u001b[0m\u001b[1;32m    448\u001b[0m \u001b[0;34m\u001b[0m\u001b[0m\n\u001b[1;32m    449\u001b[0m         \u001b[0;31m# headers are case-insensitive while dictionaries are not.\u001b[0m\u001b[0;34m\u001b[0m\u001b[0;34m\u001b[0m\u001b[0m\n",
            "\u001b[0;32m/usr/local/lib/python3.12/dist-packages/anthropic/_client.py\u001b[0m in \u001b[0;36m_validate_headers\u001b[0;34m(self, headers, custom_headers)\u001b[0m\n\u001b[1;32m    194\u001b[0m             \u001b[0;32mreturn\u001b[0m\u001b[0;34m\u001b[0m\u001b[0;34m\u001b[0m\u001b[0m\n\u001b[1;32m    195\u001b[0m \u001b[0;34m\u001b[0m\u001b[0m\n\u001b[0;32m--> 196\u001b[0;31m         raise TypeError(\n\u001b[0m\u001b[1;32m    197\u001b[0m             \u001b[0;34m'\"Could not resolve authentication method. Expected either api_key or auth_token to be set. Or for one of the `X-Api-Key` or `Authorization` headers to be explicitly omitted\"'\u001b[0m\u001b[0;34m\u001b[0m\u001b[0;34m\u001b[0m\u001b[0m\n\u001b[1;32m    198\u001b[0m         )\n",
            "\u001b[0;31mTypeError\u001b[0m: \"Could not resolve authentication method. Expected either api_key or auth_token to be set. Or for one of the `X-Api-Key` or `Authorization` headers to be explicitly omitted\""
          ]
        }
      ]
    },
    {
      "cell_type": "markdown",
      "source": [
        "## Gemini"
      ],
      "metadata": {
        "id": "y8oNT9IYJsVv"
      }
    },
    {
      "cell_type": "code",
      "source": [
        "import os\n",
        "from getpass import getpass\n",
        "\n",
        "os.environ[\"GOOGLE_API_KEY\"] = getpass(\"Enter your Google API key: \")\n"
      ],
      "metadata": {
        "colab": {
          "base_uri": "https://localhost:8080/"
        },
        "id": "fqoUg9IaJYJZ",
        "outputId": "010c8d4a-5507-490c-b655-867625b91291"
      },
      "execution_count": 39,
      "outputs": [
        {
          "name": "stdout",
          "output_type": "stream",
          "text": [
            "Enter your Google API key: ··········\n"
          ]
        }
      ]
    },
    {
      "cell_type": "code",
      "source": [
        "!pip install langchain_google_genai"
      ],
      "metadata": {
        "colab": {
          "base_uri": "https://localhost:8080/",
          "height": 1000
        },
        "id": "fTcFnQo-KYOQ",
        "outputId": "b574d972-649f-4999-e66a-a15c45909790"
      },
      "execution_count": 41,
      "outputs": [
        {
          "output_type": "stream",
          "name": "stdout",
          "text": [
            "Collecting langchain_google_genai\n",
            "  Downloading langchain_google_genai-3.0.0-py3-none-any.whl.metadata (7.1 kB)\n",
            "Requirement already satisfied: langchain-core<2.0.0,>=1.0.0 in /usr/local/lib/python3.12/dist-packages (from langchain_google_genai) (1.0.1)\n",
            "Collecting google-ai-generativelanguage<1.0.0,>=0.7.0 (from langchain_google_genai)\n",
            "  Downloading google_ai_generativelanguage-0.9.0-py3-none-any.whl.metadata (10 kB)\n",
            "Requirement already satisfied: pydantic<3.0.0,>=2.0.0 in /usr/local/lib/python3.12/dist-packages (from langchain_google_genai) (2.11.10)\n",
            "Collecting filetype<2.0.0,>=1.2.0 (from langchain_google_genai)\n",
            "  Downloading filetype-1.2.0-py2.py3-none-any.whl.metadata (6.5 kB)\n",
            "Requirement already satisfied: google-api-core!=2.0.*,!=2.1.*,!=2.10.*,!=2.2.*,!=2.3.*,!=2.4.*,!=2.5.*,!=2.6.*,!=2.7.*,!=2.8.*,!=2.9.*,<3.0.0,>=1.34.1 in /usr/local/lib/python3.12/dist-packages (from google-api-core[grpc]!=2.0.*,!=2.1.*,!=2.10.*,!=2.2.*,!=2.3.*,!=2.4.*,!=2.5.*,!=2.6.*,!=2.7.*,!=2.8.*,!=2.9.*,<3.0.0,>=1.34.1->google-ai-generativelanguage<1.0.0,>=0.7.0->langchain_google_genai) (2.26.0)\n",
            "Requirement already satisfied: google-auth!=2.24.0,!=2.25.0,<3.0.0,>=2.14.1 in /usr/local/lib/python3.12/dist-packages (from google-ai-generativelanguage<1.0.0,>=0.7.0->langchain_google_genai) (2.38.0)\n",
            "Requirement already satisfied: grpcio<2.0.0,>=1.33.2 in /usr/local/lib/python3.12/dist-packages (from google-ai-generativelanguage<1.0.0,>=0.7.0->langchain_google_genai) (1.75.1)\n",
            "Requirement already satisfied: proto-plus<2.0.0,>=1.22.3 in /usr/local/lib/python3.12/dist-packages (from google-ai-generativelanguage<1.0.0,>=0.7.0->langchain_google_genai) (1.26.1)\n",
            "Requirement already satisfied: protobuf!=4.21.0,!=4.21.1,!=4.21.2,!=4.21.3,!=4.21.4,!=4.21.5,<7.0.0,>=3.20.2 in /usr/local/lib/python3.12/dist-packages (from google-ai-generativelanguage<1.0.0,>=0.7.0->langchain_google_genai) (5.29.5)\n",
            "Requirement already satisfied: jsonpatch<2.0.0,>=1.33.0 in /usr/local/lib/python3.12/dist-packages (from langchain-core<2.0.0,>=1.0.0->langchain_google_genai) (1.33)\n",
            "Requirement already satisfied: langsmith<1.0.0,>=0.3.45 in /usr/local/lib/python3.12/dist-packages (from langchain-core<2.0.0,>=1.0.0->langchain_google_genai) (0.4.37)\n",
            "Requirement already satisfied: packaging<26.0.0,>=23.2.0 in /usr/local/lib/python3.12/dist-packages (from langchain-core<2.0.0,>=1.0.0->langchain_google_genai) (25.0)\n",
            "Requirement already satisfied: pyyaml<7.0.0,>=5.3.0 in /usr/local/lib/python3.12/dist-packages (from langchain-core<2.0.0,>=1.0.0->langchain_google_genai) (6.0.3)\n",
            "Requirement already satisfied: tenacity!=8.4.0,<10.0.0,>=8.1.0 in /usr/local/lib/python3.12/dist-packages (from langchain-core<2.0.0,>=1.0.0->langchain_google_genai) (8.5.0)\n",
            "Requirement already satisfied: typing-extensions<5.0.0,>=4.7.0 in /usr/local/lib/python3.12/dist-packages (from langchain-core<2.0.0,>=1.0.0->langchain_google_genai) (4.15.0)\n",
            "Requirement already satisfied: annotated-types>=0.6.0 in /usr/local/lib/python3.12/dist-packages (from pydantic<3.0.0,>=2.0.0->langchain_google_genai) (0.7.0)\n",
            "Requirement already satisfied: pydantic-core==2.33.2 in /usr/local/lib/python3.12/dist-packages (from pydantic<3.0.0,>=2.0.0->langchain_google_genai) (2.33.2)\n",
            "Requirement already satisfied: typing-inspection>=0.4.0 in /usr/local/lib/python3.12/dist-packages (from pydantic<3.0.0,>=2.0.0->langchain_google_genai) (0.4.2)\n",
            "Requirement already satisfied: googleapis-common-protos<2.0.0,>=1.56.2 in /usr/local/lib/python3.12/dist-packages (from google-api-core!=2.0.*,!=2.1.*,!=2.10.*,!=2.2.*,!=2.3.*,!=2.4.*,!=2.5.*,!=2.6.*,!=2.7.*,!=2.8.*,!=2.9.*,<3.0.0,>=1.34.1->google-api-core[grpc]!=2.0.*,!=2.1.*,!=2.10.*,!=2.2.*,!=2.3.*,!=2.4.*,!=2.5.*,!=2.6.*,!=2.7.*,!=2.8.*,!=2.9.*,<3.0.0,>=1.34.1->google-ai-generativelanguage<1.0.0,>=0.7.0->langchain_google_genai) (1.71.0)\n",
            "Requirement already satisfied: requests<3.0.0,>=2.18.0 in /usr/local/lib/python3.12/dist-packages (from google-api-core!=2.0.*,!=2.1.*,!=2.10.*,!=2.2.*,!=2.3.*,!=2.4.*,!=2.5.*,!=2.6.*,!=2.7.*,!=2.8.*,!=2.9.*,<3.0.0,>=1.34.1->google-api-core[grpc]!=2.0.*,!=2.1.*,!=2.10.*,!=2.2.*,!=2.3.*,!=2.4.*,!=2.5.*,!=2.6.*,!=2.7.*,!=2.8.*,!=2.9.*,<3.0.0,>=1.34.1->google-ai-generativelanguage<1.0.0,>=0.7.0->langchain_google_genai) (2.32.4)\n",
            "Requirement already satisfied: grpcio-status<2.0.0,>=1.33.2 in /usr/local/lib/python3.12/dist-packages (from google-api-core[grpc]!=2.0.*,!=2.1.*,!=2.10.*,!=2.2.*,!=2.3.*,!=2.4.*,!=2.5.*,!=2.6.*,!=2.7.*,!=2.8.*,!=2.9.*,<3.0.0,>=1.34.1->google-ai-generativelanguage<1.0.0,>=0.7.0->langchain_google_genai) (1.71.2)\n",
            "Requirement already satisfied: cachetools<6.0,>=2.0.0 in /usr/local/lib/python3.12/dist-packages (from google-auth!=2.24.0,!=2.25.0,<3.0.0,>=2.14.1->google-ai-generativelanguage<1.0.0,>=0.7.0->langchain_google_genai) (5.5.2)\n",
            "Requirement already satisfied: pyasn1-modules>=0.2.1 in /usr/local/lib/python3.12/dist-packages (from google-auth!=2.24.0,!=2.25.0,<3.0.0,>=2.14.1->google-ai-generativelanguage<1.0.0,>=0.7.0->langchain_google_genai) (0.4.2)\n",
            "Requirement already satisfied: rsa<5,>=3.1.4 in /usr/local/lib/python3.12/dist-packages (from google-auth!=2.24.0,!=2.25.0,<3.0.0,>=2.14.1->google-ai-generativelanguage<1.0.0,>=0.7.0->langchain_google_genai) (4.9.1)\n",
            "Requirement already satisfied: jsonpointer>=1.9 in /usr/local/lib/python3.12/dist-packages (from jsonpatch<2.0.0,>=1.33.0->langchain-core<2.0.0,>=1.0.0->langchain_google_genai) (3.0.0)\n",
            "Requirement already satisfied: httpx<1,>=0.23.0 in /usr/local/lib/python3.12/dist-packages (from langsmith<1.0.0,>=0.3.45->langchain-core<2.0.0,>=1.0.0->langchain_google_genai) (0.28.1)\n",
            "Requirement already satisfied: orjson>=3.9.14 in /usr/local/lib/python3.12/dist-packages (from langsmith<1.0.0,>=0.3.45->langchain-core<2.0.0,>=1.0.0->langchain_google_genai) (3.11.3)\n",
            "Requirement already satisfied: requests-toolbelt>=1.0.0 in /usr/local/lib/python3.12/dist-packages (from langsmith<1.0.0,>=0.3.45->langchain-core<2.0.0,>=1.0.0->langchain_google_genai) (1.0.0)\n",
            "Requirement already satisfied: zstandard>=0.23.0 in /usr/local/lib/python3.12/dist-packages (from langsmith<1.0.0,>=0.3.45->langchain-core<2.0.0,>=1.0.0->langchain_google_genai) (0.25.0)\n",
            "Requirement already satisfied: anyio in /usr/local/lib/python3.12/dist-packages (from httpx<1,>=0.23.0->langsmith<1.0.0,>=0.3.45->langchain-core<2.0.0,>=1.0.0->langchain_google_genai) (4.11.0)\n",
            "Requirement already satisfied: certifi in /usr/local/lib/python3.12/dist-packages (from httpx<1,>=0.23.0->langsmith<1.0.0,>=0.3.45->langchain-core<2.0.0,>=1.0.0->langchain_google_genai) (2025.10.5)\n",
            "Requirement already satisfied: httpcore==1.* in /usr/local/lib/python3.12/dist-packages (from httpx<1,>=0.23.0->langsmith<1.0.0,>=0.3.45->langchain-core<2.0.0,>=1.0.0->langchain_google_genai) (1.0.9)\n",
            "Requirement already satisfied: idna in /usr/local/lib/python3.12/dist-packages (from httpx<1,>=0.23.0->langsmith<1.0.0,>=0.3.45->langchain-core<2.0.0,>=1.0.0->langchain_google_genai) (3.11)\n",
            "Requirement already satisfied: h11>=0.16 in /usr/local/lib/python3.12/dist-packages (from httpcore==1.*->httpx<1,>=0.23.0->langsmith<1.0.0,>=0.3.45->langchain-core<2.0.0,>=1.0.0->langchain_google_genai) (0.16.0)\n",
            "Requirement already satisfied: pyasn1<0.7.0,>=0.6.1 in /usr/local/lib/python3.12/dist-packages (from pyasn1-modules>=0.2.1->google-auth!=2.24.0,!=2.25.0,<3.0.0,>=2.14.1->google-ai-generativelanguage<1.0.0,>=0.7.0->langchain_google_genai) (0.6.1)\n",
            "Requirement already satisfied: charset_normalizer<4,>=2 in /usr/local/lib/python3.12/dist-packages (from requests<3.0.0,>=2.18.0->google-api-core!=2.0.*,!=2.1.*,!=2.10.*,!=2.2.*,!=2.3.*,!=2.4.*,!=2.5.*,!=2.6.*,!=2.7.*,!=2.8.*,!=2.9.*,<3.0.0,>=1.34.1->google-api-core[grpc]!=2.0.*,!=2.1.*,!=2.10.*,!=2.2.*,!=2.3.*,!=2.4.*,!=2.5.*,!=2.6.*,!=2.7.*,!=2.8.*,!=2.9.*,<3.0.0,>=1.34.1->google-ai-generativelanguage<1.0.0,>=0.7.0->langchain_google_genai) (3.4.4)\n",
            "Requirement already satisfied: urllib3<3,>=1.21.1 in /usr/local/lib/python3.12/dist-packages (from requests<3.0.0,>=2.18.0->google-api-core!=2.0.*,!=2.1.*,!=2.10.*,!=2.2.*,!=2.3.*,!=2.4.*,!=2.5.*,!=2.6.*,!=2.7.*,!=2.8.*,!=2.9.*,<3.0.0,>=1.34.1->google-api-core[grpc]!=2.0.*,!=2.1.*,!=2.10.*,!=2.2.*,!=2.3.*,!=2.4.*,!=2.5.*,!=2.6.*,!=2.7.*,!=2.8.*,!=2.9.*,<3.0.0,>=1.34.1->google-ai-generativelanguage<1.0.0,>=0.7.0->langchain_google_genai) (2.5.0)\n",
            "Requirement already satisfied: sniffio>=1.1 in /usr/local/lib/python3.12/dist-packages (from anyio->httpx<1,>=0.23.0->langsmith<1.0.0,>=0.3.45->langchain-core<2.0.0,>=1.0.0->langchain_google_genai) (1.3.1)\n",
            "Downloading langchain_google_genai-3.0.0-py3-none-any.whl (57 kB)\n",
            "\u001b[2K   \u001b[90m━━━━━━━━━━━━━━━━━━━━━━━━━━━━━━━━━━━━━━━━\u001b[0m \u001b[32m57.8/57.8 kB\u001b[0m \u001b[31m1.8 MB/s\u001b[0m eta \u001b[36m0:00:00\u001b[0m\n",
            "\u001b[?25hDownloading filetype-1.2.0-py2.py3-none-any.whl (19 kB)\n",
            "Downloading google_ai_generativelanguage-0.9.0-py3-none-any.whl (1.4 MB)\n",
            "\u001b[2K   \u001b[90m━━━━━━━━━━━━━━━━━━━━━━━━━━━━━━━━━━━━━━━━\u001b[0m \u001b[32m1.4/1.4 MB\u001b[0m \u001b[31m24.0 MB/s\u001b[0m eta \u001b[36m0:00:00\u001b[0m\n",
            "\u001b[?25hInstalling collected packages: filetype, google-ai-generativelanguage, langchain_google_genai\n",
            "  Attempting uninstall: google-ai-generativelanguage\n",
            "    Found existing installation: google-ai-generativelanguage 0.6.15\n",
            "    Uninstalling google-ai-generativelanguage-0.6.15:\n",
            "      Successfully uninstalled google-ai-generativelanguage-0.6.15\n",
            "\u001b[31mERROR: pip's dependency resolver does not currently take into account all the packages that are installed. This behaviour is the source of the following dependency conflicts.\n",
            "google-generativeai 0.8.5 requires google-ai-generativelanguage==0.6.15, but you have google-ai-generativelanguage 0.9.0 which is incompatible.\u001b[0m\u001b[31m\n",
            "\u001b[0mSuccessfully installed filetype-1.2.0 google-ai-generativelanguage-0.9.0 langchain_google_genai-3.0.0\n"
          ]
        },
        {
          "output_type": "display_data",
          "data": {
            "application/vnd.colab-display-data+json": {
              "pip_warning": {
                "packages": [
                  "google"
                ]
              },
              "id": "b08605fadc75471a98074b43ce009717"
            }
          },
          "metadata": {}
        }
      ]
    },
    {
      "cell_type": "code",
      "source": [
        "from langchain_google_genai import ChatGoogleGenerativeAI\n",
        "model_gemini = ChatGoogleGenerativeAI(model='gemini-1.5-pro')\n",
        "result = model_gemini.invoke('What is the capital of France?')\n",
        "print(result.content)"
      ],
      "metadata": {
        "colab": {
          "base_uri": "https://localhost:8080/"
        },
        "id": "OjQmJRroJ1pL",
        "outputId": "77642eaf-2cb4-4f0e-b1ca-142ec1696df1"
      },
      "execution_count": 44,
      "outputs": [
        {
          "output_type": "stream",
          "name": "stdout",
          "text": [
            "The capital of France is Paris.\n"
          ]
        }
      ]
    },
    {
      "cell_type": "markdown",
      "source": [
        "## Open Source Models\n",
        "\n",
        "These Language models are freely available AI models that can be downloaded, modifed, finetuned and deployed without restrictions from a central provider. Unlike closed source models such as OpenAI's GPT-4, Anthropic's Claude, or Google's Gemini, open source models allow full control and customization"
      ],
      "metadata": {
        "id": "a5uQzP1lKwvU"
      }
    },
    {
      "cell_type": "markdown",
      "source": [
        "| Feature      | Open Source Models | Closed Source Models     |\n",
        "|:------------|:---:|------------:|\n",
        "| Cost     | Free to use (no API cost) | Paid API Usage  |\n",
        "| Control     | Can modify, fine-tune, and deplpoy anywhere  | Locked to provider's infrastructure   |\n",
        "| Data Privacy  | Runs locally (no data sent to external servers)  | Send queries to provider's servers     |\n",
        "| Customization   | Can fine-tune on specific datasets  | No access to finetuning in most cases      |\n",
        "| Deployment     | Can be deployed on on-premise servers or cloud | Must use vendor's API   |\n"
      ],
      "metadata": {
        "id": "qKveRh-CLFTZ"
      }
    },
    {
      "cell_type": "markdown",
      "source": [
        "| Model       | Develoepr | Parameters       | Best Use case     |\n",
        "|:------------|:---:|------------:|------------:|\n",
        "| LLaMA-2-7B/13B/70B     | Meta AI  | 7B-70B | General purpose text generation\n",
        "| Mistral-8x-7B      | Mistral AI  | 8x7B(MoE)      |Efficient & Fast response\n",
        "\n"
      ],
      "metadata": {
        "id": "AF8xXknoLx3l"
      }
    },
    {
      "cell_type": "markdown",
      "source": [
        "HuggingFace - The largest repository of open-source models\n",
        "Two ways to use it\n",
        "1. Using HF Inference API\n",
        "2. Running Locally"
      ],
      "metadata": {
        "id": "-yIQWL7XMvCj"
      }
    },
    {
      "cell_type": "markdown",
      "source": [
        "Disadvantages\n",
        "\n",
        "| Disadvantage       | Details |\n",
        "|:------------|:---:|\n",
        "| High Hardware Requirements     | Running large models (eg LLAMA-2-70B) requires expemnsive GPUs |\n",
        "| Setup Complexity     | Requires installation of dependencies like PyTorch, CUDA, Transformers |\n",
        "| Lack of RLHF   | Most open-source models don't have fine-tuning with human feedback, making them weaker in instruction following |\n",
        "| Limited Multimodal Abilities  | Open Models don't support images, audio or video alot |\n"
      ],
      "metadata": {
        "id": "-YymeXEGM-cq"
      }
    },
    {
      "cell_type": "code",
      "source": [
        "\n",
        "os.environ[\"HUGGINGFACEHUB_API_TOKEN\"] = getpass(\"Enter your Hugging Face API key: \")"
      ],
      "metadata": {
        "colab": {
          "base_uri": "https://localhost:8080/"
        },
        "id": "dlbpDPJpKWLr",
        "outputId": "7609f25d-3d26-485c-9cd8-e449b2304392"
      },
      "execution_count": 51,
      "outputs": [
        {
          "name": "stdout",
          "output_type": "stream",
          "text": [
            "Enter your Hugging Face API key: ··········\n"
          ]
        }
      ]
    },
    {
      "cell_type": "code",
      "source": [
        "!pip install langchain-huggingface"
      ],
      "metadata": {
        "colab": {
          "base_uri": "https://localhost:8080/"
        },
        "id": "NGfOYJxXQDAp",
        "outputId": "67fe404a-1419-4e10-cc7d-2591b5aeab90"
      },
      "execution_count": 48,
      "outputs": [
        {
          "output_type": "stream",
          "name": "stdout",
          "text": [
            "Requirement already satisfied: langchain-huggingface in /usr/local/lib/python3.12/dist-packages (1.0.0)\n",
            "Requirement already satisfied: huggingface-hub<1.0.0,>=0.33.4 in /usr/local/lib/python3.12/dist-packages (from langchain-huggingface) (0.35.3)\n",
            "Requirement already satisfied: langchain-core<2.0.0,>=1.0.0 in /usr/local/lib/python3.12/dist-packages (from langchain-huggingface) (1.0.1)\n",
            "Requirement already satisfied: tokenizers<1.0.0,>=0.19.1 in /usr/local/lib/python3.12/dist-packages (from langchain-huggingface) (0.22.1)\n",
            "Requirement already satisfied: filelock in /usr/local/lib/python3.12/dist-packages (from huggingface-hub<1.0.0,>=0.33.4->langchain-huggingface) (3.20.0)\n",
            "Requirement already satisfied: fsspec>=2023.5.0 in /usr/local/lib/python3.12/dist-packages (from huggingface-hub<1.0.0,>=0.33.4->langchain-huggingface) (2025.3.0)\n",
            "Requirement already satisfied: packaging>=20.9 in /usr/local/lib/python3.12/dist-packages (from huggingface-hub<1.0.0,>=0.33.4->langchain-huggingface) (25.0)\n",
            "Requirement already satisfied: pyyaml>=5.1 in /usr/local/lib/python3.12/dist-packages (from huggingface-hub<1.0.0,>=0.33.4->langchain-huggingface) (6.0.3)\n",
            "Requirement already satisfied: requests in /usr/local/lib/python3.12/dist-packages (from huggingface-hub<1.0.0,>=0.33.4->langchain-huggingface) (2.32.4)\n",
            "Requirement already satisfied: tqdm>=4.42.1 in /usr/local/lib/python3.12/dist-packages (from huggingface-hub<1.0.0,>=0.33.4->langchain-huggingface) (4.67.1)\n",
            "Requirement already satisfied: typing-extensions>=3.7.4.3 in /usr/local/lib/python3.12/dist-packages (from huggingface-hub<1.0.0,>=0.33.4->langchain-huggingface) (4.15.0)\n",
            "Requirement already satisfied: hf-xet<2.0.0,>=1.1.3 in /usr/local/lib/python3.12/dist-packages (from huggingface-hub<1.0.0,>=0.33.4->langchain-huggingface) (1.1.10)\n",
            "Requirement already satisfied: jsonpatch<2.0.0,>=1.33.0 in /usr/local/lib/python3.12/dist-packages (from langchain-core<2.0.0,>=1.0.0->langchain-huggingface) (1.33)\n",
            "Requirement already satisfied: langsmith<1.0.0,>=0.3.45 in /usr/local/lib/python3.12/dist-packages (from langchain-core<2.0.0,>=1.0.0->langchain-huggingface) (0.4.37)\n",
            "Requirement already satisfied: pydantic<3.0.0,>=2.7.4 in /usr/local/lib/python3.12/dist-packages (from langchain-core<2.0.0,>=1.0.0->langchain-huggingface) (2.11.10)\n",
            "Requirement already satisfied: tenacity!=8.4.0,<10.0.0,>=8.1.0 in /usr/local/lib/python3.12/dist-packages (from langchain-core<2.0.0,>=1.0.0->langchain-huggingface) (8.5.0)\n",
            "Requirement already satisfied: jsonpointer>=1.9 in /usr/local/lib/python3.12/dist-packages (from jsonpatch<2.0.0,>=1.33.0->langchain-core<2.0.0,>=1.0.0->langchain-huggingface) (3.0.0)\n",
            "Requirement already satisfied: httpx<1,>=0.23.0 in /usr/local/lib/python3.12/dist-packages (from langsmith<1.0.0,>=0.3.45->langchain-core<2.0.0,>=1.0.0->langchain-huggingface) (0.28.1)\n",
            "Requirement already satisfied: orjson>=3.9.14 in /usr/local/lib/python3.12/dist-packages (from langsmith<1.0.0,>=0.3.45->langchain-core<2.0.0,>=1.0.0->langchain-huggingface) (3.11.3)\n",
            "Requirement already satisfied: requests-toolbelt>=1.0.0 in /usr/local/lib/python3.12/dist-packages (from langsmith<1.0.0,>=0.3.45->langchain-core<2.0.0,>=1.0.0->langchain-huggingface) (1.0.0)\n",
            "Requirement already satisfied: zstandard>=0.23.0 in /usr/local/lib/python3.12/dist-packages (from langsmith<1.0.0,>=0.3.45->langchain-core<2.0.0,>=1.0.0->langchain-huggingface) (0.25.0)\n",
            "Requirement already satisfied: annotated-types>=0.6.0 in /usr/local/lib/python3.12/dist-packages (from pydantic<3.0.0,>=2.7.4->langchain-core<2.0.0,>=1.0.0->langchain-huggingface) (0.7.0)\n",
            "Requirement already satisfied: pydantic-core==2.33.2 in /usr/local/lib/python3.12/dist-packages (from pydantic<3.0.0,>=2.7.4->langchain-core<2.0.0,>=1.0.0->langchain-huggingface) (2.33.2)\n",
            "Requirement already satisfied: typing-inspection>=0.4.0 in /usr/local/lib/python3.12/dist-packages (from pydantic<3.0.0,>=2.7.4->langchain-core<2.0.0,>=1.0.0->langchain-huggingface) (0.4.2)\n",
            "Requirement already satisfied: charset_normalizer<4,>=2 in /usr/local/lib/python3.12/dist-packages (from requests->huggingface-hub<1.0.0,>=0.33.4->langchain-huggingface) (3.4.4)\n",
            "Requirement already satisfied: idna<4,>=2.5 in /usr/local/lib/python3.12/dist-packages (from requests->huggingface-hub<1.0.0,>=0.33.4->langchain-huggingface) (3.11)\n",
            "Requirement already satisfied: urllib3<3,>=1.21.1 in /usr/local/lib/python3.12/dist-packages (from requests->huggingface-hub<1.0.0,>=0.33.4->langchain-huggingface) (2.5.0)\n",
            "Requirement already satisfied: certifi>=2017.4.17 in /usr/local/lib/python3.12/dist-packages (from requests->huggingface-hub<1.0.0,>=0.33.4->langchain-huggingface) (2025.10.5)\n",
            "Requirement already satisfied: anyio in /usr/local/lib/python3.12/dist-packages (from httpx<1,>=0.23.0->langsmith<1.0.0,>=0.3.45->langchain-core<2.0.0,>=1.0.0->langchain-huggingface) (4.11.0)\n",
            "Requirement already satisfied: httpcore==1.* in /usr/local/lib/python3.12/dist-packages (from httpx<1,>=0.23.0->langsmith<1.0.0,>=0.3.45->langchain-core<2.0.0,>=1.0.0->langchain-huggingface) (1.0.9)\n",
            "Requirement already satisfied: h11>=0.16 in /usr/local/lib/python3.12/dist-packages (from httpcore==1.*->httpx<1,>=0.23.0->langsmith<1.0.0,>=0.3.45->langchain-core<2.0.0,>=1.0.0->langchain-huggingface) (0.16.0)\n",
            "Requirement already satisfied: sniffio>=1.1 in /usr/local/lib/python3.12/dist-packages (from anyio->httpx<1,>=0.23.0->langsmith<1.0.0,>=0.3.45->langchain-core<2.0.0,>=1.0.0->langchain-huggingface) (1.3.1)\n"
          ]
        }
      ]
    },
    {
      "cell_type": "code",
      "source": [
        "from langchain_huggingface import ChatHuggingFace, HuggingFaceEndpoint\n"
      ],
      "metadata": {
        "id": "hdbXrghJPBea"
      },
      "execution_count": 52,
      "outputs": []
    },
    {
      "cell_type": "code",
      "source": [
        "# Accessing the model via API endpoint\n",
        "llm = HuggingFaceEndpoint(\n",
        "    repo_id='mistralai/Mistral-7B-Instruct-v0.3',\n",
        "    task = 'text-generation'\n",
        ")\n",
        "\n",
        "model = ChatHuggingFace(llm=llm)\n",
        "result = model.invoke('What is the capital of France?')\n",
        "print(result.content)"
      ],
      "metadata": {
        "colab": {
          "base_uri": "https://localhost:8080/"
        },
        "id": "p1CpuZYOPVkx",
        "outputId": "17e658a0-fefe-4be2-8dd9-14f83d6e947f"
      },
      "execution_count": 55,
      "outputs": [
        {
          "output_type": "stream",
          "name": "stdout",
          "text": [
            " The capital of France is Paris. It is one of the most famous cities in the world, known for its rich history, art, culture, and landmarks such as the Eiffel Tower, Louvre Museum, and Notre-Dame Cathedral. Paris is also the political, economic, and cultural center of France.\n"
          ]
        }
      ]
    },
    {
      "cell_type": "markdown",
      "source": [
        "# Downloading the model and using it locally"
      ],
      "metadata": {
        "id": "ESZHwHDuRq_X"
      }
    },
    {
      "cell_type": "code",
      "source": [
        "from langchain_huggingface import ChatHuggingFace, HuggingFacePipeline\n"
      ],
      "metadata": {
        "id": "erkzmrEYP6eS"
      },
      "execution_count": 56,
      "outputs": []
    },
    {
      "cell_type": "code",
      "source": [
        "llm = HuggingFacePipeline.from_model_id(\n",
        "    model_id=\"TinyLlama/TinyLlama-1.1B-Chat-v1.0\",\n",
        "    task = 'text-generation',\n",
        "    pipeline_kwargs= dict(\n",
        "        temperature = 0.5,\n",
        "        max_new_tokens = 100\n",
        "    )\n",
        "\n",
        ")\n",
        "model = ChatHuggingFace(llm=llm)"
      ],
      "metadata": {
        "colab": {
          "base_uri": "https://localhost:8080/",
          "height": 259,
          "referenced_widgets": [
            "54bc81b895254c1da767bb6cb90d04dd",
            "05d1e1b6f61e4fc482dd1c1e36fce3a4",
            "d7231cd15b9a4d1a9b3ad3cace844f53",
            "072547f29a6244bdbecf4de919458f9a",
            "a5928f5c735b485087d7f301f8a4825e",
            "1a9438196df542248596341abcaa5548",
            "185369576d1b479f8f929af63e296040",
            "8624d135dced440fa126c78d58ead6f2",
            "f0cabeec6aa04d2e825d01dc197c1c01",
            "03fd47640a0249e685343eb9496e5b6e",
            "e107f808cf20456cacb84d42735714bb",
            "df08b36c31c74696bf0e9234eeac46ce",
            "b38f204dd3ca40ea8afef9c0525ad720",
            "2bad6686f9f948f888b0869a0dcf3edc",
            "14d5405662d94f70b6f9b07ea026cd5a",
            "8e37d83ed9574abbb475297c30c50422",
            "bee2352a2c464b8990d5cab26961b90c",
            "bf18dd1f4fb6440b9652010355c52d1d",
            "a52f15c4d8c1435e96189e60114e9275",
            "305a272628714290b083ef89d20631a3",
            "fa1517cdb9be4a18b778a58a96473c3d",
            "24b46640f2e9486e9712de4eeb651266",
            "9e60901483d44fc3926793a8930bba20",
            "07a559ec363740f1906f5382d7d769e2",
            "9de545a940cc4f6499e9ae9240f6cb75",
            "2f6a0f6a22de44c7848869782fcd8ab9",
            "69d1b8c1e0614f75ac3dc61c339f2829",
            "0e7c457fc840488895be0ec60d911e67",
            "372c5f4cad2a48cc9b74b886c68e2f20",
            "80f36d3f1c7f4e78bbca13f724197ff0",
            "27e20476cc634a8a9836c5cb94b0a420",
            "f81cf1a87d1e48ffb05ba95e8b9295bd",
            "4aeb7b1ff3ff42b3ac2215faba1278ea",
            "7d2b405587f0496d89d4642b45d0a55e",
            "39b0d86072e8429abb6ea6c9a6fe952f",
            "b5e583971d74424798c50a02e097c61f",
            "a1df59efa70e4c0a89dd37220a9dc8b5",
            "9e1bc86d26744b47ad00d80fecf18cf7",
            "656bedf1c58a4cef98583f8ce509d242",
            "f9f2d6eb39cc4b0da5f56926ec27c86f",
            "febaab119b494f9f84282becc010dabf",
            "1d0b118bc0504adcbfd2a5de8c8eb61e",
            "b07b7a6d50694eaf923ad1a0393db5d0",
            "a071c06bc5f746c6817ddbbc10b7674a",
            "4d2caab33d674916bc8c09b07d1a806e",
            "468b11433ed24da5873eb9b6b77dab8f",
            "0ae6f483f21f4245986a7826c800677d",
            "499ce1cbdc7f47c58f7b90f85ac856fe",
            "f351491d0b6d4761b5a3e254033c2e58",
            "8392cc6ef2634d67a384e2d5120f3237",
            "baf209b77b0d481e938434a35c1e24b3",
            "c395fcf51dbf43b3848159e724646990",
            "ba0b323e7f0d4b3b94b678367660671e",
            "cc2f449212d54d2db685bbc84e3b3368",
            "d3b5627731a345d5863070145a763723",
            "2e6c53bc85db45de8448a253788ef9e9",
            "d3404fe3c5224949ab590b01f244586e",
            "f8938140834a43f28e7d23394628c81c",
            "21f41174fa5443fd9fd27b05f8869df5",
            "d7cf8d86bad845a182295624d3df3ed9",
            "b67bb43bb14041a9b5b04e88d10ab5c5",
            "8191715ef8fc419d9f60bb3f246fd13c",
            "400e9762298d4368b148dea45f0322e9",
            "39538d80b52e42b0b61e0558bbdb4739",
            "b0b32069707d49398727972dbc9d9f1a",
            "f2f1678df98342ae84ff8bfd765876bb",
            "e0f82502d9174b5194a0b9cd73c64c90",
            "7223985f1d6f40a8bd03050fc0a4d846",
            "2fb9aac9088c465cad3546c95ab42769",
            "fd5b398160d24f6c9b6810108702a88c",
            "23e9c185db354c91a50be6faa0a05b3f",
            "be12d6a84b554deb81e9dac5df44dbe1",
            "31591833a77847adac73f3e33a41ce7e",
            "0cb52cadb2594d0588655ee9839e199f",
            "57bf549cf49a4c4fbb8a135227b45a99",
            "0c971ed72dd248fa951aaf8ecf0812be",
            "247533ed31274178a6ddc692fe09783d"
          ]
        },
        "id": "POTovFsHR3V_",
        "outputId": "41d820b6-f8d0-473e-a695-9ceed6da0c71"
      },
      "execution_count": 57,
      "outputs": [
        {
          "output_type": "display_data",
          "data": {
            "text/plain": [
              "tokenizer_config.json: 0.00B [00:00, ?B/s]"
            ],
            "application/vnd.jupyter.widget-view+json": {
              "version_major": 2,
              "version_minor": 0,
              "model_id": "54bc81b895254c1da767bb6cb90d04dd"
            }
          },
          "metadata": {}
        },
        {
          "output_type": "display_data",
          "data": {
            "text/plain": [
              "tokenizer.model:   0%|          | 0.00/500k [00:00<?, ?B/s]"
            ],
            "application/vnd.jupyter.widget-view+json": {
              "version_major": 2,
              "version_minor": 0,
              "model_id": "df08b36c31c74696bf0e9234eeac46ce"
            }
          },
          "metadata": {}
        },
        {
          "output_type": "display_data",
          "data": {
            "text/plain": [
              "tokenizer.json: 0.00B [00:00, ?B/s]"
            ],
            "application/vnd.jupyter.widget-view+json": {
              "version_major": 2,
              "version_minor": 0,
              "model_id": "9e60901483d44fc3926793a8930bba20"
            }
          },
          "metadata": {}
        },
        {
          "output_type": "display_data",
          "data": {
            "text/plain": [
              "special_tokens_map.json:   0%|          | 0.00/551 [00:00<?, ?B/s]"
            ],
            "application/vnd.jupyter.widget-view+json": {
              "version_major": 2,
              "version_minor": 0,
              "model_id": "7d2b405587f0496d89d4642b45d0a55e"
            }
          },
          "metadata": {}
        },
        {
          "output_type": "display_data",
          "data": {
            "text/plain": [
              "config.json:   0%|          | 0.00/608 [00:00<?, ?B/s]"
            ],
            "application/vnd.jupyter.widget-view+json": {
              "version_major": 2,
              "version_minor": 0,
              "model_id": "4d2caab33d674916bc8c09b07d1a806e"
            }
          },
          "metadata": {}
        },
        {
          "output_type": "display_data",
          "data": {
            "text/plain": [
              "model.safetensors:   0%|          | 0.00/2.20G [00:00<?, ?B/s]"
            ],
            "application/vnd.jupyter.widget-view+json": {
              "version_major": 2,
              "version_minor": 0,
              "model_id": "2e6c53bc85db45de8448a253788ef9e9"
            }
          },
          "metadata": {}
        },
        {
          "output_type": "display_data",
          "data": {
            "text/plain": [
              "generation_config.json:   0%|          | 0.00/124 [00:00<?, ?B/s]"
            ],
            "application/vnd.jupyter.widget-view+json": {
              "version_major": 2,
              "version_minor": 0,
              "model_id": "e0f82502d9174b5194a0b9cd73c64c90"
            }
          },
          "metadata": {}
        },
        {
          "output_type": "stream",
          "name": "stderr",
          "text": [
            "Device set to use cpu\n"
          ]
        }
      ]
    },
    {
      "cell_type": "code",
      "source": [
        "result = model.invoke(\"What is the capital of France?\")\n",
        "print(result.content)"
      ],
      "metadata": {
        "colab": {
          "base_uri": "https://localhost:8080/"
        },
        "id": "b-JiVda2SXOB",
        "outputId": "77bdb353-b602-47c9-cb43-5233530afc8b"
      },
      "execution_count": 58,
      "outputs": [
        {
          "output_type": "stream",
          "name": "stdout",
          "text": [
            "<|user|>\n",
            "What is the capital of France?</s>\n",
            "<|assistant|>\n",
            "The capital of France is Paris.\n"
          ]
        }
      ]
    },
    {
      "cell_type": "markdown",
      "source": [
        "## Embedding Models"
      ],
      "metadata": {
        "id": "rOE1OPg-Tlf8"
      }
    },
    {
      "cell_type": "code",
      "source": [
        "from langchain_openai import OpenAIEmbeddings"
      ],
      "metadata": {
        "id": "zpDYHv5SSc54"
      },
      "execution_count": 59,
      "outputs": []
    },
    {
      "cell_type": "code",
      "source": [
        "# The default dimension for large model is 3072, but we keeping it at 32, for the sake of time and cost\n",
        "embedding_obj = OpenAIEmbeddings(model='text-embedding-3-large', dimensions=32)\n",
        "embedding = embedding_obj.embed_query(\"Paris is the capital of France.\")\n",
        "print(str(embedding))\n",
        "\n"
      ],
      "metadata": {
        "colab": {
          "base_uri": "https://localhost:8080/"
        },
        "id": "vjEdEURpT44k",
        "outputId": "aaf123fa-bd26-497a-e5bc-a59c5c096ab7"
      },
      "execution_count": 61,
      "outputs": [
        {
          "output_type": "stream",
          "name": "stdout",
          "text": [
            "[-0.06186187267303467, 0.4578055441379547, -0.07168781012296677, 0.3645283579826355, -0.22530454397201538, -0.09362316876649857, 0.13265012204647064, -0.1238621398806572, -0.12746037542819977, -0.20648303627967834, -0.03819659352302551, 0.10144239664077759, 0.038404181599617004, -0.03316253051161766, -0.0022272695787250996, -0.09659863263368607, -0.09389995783567429, 0.14088453352451324, -0.06847015768289566, 0.15527744591236115, 0.005808200221508741, -0.14780420064926147, -0.4298500716686249, -0.13085101544857025, -0.048783693462610245, 0.19596512615680695, 0.09583746641874313, 0.08801823854446411, 0.01526652742177248, 0.17977309226989746, 0.31775137782096863, -0.0330241359770298]\n"
          ]
        }
      ]
    },
    {
      "cell_type": "markdown",
      "source": [
        "Lets. now generate the embeding of an entire file, and not just a query"
      ],
      "metadata": {
        "id": "t4GFgpFBU17R"
      }
    },
    {
      "cell_type": "code",
      "source": [
        "embedding_obj = OpenAIEmbeddings(model='text-embedding-3-large', dimensions=32)\n",
        "documents = [\n",
        "    \"Delhi is the capital of India.\",\n",
        "    \"Ranchi is the capital of Jharkhand.\",\n",
        "    \"Patna. is the capital of Bihar\"\n",
        "]\n",
        "\n",
        "result = embedding_obj.embed_documents(documents)\n",
        "print(str(result))"
      ],
      "metadata": {
        "colab": {
          "base_uri": "https://localhost:8080/"
        },
        "id": "T0Fpoy8pUaFt",
        "outputId": "243e3f84-d37f-4bf6-a420-c8fcd4dcbdbf"
      },
      "execution_count": 62,
      "outputs": [
        {
          "output_type": "stream",
          "name": "stdout",
          "text": [
            "[[-0.07267331331968307, 0.19324959814548492, -0.012327593751251698, 0.43522101640701294, -0.1720617413520813, 0.05143427848815918, -0.14166177809238434, 0.05793393403291702, -0.1444254070520401, -0.1371580809354782, -0.11832442879676819, 0.1397169977426529, 0.00717137148603797, -0.21024081110954285, -0.22252362966537476, -0.10614397376775742, -0.19273780286312103, 0.18833646178245544, 0.0856214389204979, -0.2296885997056961, -0.0029779423493891954, -0.03459658846259117, -0.08188541978597641, -0.04396223649382591, -0.16336141526699066, 0.4794391393661499, 0.2843471169471741, -0.050026874989271164, -0.021891554817557335, 0.021686840802431107, 0.21515394747257233, 0.06484301388263702], [0.062414295971393585, 0.14284509420394897, -0.07086489349603653, 0.33596479892730713, -0.21585480868816376, 0.06219981238245964, -0.04675710201263428, 0.0035845323000103235, -0.2889502942562103, 0.1706419736146927, -0.13821227848529816, 0.031593214720487595, -0.2141389399766922, -0.04133070260286331, -0.27110540866851807, 0.07558349519968033, 0.03375948593020439, 0.38332244753837585, 0.034767549484968185, 0.07657011598348618, 0.32807183265686035, -0.372684121131897, 0.012214756570756435, 0.17982180416584015, 0.1647222638130188, 0.22529201209545135, -0.02906232699751854, 0.07185150682926178, -0.07403922826051712, 0.08793766796588898, 0.034810446202754974, 0.11479082703590393], [0.03808978945016861, 0.3355429768562317, 0.05812116712331772, 0.4077766239643097, -0.020147433504462242, 0.15625867247581482, -0.2252427339553833, 0.05932815745472908, -0.2536534070968628, -0.24678285419940948, 0.09010638296604156, -0.01887081004679203, -0.0995301827788353, -0.3292295038700104, 0.006220636423677206, 0.09971586614847183, 0.1254340261220932, 0.1933039426803589, -0.026576971635222435, -0.012313609942793846, -0.12237012386322021, -0.08843516558408737, 0.06592017412185669, -0.05830685794353485, 0.20166002213954926, 0.4475144147872925, 0.010091125033795834, -0.0037486297078430653, -0.14121772348880768, -0.08713532984256744, 0.049857933074235916, 0.14019642770290375]]\n"
          ]
        }
      ]
    },
    {
      "cell_type": "code",
      "source": [
        "from langchain_huggingface import HuggingFaceEmbeddings\n",
        "embedding_obj = HuggingFaceEmbeddings(model_name='sentence-transformers/all-MiniLM-L6-v2')\n",
        "\n",
        "text = 'Paris is the capital of France.'\n",
        "embedding = embedding_obj.embed_query(text)\n",
        "print(str(embedding))"
      ],
      "metadata": {
        "colab": {
          "base_uri": "https://localhost:8080/"
        },
        "id": "aSxnzMEsVL7L",
        "outputId": "781f0ecf-1b15-44a5-87f3-633a970d6066"
      },
      "execution_count": 64,
      "outputs": [
        {
          "output_type": "stream",
          "name": "stdout",
          "text": [
            "[0.10070480406284332, 0.037152860313653946, 0.02822548896074295, -0.041667670011520386, 0.0671916976571083, -0.047735545784235, 0.009368831291794777, -0.010811394080519676, 0.021422477439045906, 0.02683991938829422, -0.014043694362044334, -0.07074397057294846, 0.006867417600005865, -0.06559625267982483, -0.039673712104558945, -0.12240415811538696, -0.009188590571284294, -0.019201550632715225, 0.04009631276130676, 0.017608467489480972, -0.0028437036089599133, -0.034690938889980316, 0.07244998961687088, 0.01213846355676651, -0.04890365153551102, -0.0017426727572456002, -0.06909015029668808, -0.018630987033247948, -0.019689982756972313, 0.010831773281097412, 0.06691782176494598, -0.01983049511909485, -0.06030932813882828, -0.001621779752895236, -0.04283401370048523, -0.03296345844864845, -0.0006109338719397783, -0.02035326510667801, 0.026338139548897743, 0.04921884089708328, 0.002372274873778224, -0.04640386998653412, -0.05580700933933258, -0.02362196147441864, -0.025786254554986954, 0.024628648534417152, 0.013189215213060379, 0.03826788067817688, 0.028375092893838882, -0.08580631762742996, 0.07519520074129105, 0.03202424198389053, -0.03629956766963005, -0.04153485968708992, -0.040261946618556976, 0.09948286414146423, 0.042513635009527206, 0.013592377305030823, -0.00188966013956815, 0.08864046633243561, -0.00853029265999794, -0.03594338148832321, -0.02355704829096794, 0.043029382824897766, 0.08790306746959686, 0.02959039993584156, 0.011296814307570457, 0.02228684537112713, -0.10383331775665283, 0.04991646856069565, -0.03304402902722359, 0.002427705330774188, 0.013826006092131138, -0.03520660102367401, 0.08703410625457764, -0.02736693061888218, -0.09839215874671936, 0.0589180663228035, 0.01462814025580883, 0.01969466730952263, 0.03762959688901901, -0.059169236570596695, 0.028305659070611, 0.013646702282130718, 0.022970249876379967, -0.005808173678815365, 0.07949335128068924, 0.02278393693268299, 0.05016541853547096, -0.04635658115148544, -0.06784074008464813, 0.02866154909133911, -0.04094235599040985, 0.07837408035993576, -0.11566582322120667, 0.05411478132009506, -0.03634753078222275, 0.03843917325139046, -0.059214409440755844, 0.006223201751708984, -0.04500207304954529, 0.011777374893426895, 0.08044222742319107, -0.050766512751579285, -0.014885379001498222, 0.02747640758752823, -0.0080862483009696, -0.035538021475076675, -0.026641197502613068, -0.06888312846422195, -0.08483206480741501, -0.03289036080241203, 0.038214072585105896, -0.017372464761137962, 0.02374991588294506, 0.05853041261434555, -0.03507264330983162, -0.11351253092288971, 0.005334794521331787, -0.06479156017303467, -0.032510899007320404, -0.04219188913702965, -0.015297302044928074, 0.026168495416641235, -0.05392253398895264, -0.0215617623180151, -0.03783548250794411, -8.091585158862296e-33, -0.027627205476164818, 0.09536097943782806, 0.06260770559310913, 0.015554926358163357, -0.02763732708990574, -0.008211608044803143, -0.06384043395519257, 0.05329485610127449, 0.008334141224622726, -0.007971921004354954, 0.043387822806835175, -0.14447537064552307, -0.06588704884052277, 0.07014863193035126, 0.06688934564590454, -0.009609807282686234, 0.1384870707988739, 0.07268952578306198, -0.026054413989186287, 0.0031323519069701433, 0.04205334559082985, -0.04410100355744362, 0.008472904562950134, 0.014086663722991943, 0.06603395193815231, 0.03414734825491905, -0.024654122069478035, 0.10645299404859543, -0.0176557470113039, -0.02354784496128559, -0.039148688316345215, 0.041563887149095535, 0.07240118086338043, 0.01749904453754425, 0.03204352781176567, 0.028389940038323402, 0.03819870576262474, 0.017458466812968254, 0.03976472094655037, 0.08797693997621536, 0.05828360468149185, -0.04608558490872383, -0.01843108795583248, -0.0002744595112744719, 0.010542426258325577, 0.03570576384663582, -0.01875048689544201, -0.06361877173185349, 0.09758032113313675, 0.002889628754928708, -0.0030654873698949814, -0.06516826897859573, -0.04844158887863159, -0.007957737892866135, 0.04509050399065018, 0.104466013610363, -0.1003890335559845, -0.00874719675630331, -0.00011310157424304634, -0.014772315509617329, -0.008937847800552845, 0.015690678730607033, -0.042379509657621384, 0.07564950734376907, 0.03590266406536102, 0.08557075262069702, 0.02747158519923687, 0.028303487226366997, 0.006406677421182394, -0.047632623463869095, -0.068677619099617, 0.02360236458480358, 0.07903438806533813, 0.05200281739234924, 0.07357185333967209, 0.08814642578363419, -0.017880776897072792, 0.02590237185359001, -0.032942935824394226, -0.001355008571408689, 0.0008480740943923593, -0.04556049779057503, -0.07374366372823715, 0.014370039105415344, -0.009270814247429371, -0.03130269795656204, 0.02646544575691223, 0.00469553004950285, -0.003948697354644537, -0.0533711202442646, -0.07621017098426819, -0.1311405599117279, -0.025531554594635963, -0.03329041227698326, -0.08931244909763336, 3.5092345095784686e-33, 0.03695987910032272, 0.04018060117959976, -0.07785938680171967, 0.007846496999263763, 0.03242339566349983, 0.06310232728719711, 0.0727306678891182, -0.03996611386537552, -0.013016176410019398, 0.018887817859649658, -0.09237005561590195, -0.14496949315071106, 0.004103395156562328, -0.05240365490317345, 0.02836812660098076, 0.03972212225198746, 0.007696281187236309, -0.07555411756038666, -0.03185059875249863, 0.001642377465032041, -0.08014684915542603, -0.007175476755946875, -0.05132028087973595, 0.013398311100900173, -0.027752375230193138, -0.003633201587945223, -0.048826321959495544, -0.03054061345756054, -0.0009467204799875617, -0.028965050354599953, -0.055146340280771255, 0.025580788031220436, 0.05525718629360199, 0.10945519059896469, 0.024785539135336876, 0.08142662048339844, 0.03354319930076599, -0.004449591506272554, 0.02733055129647255, 0.008464878425002098, -0.06307859718799591, -0.031013887375593185, 0.032305315136909485, 0.008953784592449665, 0.06394917517900467, 0.023777974769473076, 0.019132699817419052, -0.042820315808057785, -0.009754667989909649, 0.07685570418834686, 0.03820547088980675, 0.0404154509305954, -0.05982666090130806, -0.0399603545665741, -0.010244020260870457, 0.06079515442252159, -0.021078551188111305, 0.030883435159921646, -0.07618293166160583, -0.054347436875104904, 0.038382917642593384, 0.038769543170928955, -0.02939165011048317, 0.08484112471342087, -0.020241938531398773, -0.09314803034067154, -0.10093749314546585, 0.039964765310287476, 0.002636387012898922, 0.03695223107933998, 0.09730355441570282, 0.022654613479971886, -0.05376926809549332, 0.06563008576631546, -0.050598081201314926, -0.005232043098658323, 0.0438808873295784, 0.019783589988946915, -0.004342727363109589, 0.025186220183968544, -0.04115258529782295, 0.018773065879940987, -0.01431051455438137, -0.002389295492321253, -0.03911052644252777, 0.05002082511782646, -0.0471055693924427, -0.07003562897443771, 0.060902539640665054, -0.10952530056238174, -8.520355186192319e-05, -0.033157020807266235, -0.05332378298044205, -0.030381809920072556, 0.036149922758340836, -1.8325302164612367e-08, 0.07758963108062744, 0.035592108964920044, -0.017729217186570168, 0.013427570462226868, -0.055002715438604355, -0.12359137088060379, 0.06091741845011711, -0.0011361484648659825, -0.013912366703152657, -0.0380677655339241, -0.09448561072349548, 0.062803253531456, -0.04429667815566063, -0.06461849808692932, -0.06256043165922165, -0.022947778925299644, -0.016584407538175583, -0.010996052995324135, 0.022837519645690918, 0.0852857232093811, 0.015109443105757236, 0.02456027641892433, -0.04415888711810112, -0.05740959942340851, 0.05435693636536598, -0.10108400881290436, 0.01910439319908619, 0.0265699103474617, -0.04303455352783203, 0.027257360517978668, 0.060561295598745346, -0.0613737590610981, -0.035346049815416336, -0.0739724338054657, 0.03870686516165733, 0.02482300065457821, 0.04560971260070801, 0.010394927114248276, 0.0025796955451369286, -0.0020644674077630043, 0.09809629619121552, 0.019043754786252975, 0.017205694690346718, -0.02413681522011757, 0.029839245602488518, 0.03708422929048538, 0.09319188445806503, -0.06090579181909561, 0.13495272397994995, -0.025199314579367638, -0.08181167393922806, 0.08404694497585297, -0.0343334935605526, -0.021290067583322525, -0.02314057946205139, 0.03372079133987427, -0.10370758920907974, 0.018449489027261734, 0.047343023121356964, -0.03591976314783096, -0.011944702826440334, 0.06233798712491989, 0.10486073046922684, -0.009531515650451183]\n"
          ]
        }
      ]
    },
    {
      "cell_type": "code",
      "source": [
        "documents = [\n",
        "    \"Delhi is the capital of India.\",\n",
        "    \"Ranchi is the capital of Jharkhand.\",\n",
        "    \"Patna. is the capital of Bihar\"\n",
        "]\n",
        "\n",
        "embedding = embedding_obj.embed_documents(documents)\n",
        "print(str(embedding))"
      ],
      "metadata": {
        "colab": {
          "base_uri": "https://localhost:8080/"
        },
        "id": "iIbVk2Q6WCKa",
        "outputId": "a9eb8b43-ef92-4acb-a32f-767c96526f35"
      },
      "execution_count": 65,
      "outputs": [
        {
          "output_type": "stream",
          "name": "stdout",
          "text": [
            "[[0.03895364701747894, 0.026190299540758133, -0.04022999480366707, 0.030604945495724678, -0.023605724796652794, -0.060136809945106506, 0.07395178824663162, 0.016435787081718445, -0.01170290820300579, -0.02273545227944851, 0.012308388948440552, -0.11706360429525375, 0.06992068141698837, -0.06936796009540558, 0.02924441732466221, -0.08110898733139038, 0.03378975763916969, 0.07373359054327011, 0.07176914811134338, -0.07642310112714767, -0.013756537809967995, 0.03879550099372864, 0.0038667942862957716, -0.03243941441178322, 0.0009917138377204537, 0.055515874177217484, 0.005611722823232412, -0.02097156085073948, -0.002045021392405033, 0.0007507732952944934, 0.06470665335655212, 0.018523888662457466, -0.029603630304336548, 0.005121386144310236, -0.05871567502617836, 0.018705857917666435, -0.1311699002981186, 0.06285741180181503, 0.17376883327960968, -0.11450103670358658, 0.04580598697066307, -0.0022412140388041735, 0.07444492727518082, -0.026802586391568184, 0.032853081822395325, -0.020970826968550682, -0.0240071602165699, -0.00168760702945292, -0.015110671520233154, -0.023790506646037102, 0.06559381633996964, -0.04970724135637283, -0.07727740705013275, 0.037602752447128296, 0.023142864927649498, 0.043870337307453156, -0.025416158139705658, -0.04862235113978386, -0.0047644940204918385, 0.035976704210042953, -0.013732006773352623, 0.045337606221437454, -0.03056536428630352, 0.026580024510622025, 0.08182743191719055, 0.016942474991083145, 0.03063572570681572, -0.015986250713467598, 0.01170410681515932, -0.03255890682339668, 0.02615855634212494, -0.014762451872229576, 0.04362892359495163, 0.023518042638897896, -0.015179784968495369, -0.07946555316448212, -0.03256382420659065, 0.07551290094852448, 0.020987261086702347, 0.02610602229833603, -0.015788061544299126, 0.030577540397644043, 0.03294147923588753, 0.08635209500789642, -0.09344984591007233, 0.009968772530555725, -0.04023343324661255, -0.02101672627031803, 0.0032731625251471996, -0.044279828667640686, 0.05014200136065483, 0.06206662207841873, -0.06200701743364334, 0.002724300604313612, -0.055405549705028534, -0.03338992968201637, -0.08044586330652237, 0.054555296897888184, -0.021030034869909286, 0.014656635001301765, 0.01936410553753376, -0.021739233285188675, -0.09129011631011963, 0.027009958401322365, -0.059993818402290344, -0.07634389400482178, 0.0413261316716671, -0.07875081151723862, -0.0007956972112879157, -0.023911524564027786, -0.05423027649521828, 0.017041033133864403, -0.046287767589092255, -0.04521576315164566, -0.005825856234878302, 0.03189166635274887, 0.016578765586018562, -0.008299005217850208, -0.0212249755859375, -0.017028870061039925, -0.07871855050325394, 0.02421966940164566, -0.015601619146764278, -0.0637374222278595, -0.06967486441135406, -0.1009315475821495, -0.03379989042878151, -7.389749644548126e-33, -0.10706920921802521, -0.025187727063894272, 0.09479282796382904, 0.06407198309898376, -0.0035387773532420397, 0.03137115761637688, 0.05106069892644882, -0.085261270403862, -0.002930552465841174, -0.06514480710029602, 0.014344675466418266, -0.15690027177333832, -0.016238214448094368, -0.10869046300649643, 0.08137913048267365, 0.019436238333582878, 0.023795265704393387, -0.0005246492801234126, -0.011684572324156761, 0.007645573932677507, -0.025250878185033798, -0.02366289496421814, 0.008287555538117886, -0.06281806528568268, 0.056614287197589874, -0.02708876132965088, 0.04487067088484764, 0.05740881338715553, 0.05388559028506279, 0.021166035905480385, 0.022734513506293297, 0.08164738118648529, -0.016585996374487877, 0.027682963758707047, 0.015527674928307533, 0.004097888711839914, 0.023784875869750977, 0.014680513180792332, -0.001241185120306909, 0.02095666155219078, -0.05963680520653725, 0.04998805746436119, -0.029839500784873962, -0.021709898486733437, 0.0011428786674514413, 0.08670031279325485, -0.015778904780745506, 0.05960621312260628, 0.028148924931883812, -0.0024429154582321644, 0.0006505893543362617, 0.021547304466366768, -0.000565220310818404, -0.03759228065609932, 0.021443627774715424, 0.12860894203186035, 0.015827547758817673, -0.03094634786248207, -0.006972940638661385, 0.13520382344722748, -0.02202501706779003, -0.052244093269109726, -0.07167789340019226, 0.000656448130030185, 0.053946174681186676, 0.1512288898229599, 0.009597597643733025, -0.05071229860186577, 0.06885455548763275, 0.051130086183547974, -0.023147767409682274, -0.03346141055226326, -0.031124042347073555, 0.08184054493904114, -0.06177408993244171, 0.07885877043008804, -0.006350407842546701, 0.011641492135822773, -0.0654730498790741, -0.008462975732982159, -0.01582944020628929, 0.037515219300985336, 0.006391098722815514, -0.049406204372644424, 0.12106141448020935, -0.08343099057674408, -0.10457110404968262, -0.03859100118279457, 0.053446993231773376, -0.044664736837148666, 0.02217327617108822, -0.08615591377019882, -0.03602423891425133, 0.06994027644395828, -0.05650470405817032, 3.3255411094014236e-33, 0.03073074296116829, -0.01001069601625204, -0.12373632192611694, 0.014583688229322433, -0.034957002848386765, -0.0022878642193973064, -8.194029214791954e-05, -0.026540465652942657, 0.05200658366084099, 0.12626688182353973, -0.01488614734262228, 0.0749289020895958, -0.05173143744468689, 0.07205904275178909, 0.030024316161870956, 0.028265351429581642, 0.0430048406124115, 0.032752275466918945, -0.06323383003473282, -0.03300849720835686, -0.03937021642923355, 0.03598247841000557, -0.05503915622830391, -0.07783733308315277, -0.07343542575836182, 0.03524986281991005, -0.12083545327186584, 0.05593002587556839, 0.01469017006456852, -0.025758670642971992, 0.016773004084825516, -0.0878039076924324, -0.0029930751770734787, 0.04010578989982605, -0.024128584191203117, -0.0031813806854188442, 0.11252453178167343, -0.02133488468825817, 0.0551120899617672, 0.0034861527383327484, -0.05899796634912491, 0.07176414132118225, 0.07589893788099289, 0.02969321981072426, 0.0424731969833374, -0.0828918069601059, 0.0462910421192646, 0.023152600973844528, -0.0617511086165905, 0.019411860033869743, -0.023592950776219368, -0.12217655032873154, 0.04735403507947922, -0.019975533708930016, -0.02929805777966976, 0.00959837343543768, -0.02045932412147522, 0.0654262825846672, 0.03363598883152008, -0.10785495489835739, 0.052759505808353424, 0.01742776297032833, -0.016080711036920547, 0.0895945206284523, -0.08091956377029419, -0.0030819084495306015, -0.0017237081192433834, -0.0051900120452046394, 0.0478723868727684, -0.02608240582048893, 0.027497585862874985, 0.01943899504840374, -0.10806184262037277, 0.011195921339094639, -0.031655777245759964, 0.0634450614452362, 0.06493094563484192, 0.029400940984487534, 0.03672783821821213, -0.005440601613372564, 0.03836013749241829, 0.08387648314237595, 0.015128728933632374, -0.06286908686161041, -0.01179918460547924, 0.040867503732442856, 0.06122475862503052, 0.003797823330387473, 0.028426095843315125, -0.02600264921784401, -0.007395765278488398, 0.011463942937552929, 0.0033302283845841885, 0.012470460496842861, -0.0028695689979940653, -1.799395477064536e-08, -0.029666701331734657, -0.040762364864349365, -0.09159284830093384, 0.05836605280637741, -0.002201867289841175, -0.03484132140874863, 0.015224368311464787, -0.04262116551399231, 0.06488656252622604, -0.009350140579044819, -0.03006628155708313, -0.03424403443932533, -0.05076837167143822, -0.015392384491860867, -0.08406994491815567, -0.0033173211850225925, -0.03802204877138138, -0.007402478717267513, -0.0025054437573999166, -0.026669718325138092, -0.0004908179398626089, 0.014288563281297684, 0.03424588963389397, 0.02221549302339554, 0.05753378942608833, -0.06982996314764023, 0.027635913342237473, 0.01797000877559185, -0.018420759588479996, 0.05327155068516731, -0.04095016047358513, 0.01095428317785263, 0.00012131164112361148, -0.058963920921087265, 0.02826031669974327, 0.008278083987534046, 0.05782318115234375, -0.037318821996450424, 0.064114049077034, 0.054424017667770386, -0.00035367143573239446, 0.001093402854166925, 0.08188522607088089, -0.012247620150446892, 0.04971594735980034, 0.01939386874437332, 0.06625375151634216, -0.04192834720015526, 0.023920293897390366, -0.09493526071310043, -0.11532953381538391, 0.007119785062968731, 0.007285668980330229, -0.02892688289284706, -0.0357491709291935, 0.0010712752118706703, -0.07868535816669464, 0.03359837830066681, -0.035262033343315125, -0.011942809447646141, 0.03640993684530258, 0.029040439054369926, 0.04638560116291046, 0.054957315325737], [0.05774678289890289, -0.010402124375104904, -0.05149657651782036, 0.04559226706624031, 0.02838689647614956, -0.05744408816099167, -0.06725785881280899, 0.019650015980005264, -0.07176629453897476, -0.08784931153059006, 0.060674767941236496, -0.12570199370384216, 0.06606728583574295, -0.0240920577198267, 0.029743900522589684, -0.03876007720828056, 0.027112944051623344, -0.0007740205619484186, -0.0023566256277263165, -0.09558964520692825, -0.026935433968901634, 0.04676526412367821, -0.0059463875368237495, -0.07095436751842499, 0.018392598256468773, -0.05240240693092346, 0.0012717675417661667, -0.01851431466639042, -0.04561719670891762, 0.020624933764338493, 0.014507733285427094, 0.04083390533924103, 0.020534580573439598, -0.033153802156448364, -0.02146831527352333, 0.07842115312814713, -0.005109183490276337, 0.016991497948765755, 0.13714857399463654, -0.06447886675596237, 0.03707525506615639, 0.020031532272696495, 0.0761532336473465, -0.14810727536678314, 0.06213071197271347, -0.022842027246952057, 0.04296398535370827, -0.021775083616375923, 0.09297218918800354, -0.03136899322271347, -0.0324678011238575, -0.032679684460163116, 0.05443906784057617, 0.010381710715591908, -0.02722848393023014, -0.06349045038223267, -0.015964198857545853, -0.01736096478998661, -0.0008080718107521534, 0.06726044416427612, -0.06651981920003891, 0.04133634269237518, 0.009173997677862644, 0.01055766548961401, 0.08206553757190704, -0.06566784530878067, -0.01012742891907692, -0.004259567707777023, 0.022602759301662445, -0.04715092480182648, 0.03149545565247536, -0.08047869056463242, 0.0004879514453932643, -0.02944314293563366, -0.024286892265081406, 0.010462941601872444, -0.008419816382229328, 0.1070069968700409, 0.08021901547908783, 0.017280008643865585, -0.08584237098693848, -0.040752895176410675, 0.04781347140669823, 0.045964572578668594, -0.07953030616044998, 0.05295217037200928, -0.011333707720041275, 0.012484831735491753, 0.056001611053943634, -0.03459816426038742, -0.00888611376285553, -0.0020465082488954067, -0.10255204886198044, 0.03396047651767731, -0.05582049861550331, -0.05623422935605049, -0.027278391644358635, -0.0016311623621731997, -0.07552538812160492, 0.03927796706557274, -0.050040606409311295, -0.058925412595272064, 0.024862220510840416, -0.006338211707770824, -0.07572441548109055, 0.00413505220785737, -0.012117581441998482, 0.060284558683633804, -0.03771742060780525, -0.020370453596115112, 0.002264765091240406, 0.01450103148818016, -0.04452234506607056, 0.019426394253969193, 0.054915279150009155, 0.09093025326728821, 0.10598060488700867, 0.018465997651219368, -0.13706746697425842, -0.026515811681747437, -0.016806963831186295, 0.016377197578549385, -0.045164771378040314, -0.03903447836637497, 0.012444301508367062, -0.06862201541662216, -0.001507878303527832, -4.299710746810286e-33, 0.03895031660795212, -0.011273018084466457, 0.002209114609286189, 0.011144421063363552, -0.014965313486754894, -0.04133852198719978, -0.07897300273180008, -0.025098511949181557, -0.009134110994637012, 0.058782123029232025, 0.0805826336145401, -0.06838130950927734, -0.023549361154437065, -0.06712307035923004, 0.07190892845392227, -0.04025830328464508, 0.04300813376903534, -0.05300172418355942, 0.03898252174258232, 0.00423056073486805, 0.025313304737210274, 0.01371794380247593, -0.0014445519773289561, -0.04251750186085701, -0.01588899828493595, -0.022760756313800812, 0.13718236982822418, 0.016013743355870247, 0.022659853100776672, 0.015924902632832527, 0.06804868578910828, -0.07065137475728989, -0.03937216103076935, -0.06540191173553467, 0.009525335393846035, 0.025062141939997673, -0.026728086173534393, -0.017473911866545677, 0.007726270239800215, 0.015553402714431286, -0.046163931488990784, 0.0395539328455925, -0.0308185126632452, 0.011631612665951252, 0.0038866803515702486, 0.0192117840051651, 0.002954505616798997, -0.04071514680981636, 0.01363577600568533, -0.009792226366698742, -0.06523381173610687, 0.04583611711859703, 0.05244791507720947, 0.010485546663403511, 0.030419521033763885, -0.008399790152907372, 0.060597777366638184, 0.017360080033540726, 0.02212226204574108, 0.11935224384069443, -0.015086637809872627, -0.016551801934838295, -0.0907745361328125, 0.05955326184630394, 0.004439993761479855, -0.008688629604876041, 0.06969160586595535, -0.025003919377923012, -0.007241696119308472, 0.06124015524983406, -0.04180112108588219, 0.02179071679711342, -0.025368429720401764, 0.07898540049791336, -0.020819487050175667, -0.0660514310002327, -0.01755988970398903, 0.02076016180217266, -0.018786277621984482, 0.04744694009423256, 0.02740366756916046, 0.026238853111863136, -0.07856956124305725, 0.10084817558526993, 0.06619248539209366, 0.06930004805326462, 0.002140406519174576, -0.017311958596110344, -0.0562625452876091, -0.10935090482234955, 0.029832780361175537, 0.08744484186172485, 0.02185329608619213, 0.02002980001270771, 0.05898851156234741, 1.4115472999563304e-33, -0.004263454116880894, -0.029103923588991165, 0.011523831635713577, -0.03015143610537052, -0.06942509859800339, -0.013323302380740643, 0.027915840968489647, 0.015112939290702343, -0.00591593561694026, -0.031437233090400696, -0.03204665333032608, 0.04953380674123764, -0.0313461609184742, 0.03268764168024063, 0.02662814036011696, 0.07373811304569244, 0.016417784616351128, 0.011838831007480621, -0.02284332923591137, -0.006210619118064642, -0.0009933041874319315, 0.06858798861503601, -0.00836400780826807, -0.051058296114206314, 0.022762445732951164, 0.024521123617887497, -0.07889008522033691, 0.09584421664476395, -0.03377845510840416, -0.004903570283204317, 0.02229863777756691, -0.08995157480239868, -0.05092886835336685, -0.044027961790561676, 0.026583287864923477, -0.007817866280674934, 0.02373969741165638, -0.01627478003501892, 0.05916665121912956, 0.061750903725624084, 0.042859308421611786, 0.023737814277410507, -0.007444694638252258, 0.08979665488004684, -0.030679261311888695, 0.012882654555141926, -0.05068431794643402, 0.05658116936683655, -0.022533796727657318, 0.052667826414108276, -0.008489161729812622, -0.025678813457489014, 0.017883772030472755, -0.07333396375179291, 0.046339236199855804, 0.0394219234585762, 0.029968416318297386, 0.08161536604166031, -0.04273412004113197, -0.07350602000951767, 0.02247702330350876, 0.025820806622505188, -0.00122654193546623, 0.06518871337175369, -0.08246921747922897, 0.027250804007053375, 0.09614770859479904, -0.07661707699298859, 0.09551724791526794, -0.054341912269592285, 0.06825032830238342, -0.03862060606479645, 0.020623568445444107, 0.03922301158308983, 0.0019259585533291101, 0.04410981386899948, 0.02516018971800804, 0.08420614898204803, 0.03307496756315231, 0.009556765668094158, 0.06122199073433876, 0.02933192066848278, 0.005420310888439417, -0.05335879698395729, 0.09371282160282135, 0.04119880869984627, -0.021878978237509727, -0.0013245207956060767, 0.137204110622406, -0.06381253153085709, 0.011089424602687359, 0.005826896987855434, 0.05432348698377609, -0.04013995826244354, -0.04416876286268234, -1.7537852059490433e-08, 0.02029397524893284, -0.10902255028486252, -0.1050446406006813, 0.017778823152184486, -0.08286068588495255, 0.012898959219455719, -0.04922650381922722, -0.02683694288134575, -0.018596375361084938, 0.04987009987235069, 0.11496768891811371, 0.1260429322719574, -0.10027877241373062, 0.000506280513945967, -0.10930418223142624, -0.009016076102852821, 0.006613679230213165, 0.05179917812347412, 0.01962285302579403, 0.0032651072833687067, -0.008182629942893982, -0.005500274710357189, -0.02085809037089348, -0.0016350053483620286, 0.01578601635992527, -0.07679761946201324, -0.06197253614664078, -0.03492132946848869, -0.023127742111682892, -0.06267821788787842, 0.0536140576004982, 0.04113467410206795, 0.00788783561438322, -0.055971670895814896, -0.06543838232755661, 0.012637702748179436, -0.02949085645377636, -0.011246129870414734, 0.03276459500193596, -0.013205609284341335, 0.017501141875982285, -0.016127824783325195, 0.09246791899204254, -0.04707090184092522, 0.008439386263489723, 0.01582351326942444, 0.08864741027355194, 0.010272952727973461, 0.06535638123750687, -0.11449342221021652, -0.10485586524009705, -0.035315051674842834, 0.08720540255308151, 0.03548458591103554, -0.03153805807232857, 0.027880525216460228, -0.07433278858661652, -0.08230290561914444, 0.09390641003847122, -0.02455180697143078, -0.011739250272512436, -0.06329245865345001, -0.038810860365629196, -0.08899082243442535], [0.10265804827213287, -0.03565650060772896, -0.04136911407113075, 0.05296860635280609, -0.015930410474538803, -0.028406599536538124, -0.055865705013275146, 0.010612678714096546, -0.04841778427362442, -0.019894329831004143, 0.036807939410209656, -0.0923859104514122, -0.06548137217760086, -0.039930228143930435, 0.016962984576821327, -0.027599044144153595, 0.022081531584262848, -0.026372181251645088, 0.06352850794792175, -0.047832097858190536, 0.003184323897585273, 0.024248415604233742, -0.0328911729156971, -0.05600019916892052, 0.06426023691892624, 0.05712901055812836, -0.010815895162522793, -0.08871059119701385, 0.0035242834128439426, -0.004998445976525545, 0.06874198466539383, -0.09960974752902985, -0.010600798763334751, -0.021348051726818085, 0.023431891575455666, 0.0005862993421033025, -0.041448380798101425, 0.04448973760008812, 0.11610176414251328, -0.08562441915273666, -0.043749965727329254, 0.014709294773638248, 0.04527371749281883, -0.048815418034791946, -0.024564651772379875, 0.0053456248715519905, 0.022447623312473297, 0.01515053678303957, -0.024511411786079407, -0.028583122417330742, 0.05840405449271202, -0.08941373974084854, -0.020054783672094345, 0.04679859057068825, -0.008112058974802494, 0.03783033788204193, -0.015389668755233288, 0.017980189993977547, -0.03002089448273182, 0.08206813037395477, -0.03893843665719032, 0.0722375139594078, -0.09422145783901215, 0.05213850736618042, 0.008704512380063534, -0.03700975701212883, 0.03312404453754425, -0.03873267397284508, -0.024074651300907135, -0.078099824488163, 0.07826589047908783, -0.07036915421485901, 0.025792209431529045, -0.05004596710205078, 0.04886561259627342, -0.1138889342546463, 0.01008966937661171, 0.11293917149305344, 0.03752575442194939, 0.07846438139677048, -0.0334906280040741, 0.01075897179543972, 0.03657517954707146, 0.03479514271020889, -0.0767439603805542, -0.02024483121931553, -0.04746292904019356, -0.01590321958065033, 0.038599733263254166, -0.09225846081972122, 0.02561870962381363, 0.0036871912889182568, -0.027331029996275902, 0.0653042197227478, -0.05682013928890228, 0.05434165149927139, -0.03275104984641075, 0.06558400392532349, -0.012507851235568523, 0.0408526286482811, -0.037708453834056854, -0.010205237194895744, -0.11072985082864761, 0.03789203241467476, -0.010061479173600674, 0.045107342302799225, 0.01022922620177269, 0.029695967212319374, 0.013497854582965374, -0.035357434302568436, -0.0071798451244831085, 0.03017767332494259, 0.031055571511387825, 0.05547536164522171, -0.001716487342491746, -0.04342932626605034, 0.020770981907844543, 0.001829044776968658, 0.018887154757976532, 0.04054263234138489, -0.02376081421971321, 0.04853253439068794, -0.03832899406552315, -0.017581727355718613, -0.051142770797014236, -0.06640099734067917, 0.0068475655280053616, -7.541241479010348e-33, 0.006451650056988001, -0.05855048820376396, 0.0535079687833786, -0.008375123143196106, -0.009107466787099838, -0.031651195138692856, 0.0255363080650568, -0.022222697734832764, -0.025973176583647728, -0.016738733276724815, 0.05136547237634659, -0.17456744611263275, -0.04002680629491806, -0.0037836753763258457, 0.06387081742286682, 0.06663485616445541, 0.01746780052781105, 0.006513564847409725, -0.00763325858861208, 0.05926773324608803, -0.01567365787923336, 0.0064031207002699375, -0.00388435204513371, -0.004628839902579784, 0.025908753275871277, 0.027270717546343803, 0.05082792788743973, 0.08509296923875809, 0.01071200892329216, 0.01862068846821785, 0.054557930678129196, 0.0260979812592268, -0.03130257874727249, 0.036791566759347916, -0.02486472576856613, 0.1060391515493393, 0.03026256337761879, -0.025572407990694046, -0.11092875152826309, 0.0021036972757428885, -0.014771205373108387, 0.04767249897122383, -0.08978348225355148, -0.009750112891197205, 0.0059541258960962296, 0.013598292134702206, -0.012827510014176369, 0.026279719546437263, 0.03972714766860008, -0.0022268127650022507, -0.08705905824899673, 0.07361038774251938, -0.0015124089550226927, 0.0475534126162529, 0.020812278613448143, 0.04343826696276665, 0.004766826517879963, 0.08018440753221512, 0.09712288528680801, 0.03771829232573509, -0.05835825949907303, -0.08925598114728928, -0.019347500056028366, 0.047320809215307236, 0.04171953350305557, 0.001735634170472622, 0.05943525210022926, -0.04791923612356186, 0.06484075635671616, -0.0006769238389097154, -0.08619773387908936, -0.007911293767392635, -0.04526101052761078, 0.09403343498706818, -0.05431735888123512, -0.023910699412226677, -0.0203847698867321, 0.046179451048374176, -0.013701876625418663, 0.02797100879251957, -0.047008588910102844, 0.010360801592469215, -0.031852565705776215, 0.020475296303629875, 0.10849017649888992, -0.03543348237872124, -0.0915326476097107, -0.05271122604608536, -0.06267854571342468, -0.0240661408752203, -0.0653907060623169, 0.026583166792988777, -0.0030339222867041826, 0.07653308659791946, 0.005757264792919159, 2.4505426039126608e-33, 0.04512534663081169, -0.07472243160009384, -0.07327394932508469, 0.016523463651537895, -0.08050572872161865, 0.07662930339574814, -0.043654270470142365, 0.012643525376915932, -0.022416284307837486, 0.07664794474840164, -0.06901102513074875, 0.028238559141755104, -0.034758977591991425, 0.06171051785349846, -0.04502994194626808, 0.04229625314474106, 0.04802441969513893, 0.016825493425130844, -0.014479171484708786, 0.026738561689853668, -0.02883192151784897, 0.1194237470626831, -0.09070742130279541, -0.019693205133080482, 0.020239923149347305, -0.05813037231564522, -0.12039405107498169, 0.0008165590115822852, -0.08890441060066223, -0.020659297704696655, -0.009094486013054848, -0.057449616491794586, 0.0005605284823104739, 0.012600300833582878, -0.04978763312101364, 0.061813946813344955, 0.045047033578157425, -0.053823668509721756, 0.062028225511312485, 0.12583322823047638, 0.027015531435608864, 0.08737627416849136, 0.079358771443367, 0.0697537362575531, -0.0008910719770938158, -0.042211540043354034, -0.03440733626484871, -0.05366899073123932, -0.02628827653825283, 0.02370072714984417, -0.015151784755289555, -0.058782052248716354, -0.03270139545202255, -0.023344721645116806, 0.07009296864271164, -0.021373266354203224, -0.021924950182437897, 0.06993348151445389, -0.012001719325780869, -0.08594303578138351, 0.01167040690779686, 0.045836519449949265, -0.0555681549012661, 0.09302323311567307, 0.0188379418104887, 0.008471660315990448, -0.04042404890060425, -0.008889748714864254, 0.06704170256853104, 0.0012144449865445495, 0.0111257778480649, -0.04704476520419121, 0.021485337987542152, 0.06838397681713104, -0.03283410519361496, -0.031251244246959686, 0.04673606529831886, 0.026748917996883392, 0.0010831126710399985, -0.02473798580467701, 0.08055229485034943, -0.03087415173649788, 0.0693650171160698, -0.05104857683181763, 0.041906826198101044, 0.024722032248973846, 0.080547995865345, 0.01111629232764244, 0.021324975416064262, 0.04222552850842476, 0.03386098891496658, 0.011753750964999199, 0.043770235031843185, -0.06040763854980469, 0.028639627620577812, -1.7173874766740482e-08, 0.07875756919384003, -0.04413091391324997, -0.12584999203681946, 0.03766237944364548, -0.07025237381458282, -0.031027566641569138, -0.0007180037791840732, 0.014714698307216167, -0.06232736259698868, 0.0492241308093071, -0.025805994868278503, 0.0221544336527586, -0.08653377741575241, 0.004910031799226999, -0.04614311456680298, -0.001330872648395598, -0.04567727446556091, 0.03249181807041168, -0.021614475175738335, 0.005406996700912714, -0.08019424974918365, 0.0311540886759758, 0.009185736067593098, 0.03865957632660866, 0.03124328702688217, -0.07326409220695496, 0.02882765233516693, 0.045070547610521317, 0.05871451273560524, -0.05182169750332832, -0.06521828472614288, 0.07973676174879074, 0.04476911574602127, -0.10364538431167603, -0.06720449030399323, 0.07077866792678833, 0.06734690070152283, -0.05093596875667572, 0.06356088072061539, -0.019591139629483223, -0.03920581936836243, -0.04193663224577904, 0.025300081819295883, -0.07737676054239273, 0.028312668204307556, 0.040470708161592484, 0.06091546267271042, 0.0015023333253338933, -0.0036609950475394726, -0.10326690226793289, -0.13887634873390198, -0.015770865604281425, 0.030211754143238068, -0.005027552135288715, -0.0018137912265956402, 0.00361436209641397, -0.08340244740247726, -0.0014375197933986783, 0.02274325303733349, -0.08098618686199188, 0.10943464934825897, 0.02732187509536743, 0.014082572422921658, -0.06613507121801376]]\n"
          ]
        }
      ]
    },
    {
      "cell_type": "code",
      "source": [],
      "metadata": {
        "id": "GGrXG7QQWdYB"
      },
      "execution_count": null,
      "outputs": []
    }
  ]
}